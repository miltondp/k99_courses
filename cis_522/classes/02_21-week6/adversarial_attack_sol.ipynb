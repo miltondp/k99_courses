{
 "cells": [
  {
   "cell_type": "code",
   "execution_count": 2,
   "metadata": {},
   "outputs": [],
   "source": [
    "import torch\n",
    "import torchvision\n",
    "import torch.nn as nn\n",
    "from tqdm import tqdm\n",
    "import torchvision.transforms as transforms\n",
    "import torch.optim as optim\n",
    "import matplotlib.pyplot as plt"
   ]
  },
  {
   "cell_type": "code",
   "execution_count": 3,
   "metadata": {},
   "outputs": [],
   "source": [
    "class View(nn.Module):\n",
    "    def __init__(self,o):\n",
    "        super().__init__()\n",
    "        self.o = o\n",
    "\n",
    "    def forward(self,x):\n",
    "        return x.view(-1, self.o)"
   ]
  },
  {
   "attachments": {},
   "cell_type": "markdown",
   "metadata": {},
   "source": [
    "## Define Network"
   ]
  },
  {
   "cell_type": "code",
   "execution_count": 4,
   "metadata": {},
   "outputs": [],
   "source": [
    "class CNN(nn.Module):\n",
    "    def __init__(self, c1=96, c2= 192):\n",
    "        super().__init__()\n",
    "        dropout_prob = 0.5\n",
    "\n",
    "        def convbn(channel_in, channel_out, kernel_sz, stride_sz=1, padding=0):\n",
    "            '''\n",
    "            build a conv + bn block\n",
    "            operations are in the following order:\n",
    "            1. conv2d\n",
    "            2. relu\n",
    "            3. batchnorm\n",
    "\n",
    "            use specified input channels (channel_in), output channels (channel_out), kernel size (kernel_sz),\n",
    "            stride size (stride_sz), padding (padding)\n",
    "            '''\n",
    "            return nn.Sequential(\n",
    "                nn.Conv2d(\n",
    "                    channel_in,\n",
    "                    channel_out,\n",
    "                    kernel_sz,\n",
    "                    stride=stride_sz,\n",
    "                    padding=padding\n",
    "                ),\n",
    "                nn.ReLU(True),\n",
    "                nn.BatchNorm2d(channel_out)\n",
    "            )\n",
    "\n",
    "        self.m = nn.Sequential(\n",
    "            nn.Dropout(0.2),\n",
    "            convbn(3,c1,3,1,1),\n",
    "            convbn(c1,c1,3,1,1),\n",
    "            convbn(c1,c1,3,2,1),\n",
    "            nn.Dropout(dropout_prob),\n",
    "            convbn(c1,c2,3,1,1),\n",
    "            convbn(c2,c2,3,1,1),\n",
    "            convbn(c2,c2,3,2,1),\n",
    "            nn.Dropout(dropout_prob),\n",
    "            convbn(c2,c2,3,1,1),\n",
    "            convbn(c2,c2,3,1,1),\n",
    "            convbn(c2,10,1,1),\n",
    "            nn.AvgPool2d(8),\n",
    "            View(10)\n",
    "            )\n",
    "\n",
    "        # print the number of parameters in this network\n",
    "        print('Num parameters: ', sum([p.numel() for p in self.m.parameters()]))\n",
    "\n",
    "    def forward(self, x):\n",
    "        return self.m(x)"
   ]
  },
  {
   "attachments": {},
   "cell_type": "markdown",
   "metadata": {},
   "source": [
    "## Training Loop"
   ]
  },
  {
   "cell_type": "code",
   "execution_count": 11,
   "metadata": {},
   "outputs": [],
   "source": [
    "def train_nn(net, optimizer, criterion, train_loader, test_loader, epochs, model_name, plot, device):\n",
    "    model = net.to(device)\n",
    "    total_step = len(train_loader)\n",
    "    train_loss_values = []\n",
    "    train_error = []\n",
    "    val_loss_values = []\n",
    "    val_error = []\n",
    "    best_acc = 0\n",
    "    total_iter = 0\n",
    "    flag1, flag2, flag3 = True, True, True\n",
    "    for epoch in range(epochs):\n",
    "\n",
    "        correct = 0\n",
    "        total = 0\n",
    "        running_loss = 0.0\n",
    "\n",
    "        for i, (images, labels) in enumerate(train_loader):\n",
    "            # Move tensors to configured device\n",
    "            images = images.to(device)\n",
    "            labels = labels.to(device)\n",
    "\n",
    "            #Forward Pass\n",
    "            outputs = model(images)\n",
    "            loss = criterion(outputs, labels)\n",
    "            optimizer.zero_grad()\n",
    "            loss.backward()\n",
    "            running_loss += loss.item()\n",
    "            _, predicted = torch.max(outputs.data, 1)\n",
    "\n",
    "            total += labels.size(0)\n",
    "            total_iter += labels.size(0)\n",
    "\n",
    "            # manual learning rate scheduling\n",
    "            if total_iter > 50000 and flag1:\n",
    "                for op_params in optimizer.param_groups:\n",
    "                    op_params['lr'] = 0.01\n",
    "                    flag1 = False\n",
    "                    print('lr_rate adjusted to 0.01')\n",
    "            elif total_iter > 100000 and flag2:\n",
    "                for op_params in optimizer.param_groups:\n",
    "                    op_params['lr'] = 0.001\n",
    "                    flag2 = False\n",
    "                    print('lr_rate adjusted to 0.001')\n",
    "            elif total_iter > 500000 and flag3:\n",
    "                for op_params in optimizer.param_groups:\n",
    "                    op_params['lr'] = 0.0001\n",
    "                    flag3 = False\n",
    "                    print('lr_rate adjusted to 0.0001')\n",
    "\n",
    "            correct += (predicted == labels).sum().item()\n",
    "            optimizer.step()\n",
    "            if (i+1) % 1000 == 0:\n",
    "                print ('Epoch [{}/{}], Step [{}/{}], Loss: {:.4f}'.format(epoch+1, epochs, i+1, total_step, loss.item()))\n",
    "            if plot:\n",
    "                info = { ('loss_' + model_name): loss.item() }\n",
    "\n",
    "        train_loss_values.append(running_loss)\n",
    "        train_error.append(100-100*correct/total)\n",
    "\n",
    "        model.eval()\n",
    "        with torch.no_grad():\n",
    "            correct = 0\n",
    "            total = 0\n",
    "            for i, (images, labels) in enumerate(test_loader):\n",
    "                images = images.to(device)\n",
    "                labels = labels.to(device)\n",
    "                outputs = model(images)\n",
    "                _, predicted = torch.max(outputs.data, 1)\n",
    "                total += labels.size(0)\n",
    "                correct += (predicted == labels).sum().item()\n",
    "\n",
    "        cur_acc = 100 * correct / total\n",
    "        print('Accuracy of the network on the test images: {} %'.format(cur_acc))\n",
    "        val_error.append(100-100*correct/total)\n",
    "        val_loss_values.append(running_loss)\n",
    "\n",
    "        if cur_acc > best_acc:\n",
    "            best_acc = cur_acc\n",
    "            torch.save(model.state_dict(), \"./best_model.pth\")\n",
    "\n",
    "    return val_error,val_loss_values,train_error,train_loss_values"
   ]
  },
  {
   "attachments": {},
   "cell_type": "markdown",
   "metadata": {},
   "source": [
    "## Train Network"
   ]
  },
  {
   "cell_type": "code",
   "execution_count": 14,
   "metadata": {},
   "outputs": [
    {
     "name": "stdout",
     "output_type": "stream",
     "text": [
      "cuda\n",
      "Files already downloaded and verified\n",
      "Files already downloaded and verified\n",
      "Num parameters:  1667166\n",
      "Epoch [1/5], Step [1000/3125], Loss: 1.7306\n",
      "Epoch [1/5], Step [2000/3125], Loss: 1.8108\n",
      "Epoch [1/5], Step [3000/3125], Loss: 1.7933\n",
      "Accuracy of the network on the test images: 41.7 %\n",
      "lr_rate adjusted to 0.01\n",
      "Epoch [2/5], Step [1000/3125], Loss: 1.3189\n",
      "Epoch [2/5], Step [2000/3125], Loss: 0.9589\n",
      "Epoch [2/5], Step [3000/3125], Loss: 1.2565\n",
      "Accuracy of the network on the test images: 61.12 %\n",
      "lr_rate adjusted to 0.001\n",
      "Epoch [3/5], Step [1000/3125], Loss: 0.9306\n",
      "Epoch [3/5], Step [2000/3125], Loss: 0.6842\n",
      "Epoch [3/5], Step [3000/3125], Loss: 0.7066\n",
      "Accuracy of the network on the test images: 67.43 %\n",
      "Epoch [4/5], Step [1000/3125], Loss: 1.4857\n",
      "Epoch [4/5], Step [2000/3125], Loss: 0.9604\n",
      "Epoch [4/5], Step [3000/3125], Loss: 0.5542\n",
      "Accuracy of the network on the test images: 68.7 %\n",
      "Epoch [5/5], Step [1000/3125], Loss: 0.7369\n",
      "Epoch [5/5], Step [2000/3125], Loss: 0.5233\n",
      "Epoch [5/5], Step [3000/3125], Loss: 0.6210\n",
      "Accuracy of the network on the test images: 70.41 %\n"
     ]
    }
   ],
   "source": [
    "device = torch.device('cuda' if torch.cuda.is_available() else 'cpu')   \n",
    "print(device)\n",
    "\n",
    "transform = transforms.Compose([transforms.ToTensor(), transforms.Normalize((0.5, 0.5, 0.5), (0.5, 0.5, 0.5))])\n",
    "\n",
    "trainset = torchvision.datasets.CIFAR10(root='./data', train=True,\n",
    "                                        download=True, transform=transform)\n",
    "trainloader = torch.utils.data.DataLoader(trainset, batch_size=16, shuffle=True)\n",
    "\n",
    "testset = torchvision.datasets.CIFAR10(root='./data', train=False, download=True, transform=transform)\n",
    "testloader = torch.utils.data.DataLoader(testset, batch_size=16, shuffle=False)\n",
    "\n",
    "classes = ('plane', 'car', 'bird', 'cat', 'deer', 'dog', 'frog', 'horse', 'ship', 'truck')\n",
    "\n",
    "model = CNN().to(device)\n",
    "epochs = 5\n",
    "criterion = nn.CrossEntropyLoss()\n",
    "optimizer = optim.SGD(\n",
    "    model.parameters(), \n",
    "    lr=0.1, \n",
    "    momentum=0.9, \n",
    "    weight_decay=1e-3, \n",
    "    nesterov=True\n",
    ")\n",
    "val_error,val_loss_values,train_error,train_loss_values= train_nn(\n",
    "    model, \n",
    "    optimizer, \n",
    "    criterion, \n",
    "    trainloader, \n",
    "    testloader, \n",
    "    epochs, \n",
    "    'cnn_curve', \n",
    "    True,\n",
    "    device\n",
    ")"
   ]
  },
  {
   "attachments": {},
   "cell_type": "markdown",
   "metadata": {},
   "source": [
    "## Adversarial Attack"
   ]
  },
  {
   "cell_type": "code",
   "execution_count": 15,
   "metadata": {},
   "outputs": [
    {
     "name": "stdout",
     "output_type": "stream",
     "text": [
      "Num parameters:  1667166\n"
     ]
    },
    {
     "name": "stderr",
     "output_type": "stream",
     "text": [
      "100%|██████████| 10000/10000 [01:37<00:00, 102.17it/s]"
     ]
    },
    {
     "name": "stdout",
     "output_type": "stream",
     "text": [
      "\n",
      "Accuracy after 1-step perturbation: 0.1\n"
     ]
    },
    {
     "name": "stderr",
     "output_type": "stream",
     "text": [
      "\n"
     ]
    }
   ],
   "source": [
    "model = CNN().to(device)\n",
    "model.load_state_dict(torch.load('./best_model.pth'))\n",
    "\n",
    "criterion = nn.CrossEntropyLoss()\n",
    "\n",
    "eps = 2e-4\n",
    "correct = 0\n",
    "total = 0\n",
    "\n",
    "for img, lab in tqdm(testset):\n",
    "    lab = torch.tensor(lab).type(torch.LongTensor)\n",
    "    img, lab = img.to(device), lab.to(device)\n",
    "    img.requires_grad = True\n",
    "    yh = model(img.unsqueeze(0))\n",
    "    loss = criterion(yh, lab.unsqueeze(0))\n",
    "    loss.backward()\n",
    "    dx = img.grad.data.clone()\n",
    "    img = img.detach()\n",
    "    img += eps * torch.sign(dx)\n",
    "    y_perturbed = model(img.unsqueeze(0))\n",
    "\n",
    "    if torch.argmax(y_perturbed) == lab:\n",
    "        correct += 1\n",
    "    total += 1\n",
    "\n",
    "print(f\"\\nAccuracy after 1-step perturbation: {correct / total}\")"
   ]
  },
  {
   "cell_type": "code",
   "execution_count": null,
   "metadata": {},
   "outputs": [],
   "source": []
  }
 ],
 "metadata": {
  "kernelspec": {
   "display_name": "causal",
   "language": "python",
   "name": "python3"
  },
  "language_info": {
   "codemirror_mode": {
    "name": "ipython",
    "version": 3
   },
   "file_extension": ".py",
   "mimetype": "text/x-python",
   "name": "python",
   "nbconvert_exporter": "python",
   "pygments_lexer": "ipython3",
   "version": "3.10.9"
  },
  "orig_nbformat": 4,
  "vscode": {
   "interpreter": {
    "hash": "61df00f75709ce1d2b114799c343599b3f8e8ff3a2a2daa60e09d851108fab70"
   }
  }
 },
 "nbformat": 4,
 "nbformat_minor": 2
}
