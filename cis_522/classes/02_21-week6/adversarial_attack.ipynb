{
  "cells": [
    {
      "cell_type": "markdown",
      "metadata": {
        "id": "view-in-github",
        "colab_type": "text"
      },
      "source": [
        "<a href=\"https://colab.research.google.com/github/miltondp/k99_courses/blob/main/cis_522/classes/02_21-week6/adversarial_attack.ipynb\" target=\"_parent\"><img src=\"https://colab.research.google.com/assets/colab-badge.svg\" alt=\"Open In Colab\"/></a>"
      ]
    },
    {
      "cell_type": "code",
      "execution_count": 1,
      "metadata": {
        "id": "PDhRd4xsXupv"
      },
      "outputs": [],
      "source": [
        "import torch\n",
        "import torchvision\n",
        "import torch.nn as nn\n",
        "from tqdm import tqdm\n",
        "import torchvision.transforms as transforms\n",
        "import torch.optim as optim\n",
        "import matplotlib.pyplot as plt"
      ]
    },
    {
      "cell_type": "code",
      "execution_count": 2,
      "metadata": {
        "id": "aSWyP8jvXupz"
      },
      "outputs": [],
      "source": [
        "class View(nn.Module):\n",
        "    def __init__(self,o):\n",
        "        super().__init__()\n",
        "        self.o = o\n",
        "\n",
        "    def forward(self,x):\n",
        "        return x.view(-1, self.o)"
      ]
    },
    {
      "cell_type": "markdown",
      "metadata": {
        "id": "eupVJd29Xupz"
      },
      "source": [
        "## Define Network"
      ]
    },
    {
      "cell_type": "code",
      "execution_count": 11,
      "metadata": {
        "id": "FF8BP77PXup0"
      },
      "outputs": [],
      "source": [
        "class CNN(nn.Module):\n",
        "    def __init__(self, c1=96, c2= 192):\n",
        "        super().__init__()\n",
        "        dropout_prob = 0.5\n",
        "\n",
        "        def convbn(channel_in, channel_out, kernel_sz, stride_sz=1, padding=0):\n",
        "            '''\n",
        "            build a conv + bn block\n",
        "            operations are in the following order:\n",
        "            1. conv2d\n",
        "            2. relu\n",
        "            3. batchnorm\n",
        "\n",
        "            use specified input channels (channel_in), output channels (channel_out), kernel size (kernel_sz),\n",
        "            stride size (stride_sz), padding (padding)\n",
        "            '''\n",
        "            return nn.Sequential(\n",
        "                nn.Conv2d(\n",
        "                    in_channels=channel_in,\n",
        "                    out_channels=channel_out,\n",
        "                    kernel_size=kernel_sz,\n",
        "                    stride=stride_sz,\n",
        "                    padding=padding\n",
        "                ),\n",
        "                nn.ReLU(),\n",
        "                nn.BatchNorm2d(num_features=channel_out),\n",
        "            )\n",
        "\n",
        "        '''\n",
        "        construct the network with the following layers:\n",
        "        block 1: \n",
        "        input channel: 3, output channel: c1, kernel_size: 3, stride: 1, padding: 1\n",
        "        block 2: \n",
        "        input channel: c1, output channel: c1, kernel_size: 3, stride: 1, padding: 1\n",
        "        block 3: \n",
        "        input channel: c1, output channel: c1, kernel_size: 3, stride: 2, padding: 1\n",
        "        DROPOUT\n",
        "        \n",
        "        block 4: \n",
        "        input channel: c1, output channel: c2, kernel_size: 3, stride: 1, padding: 1\n",
        "        block 5: \n",
        "        input channel: c2, output channel: c2, kernel_size: 3, stride: 1, padding: 1\n",
        "        block 6: \n",
        "        input channel: c2, output channel: c2, kernel_size: 3, stride: 2, padding: 1\n",
        "        DROPOUT\n",
        "\n",
        "        block 4: \n",
        "        input channel: c2, output channel: c2, kernel_size: 3, stride: 1, padding: 1\n",
        "        block 5: \n",
        "        input channel: c2, output channel: c2, kernel_size: 3, stride: 1, padding: 1\n",
        "        block 6: \n",
        "        input channel: c2, output channel: 10, kernel_size: 10, stride: 1, padding: 1\n",
        "        AVGPOOL\n",
        "        View(10)\n",
        "        '''\n",
        "        self.m = nn.Sequential(\n",
        "            convbn(3, c1, 3, 1, 1),\n",
        "            convbn(c1, c1, 3, 1, 1),\n",
        "            convbn(c1, c1, 3, 2, 1),\n",
        "            nn.Dropout(0.2),\n",
        "\n",
        "            convbn(c1, c2, 3, 1, 1),\n",
        "            convbn(c2, c2, 3, 1, 1),\n",
        "            convbn(c2, c2, 3, 2, 1),\n",
        "            nn.Dropout(0.5),\n",
        "\n",
        "            convbn(c2, c2, 3, 1, 1),\n",
        "            convbn(c2, c2, 3, 1, 1),\n",
        "            convbn(c2, 10, 1, 1, 1),\n",
        "            nn.AvgPool2d(8),\n",
        "            View(10),\n",
        "          )\n",
        "\n",
        "        # print the number of parameters in this network\n",
        "        print('Num parameters: ', sum([p.numel() for p in self.m.parameters()]))\n",
        "\n",
        "    def forward(self, x):\n",
        "        return self.m(x)"
      ]
    },
    {
      "cell_type": "markdown",
      "metadata": {
        "id": "b8Ms7w6dXup2"
      },
      "source": [
        "## Training Loop"
      ]
    },
    {
      "cell_type": "code",
      "execution_count": 19,
      "metadata": {
        "id": "nK7wx1SSXup2"
      },
      "outputs": [],
      "source": [
        "def train_nn(net, optimizer, criterion, train_loader, test_loader, epochs, model_name, plot, device):\n",
        "    model = net.to(device)\n",
        "    total_step = len(train_loader)\n",
        "    train_loss_values = []\n",
        "    train_error = []\n",
        "    val_loss_values = []\n",
        "    val_error = []\n",
        "    best_acc = 0\n",
        "    total_iter = 0\n",
        "    flag1, flag2, flag3 = True, True, True\n",
        "\n",
        "    for epoch in range(epochs):\n",
        "\n",
        "        correct = 0\n",
        "        total = 0\n",
        "        running_loss = 0.0\n",
        "\n",
        "        for i, (images, labels) in enumerate(train_loader):\n",
        "            # Move tensors to configured device\n",
        "            images = images.to(device)\n",
        "            labels = labels.to(device)\n",
        "\n",
        "            #Forward Pass\n",
        "            outputs = model(images)\n",
        "            loss = criterion(outputs, labels)\n",
        "            optimizer.zero_grad()\n",
        "            loss.backward()\n",
        "\n",
        "            running_loss += loss.item()\n",
        "            _, predicted = torch.max(outputs.data, 1)\n",
        "\n",
        "            total += labels.size(0)\n",
        "            total_iter += labels.size(0)\n",
        "\n",
        "            # manual learning rate scheduling\n",
        "            if total_iter > 50000 and flag1:\n",
        "                for op_params in optimizer.param_groups:\n",
        "                    op_params['lr'] = 0.01\n",
        "                    flag1 = False\n",
        "                    print('lr_rate adjusted to 0.01')\n",
        "            elif total_iter > 100000 and flag2:\n",
        "                for op_params in optimizer.param_groups:\n",
        "                    op_params['lr'] = 0.001\n",
        "                    flag2 = False\n",
        "                    print('lr_rate adjusted to 0.001')\n",
        "            elif total_iter > 500000 and flag3:\n",
        "                for op_params in optimizer.param_groups:\n",
        "                    op_params['lr'] = 0.0001\n",
        "                    flag3 = False\n",
        "                    print('lr_rate adjusted to 0.0001')\n",
        "\n",
        "            correct += (predicted == labels).sum().item()\n",
        "\n",
        "            optimizer.step()\n",
        "\n",
        "            if (i+1) % 1000 == 0:\n",
        "                print ('Epoch [{}/{}], Step [{}/{}], Loss: {:.4f}'.format(epoch+1, epochs, i+1, total_step, loss.item()))\n",
        "            if plot:\n",
        "                info = { ('loss_' + model_name): loss.item() }\n",
        "\n",
        "        train_loss_values.append(running_loss)\n",
        "        train_error.append(100-100*correct/total)\n",
        "\n",
        "        model.eval()\n",
        "        with torch.no_grad():\n",
        "          best_model = None\n",
        "          best_model_acc = 0.0\n",
        "          best_model_loss = 0.0\n",
        "\n",
        "          for i, (images, labels) in enumerate(test_loader):\n",
        "              # Move tensors to configured device\n",
        "              images = images.to(device)\n",
        "              labels = labels.to(device)\n",
        "\n",
        "              #Forward Pass\n",
        "              outputs = model.forward(images)\n",
        "\n",
        "              # val_running_loss += loss.item()\n",
        "              _, predicted = torch.max(outputs.data, 1)\n",
        "\n",
        "              correct += (predicted == labels).sum().item()\n",
        "              if (i+1) % 1000 == 0:\n",
        "                  # print ('Epoch [{}/{}], Step [{}/{}], Loss: {:.4f}'.format(epoch+1, epochs, i+1, total_step, loss.item()))\n",
        "                  print ('Epoch [{}/{}], Step [{}/{}]'.format(epoch+1, epochs, i+1, total_step))\n",
        "              # if plot:\n",
        "              #     info = { ('loss_' + model_name): loss.item() }\n",
        "\n",
        "        acc = 100 * correct/total\n",
        "\n",
        "        if acc > best_model_acc:\n",
        "          print(f\"New best model with accuracy: {acc}\")\n",
        "          best_model_acc = acc\n",
        "\n",
        "          output_path = \"./best_model.pth\"\n",
        "          torch.save(model.state_dict(), output_path)\n",
        "\n",
        "          best_model = model.state_dict()\n",
        "\n",
        "        # val_loss_values.append(val_running_loss)\n",
        "        val_error.append(100-acc)\n",
        "\n",
        "        # write an evaluation script\n",
        "        # compute the overall testing acc of the current model\n",
        "        # save the best model state_dict\n",
        "    return val_error,val_loss_values,train_error,train_loss_values"
      ]
    },
    {
      "cell_type": "markdown",
      "metadata": {
        "id": "S_hVTC30Xup4"
      },
      "source": [
        "## Train Network"
      ]
    },
    {
      "cell_type": "code",
      "execution_count": 20,
      "metadata": {
        "id": "ESkwWfWSXup4",
        "outputId": "16a219fc-b771-46d4-e71b-b820f5a63fb8",
        "colab": {
          "base_uri": "https://localhost:8080/"
        }
      },
      "outputs": [
        {
          "output_type": "stream",
          "name": "stdout",
          "text": [
            "cuda\n",
            "Files already downloaded and verified\n",
            "Files already downloaded and verified\n",
            "Num parameters:  1667166\n",
            "Epoch [1/5], Step [1000/3125], Loss: 1.7793\n",
            "Epoch [1/5], Step [2000/3125], Loss: 1.3729\n",
            "Epoch [1/5], Step [3000/3125], Loss: 1.8135\n",
            "New best model with accuracy: 47.126\n",
            "lr_rate adjusted to 0.01\n",
            "Epoch [2/5], Step [1000/3125], Loss: 1.6715\n",
            "Epoch [2/5], Step [2000/3125], Loss: 1.5117\n",
            "Epoch [2/5], Step [3000/3125], Loss: 0.8063\n",
            "New best model with accuracy: 74.666\n",
            "lr_rate adjusted to 0.001\n",
            "Epoch [3/5], Step [1000/3125], Loss: 0.9498\n",
            "Epoch [3/5], Step [2000/3125], Loss: 1.2127\n",
            "Epoch [3/5], Step [3000/3125], Loss: 1.0684\n",
            "New best model with accuracy: 84.012\n",
            "Epoch [4/5], Step [1000/3125], Loss: 0.8407\n",
            "Epoch [4/5], Step [2000/3125], Loss: 0.8878\n",
            "Epoch [4/5], Step [3000/3125], Loss: 1.1024\n",
            "New best model with accuracy: 85.894\n",
            "Epoch [5/5], Step [1000/3125], Loss: 0.9064\n",
            "Epoch [5/5], Step [2000/3125], Loss: 0.9617\n",
            "Epoch [5/5], Step [3000/3125], Loss: 0.9806\n",
            "New best model with accuracy: 87.178\n"
          ]
        }
      ],
      "source": [
        "device = torch.device('cuda' if torch.cuda.is_available() else 'cpu')   \n",
        "print(device)\n",
        "\n",
        "transform = transforms.Compose([transforms.ToTensor(), transforms.Normalize((0.5, 0.5, 0.5), (0.5, 0.5, 0.5))])\n",
        "\n",
        "trainset = torchvision.datasets.CIFAR10(root='./data', train=True,\n",
        "                                        download=True, transform=transform)\n",
        "trainloader = torch.utils.data.DataLoader(trainset, batch_size=16, shuffle=True)\n",
        "\n",
        "testset = torchvision.datasets.CIFAR10(root='./data', train=False, download=True, transform=transform)\n",
        "testloader = torch.utils.data.DataLoader(testset, batch_size=16, shuffle=False)\n",
        "\n",
        "classes = ('plane', 'car', 'bird', 'cat', 'deer', 'dog', 'frog', 'horse', 'ship', 'truck')\n",
        "\n",
        "model = CNN().to(device)\n",
        "epochs = 5\n",
        "criterion = nn.CrossEntropyLoss()\n",
        "optimizer = optim.SGD(\n",
        "    model.parameters(), \n",
        "    lr=0.1, \n",
        "    momentum=0.9, \n",
        "    weight_decay=1e-3, \n",
        "    nesterov=True\n",
        ")\n",
        "val_error,val_loss_values,train_error,train_loss_values= train_nn(\n",
        "    model, \n",
        "    optimizer, \n",
        "    criterion, \n",
        "    trainloader, \n",
        "    testloader, \n",
        "    epochs, \n",
        "    'cnn_curve', \n",
        "    True,\n",
        "    device\n",
        ")"
      ]
    },
    {
      "cell_type": "markdown",
      "metadata": {
        "id": "cXKR4E39Xup5"
      },
      "source": [
        "## Adversarial Attack"
      ]
    },
    {
      "cell_type": "code",
      "execution_count": null,
      "metadata": {
        "id": "_0wREfzxXup5"
      },
      "outputs": [],
      "source": [
        "model = CNN().to(device)\n",
        "model.load_state_dict(torch.load('./best_model.pth'))\n",
        "\n",
        "criterion = nn.CrossEntropyLoss()\n",
        "\n",
        "eps = 2e-4\n",
        "correct = 0\n",
        "total = 0\n",
        "\n",
        "for img, lab in tqdm(testset):\n",
        "    lab = torch.tensor(lab).type(torch.LongTensor)\n",
        "    \n",
        "    # move data to cuda\n",
        "    img = ...\n",
        "    lab = ...\n",
        "\n",
        "    # require grad for the input (img)\n",
        "    ...\n",
        "\n",
        "    # get gradient w.r.t. in input (img)\n",
        "    # hint: use img.grad.data.clone() to get the gradient w.r.t. the input (img)\n",
        "    # define the loss w.r.t. input as 'dldx'\n",
        "    ...\n",
        "\n",
        "    # apply purturbation to the input (img)\n",
        "    img += eps * torch.sign(dldx)\n",
        "\n",
        "    # feed the purturbed image back to the model\n",
        "    y_perturbed = model(img.unsqueeze(0))\n",
        "    if torch.argmax(y_perturbed) == lab:\n",
        "        correct += 1\n",
        "    total += 1\n",
        "\n",
        "print(f\"\\nAccuracy after 1-step perturbation: {correct / total}\")"
      ]
    }
  ],
  "metadata": {
    "kernelspec": {
      "display_name": "causal",
      "language": "python",
      "name": "python3"
    },
    "language_info": {
      "name": "python",
      "version": "3.10.9"
    },
    "orig_nbformat": 4,
    "vscode": {
      "interpreter": {
        "hash": "61df00f75709ce1d2b114799c343599b3f8e8ff3a2a2daa60e09d851108fab70"
      }
    },
    "colab": {
      "provenance": [],
      "include_colab_link": true
    },
    "accelerator": "GPU",
    "gpuClass": "standard"
  },
  "nbformat": 4,
  "nbformat_minor": 0
}