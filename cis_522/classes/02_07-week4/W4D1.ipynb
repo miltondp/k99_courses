{
  "cells": [
    {
      "cell_type": "markdown",
      "metadata": {
        "id": "view-in-github",
        "colab_type": "text"
      },
      "source": [
        "<a href=\"https://colab.research.google.com/github/miltondp/k99_courses/blob/main/cis_522/classes/02_07-week4/W4D1.ipynb\" target=\"_parent\"><img src=\"https://colab.research.google.com/assets/colab-badge.svg\" alt=\"Open In Colab\"/></a>"
      ]
    },
    {
      "cell_type": "markdown",
      "metadata": {
        "id": "vMFtkpqfCN2f"
      },
      "source": [
        "# CIS-522 Week 4 Part 1\n",
        "# Optimization\n",
        "\n",
        "__Instructor__: Lyle Ungar\n",
        "\n",
        "__Content creator:__ Rongguang Wang\n",
        "\n",
        "__Content reviewer:__ Pooja Consul, Ann-Katrin Reuel, Kausik Sivakumar, Jordan Matelsky\n"
      ]
    },
    {
      "cell_type": "code",
      "execution_count": 1,
      "metadata": {
        "cellView": "form",
        "id": "cxCD0oTfKpXY"
      },
      "outputs": [],
      "source": [
        "#@markdown What is your Pennkey and pod? (text, not numbers, e.g. bfranklin)\n",
        "my_pennkey = 'miltondp' #@param {type:\"string\"}\n",
        "my_pod = \"Select\"  # @param [\"Factorial Ferrets\", \"Causal Crows\", \"Recursive Roosters\", \"Bayesian Bighorns\", \"Probabilistic Pronghorns\", \"Hashing Hares\", \"Multiplicative Mustangs\", \"Curiosity Capybaras\", \"Subspace Salamanders\"]\n",
        "my_email = 'miltondp@gmail.com' #@param {type:\"string\"}\n",
        "tutorial = 'W4D1'\n",
        "\n",
        "\n",
        "# start timing\n",
        "import time\n",
        "try:t0;\n",
        "except NameError: t0 = time.time()"
      ]
    },
    {
      "cell_type": "markdown",
      "metadata": {
        "id": "vNsW36ZEQNB4"
      },
      "source": [
        "---\n",
        "# Intro: Optimization and why it matters\n"
      ]
    },
    {
      "cell_type": "code",
      "execution_count": 2,
      "metadata": {
        "cellView": "form",
        "colab": {
          "base_uri": "https://localhost:8080/",
          "height": 519
        },
        "id": "aUg_CzvgDDp0",
        "outputId": "17e16a7e-3292-4c59-a19b-1f4d2f9c58f4"
      },
      "outputs": [
        {
          "output_type": "stream",
          "name": "stdout",
          "text": [
            "Video available at https://youtube.com/watch?v=cqQ7dVSYn7c\n"
          ]
        },
        {
          "output_type": "execute_result",
          "data": {
            "text/plain": [
              "<IPython.lib.display.YouTubeVideo at 0x7fab0827c130>"
            ],
            "text/html": [
              "\n",
              "        <iframe\n",
              "            width=\"854\"\n",
              "            height=\"480\"\n",
              "            src=\"https://www.youtube.com/embed/cqQ7dVSYn7c?fs=1\"\n",
              "            frameborder=\"0\"\n",
              "            allowfullscreen\n",
              "        ></iframe>\n",
              "        "
            ],
            "image/jpeg": "[encoded data removed]"
          },
          "metadata": {},
          "execution_count": 2
        }
      ],
      "source": [
        "#@title Video : Introduction video\n",
        "from IPython.display import YouTubeVideo\n",
        "video = YouTubeVideo(id=\"cqQ7dVSYn7c\", width=854, height=480, fs=1)\n",
        "print(\"Video available at https://youtube.com/watch?v=\" + video.id)\n",
        "\n",
        "import time\n",
        "try: t0;\n",
        "except NameError: t0=time.time()\n",
        "\n",
        "video"
      ]
    },
    {
      "cell_type": "markdown",
      "metadata": {
        "id": "RV8-x3YyGDRw"
      },
      "source": [
        "---\n",
        "# Setup\n",
        "Note that some of the code for today can take up to an hour to run. We have therefore \"hidden\" that code and shown the resulting outputs."
      ]
    },
    {
      "cell_type": "code",
      "execution_count": 3,
      "metadata": {
        "id": "upSbWUROGFvk"
      },
      "outputs": [],
      "source": [
        "# imports\n",
        "from __future__ import print_function\n",
        "import torch\n",
        "import torch.nn as nn\n",
        "import torch.nn.functional as F\n",
        "import torch.optim as optim\n",
        "from torchvision import datasets, transforms\n",
        "from torch.optim.lr_scheduler import StepLR\n",
        "from torch.utils.data import Dataset\n",
        "import time\n",
        "import numpy as np\n",
        "import matplotlib.pyplot as plt\n",
        "from collections import defaultdict\n",
        "import requests\n",
        "import io\n",
        "from urllib.request import urlopen\n"
      ]
    },
    {
      "cell_type": "code",
      "execution_count": 4,
      "metadata": {
        "cellView": "form",
        "id": "yDKo45Q-Gn7I"
      },
      "outputs": [],
      "source": [
        "# @title Figure Settings\n",
        "import ipywidgets as widgets\n",
        "%matplotlib inline \n",
        "fig_w, fig_h = (8, 6)\n",
        "plt.rcParams.update({'figure.figsize': (fig_w, fig_h)})\n",
        "%config InlineBackend.figure_format = 'retina'\n",
        "SMALL_SIZE = 12\n",
        "\n",
        "\n",
        "plt.style.use(\"https://raw.githubusercontent.com/NeuromatchAcademy/\"\n",
        "              \"course-content/master/nma.mplstyle\")\n",
        "\n",
        "# plt.rcParams.update(plt.rcParamsDefault)\n",
        "# plt.rc('font', size=SMALL_SIZE)          # controls default text sizes\n",
        "# plt.rc('axes', titlesize=SMALL_SIZE)     # fontsize of the axes title\n",
        "# plt.rc('axes', labelsize=SMALL_SIZE)    # fontsize of the x and y labels\n",
        "# plt.rc('xtick', labelsize=SMALL_SIZE)    # fontsize of the tick labels\n",
        "# plt.rc('ytick', labelsize=SMALL_SIZE)    # fontsize of the tick labels\n",
        "# plt.rc('legend', fontsize=SMALL_SIZE)    # legend fontsize\n",
        "# plt.rc('figure', titlesize=SMALL_SIZE)  # fontsize of the figure title"
      ]
    },
    {
      "cell_type": "markdown",
      "metadata": {
        "id": "3zcM51BP0lH8"
      },
      "source": [
        "---\n",
        "\n",
        "\n"
      ]
    },
    {
      "cell_type": "markdown",
      "metadata": {
        "id": "KdBcepKW1QRw"
      },
      "source": [
        "# Section 0: Before we get to work...\n",
        "# A cautionary tale\n",
        "Generally speaking, when optimizing make sure that you :\n",
        "- optimize for the right thing and \n",
        "- be aware of the potential unintended consequences that can arise from your optimization scheme\n",
        "\n",
        "Consider the following example:\n",
        "\n",
        "You are optimizing a food delivery service that will deliver 12 meals over a 3 hour evening period. Each person you deliver to will give you a rating of 1-3 stars, mostly based on whether the food is on time or late. Assume customers start at 3 stars and deduct one star for each quarter hour that the delivery is late. You have all 12 meals at hand (they are precooked, delivered cold for people to heat up) and it takes 15 minutes to deliver each meal.\n",
        "On days that things go right, you’re perfectly on time with all meals. "
      ]
    },
    {
      "cell_type": "markdown",
      "metadata": {
        "id": "AdxqBFKuXz9O"
      },
      "source": [
        "**Quiz Question 1:** If you get delayed by 15 minutes at the start of the night, what is an optimal strategy for maximizing the number of stars you get?"
      ]
    },
    {
      "cell_type": "code",
      "execution_count": 6,
      "metadata": {
        "cellView": "form",
        "id": "7gGZ447NX0J4"
      },
      "outputs": [],
      "source": [
        "strategy = 'start with those that are closer first, so I minimize losing stars' #@param {type:\"string\"}"
      ]
    },
    {
      "cell_type": "markdown",
      "metadata": {
        "id": "RS2QSUkFX9wS"
      },
      "source": [
        "**Quiz Question 2:** What would be a better loss function?"
      ]
    },
    {
      "cell_type": "code",
      "execution_count": 7,
      "metadata": {
        "cellView": "form",
        "id": "jzmsYABdLeij"
      },
      "outputs": [],
      "source": [
        "loss_fn = 'average the starts given by customer instead of its sum' #@param {type:\"string\"}"
      ]
    },
    {
      "cell_type": "markdown",
      "metadata": {
        "id": "854uzpETDJtP"
      },
      "source": [
        "## Objectives for this week\n",
        "\n",
        "We show how gradient descent can be tweaked using minibatch, adaptive learning rate, and other techiniques to really speed up the optimization process, and hint at the theory behind it.\n",
        "\n",
        "0.   Make sure to optimize the right thing!\n",
        "1.   The optimization landscape; geometric intuition behind Stochastic Gradient Descent (SGD) and momentum\n",
        "2.   Select batch size for minibatch gradient descent \n",
        "3.   Know batch normalization strengths and weaknesses"
      ]
    },
    {
      "cell_type": "markdown",
      "metadata": {
        "id": "3qgCvTSsHQSw"
      },
      "source": [
        "---\n",
        "# Section 1: Why is optimization hard? "
      ]
    },
    {
      "cell_type": "code",
      "execution_count": 8,
      "metadata": {
        "cellView": "form",
        "colab": {
          "base_uri": "https://localhost:8080/",
          "height": 519
        },
        "id": "GVbpq2e5VO_-",
        "outputId": "2887de9f-12d1-4992-94d1-494624ac1817"
      },
      "outputs": [
        {
          "output_type": "stream",
          "name": "stdout",
          "text": [
            "Video available at https://youtube.com/watch?v=g0zOEcPix2w\n"
          ]
        },
        {
          "output_type": "execute_result",
          "data": {
            "text/plain": [
              "<IPython.lib.display.YouTubeVideo at 0x7fab0827c4c0>"
            ],
            "text/html": [
              "\n",
              "        <iframe\n",
              "            width=\"854\"\n",
              "            height=\"480\"\n",
              "            src=\"https://www.youtube.com/embed/g0zOEcPix2w?fs=1\"\n",
              "            frameborder=\"0\"\n",
              "            allowfullscreen\n",
              "        ></iframe>\n",
              "        "
            ],
            "image/jpeg": "[encoded data removed]"
          },
          "metadata": {},
          "execution_count": 8
        }
      ],
      "source": [
        "#@title Video: Example of an optimization landscape\n",
        "\n",
        "try: t1;\n",
        "except NameError: t1=time.time()\n",
        "\n",
        "video = YouTubeVideo(id=\"g0zOEcPix2w\", width=854, height=480, fs=1)\n",
        "print(\"Video available at https://youtube.com/watch?v=\" + video.id)\n",
        "video"
      ]
    },
    {
      "cell_type": "markdown",
      "metadata": {
        "id": "_LKWjcdrvaLz"
      },
      "source": [
        "Ask yourself: Why is optimization hard? Think about what the optimization landscape can look like for more complex functions then take a look at the video and the interactive plot below to better understand why it is hard to find the global minima and not get stuck in a local minima."
      ]
    },
    {
      "cell_type": "markdown",
      "metadata": {
        "id": "geVOjKbo5t1K"
      },
      "source": [
        "[Interactive visualization](https://losslandscape.com/explorer)\n"
      ]
    },
    {
      "cell_type": "code",
      "execution_count": 9,
      "metadata": {
        "cellView": "form",
        "colab": {
          "base_uri": "https://localhost:8080/",
          "height": 519
        },
        "id": "WAlYl6--RMmK",
        "outputId": "1b306183-6b1b-40c2-b796-d2d11e50cd81"
      },
      "outputs": [
        {
          "output_type": "stream",
          "name": "stdout",
          "text": [
            "Video available at https://youtube.com/watch?v=68VFZeWWe-s\n"
          ]
        },
        {
          "output_type": "execute_result",
          "data": {
            "text/plain": [
              "<IPython.lib.display.YouTubeVideo at 0x7fab08274ac0>"
            ],
            "text/html": [
              "\n",
              "        <iframe\n",
              "            width=\"854\"\n",
              "            height=\"480\"\n",
              "            src=\"https://www.youtube.com/embed/68VFZeWWe-s?fs=1\"\n",
              "            frameborder=\"0\"\n",
              "            allowfullscreen\n",
              "        ></iframe>\n",
              "        "
            ],
            "image/jpeg": "[encoded data removed]"
          },
          "metadata": {},
          "execution_count": 9
        }
      ],
      "source": [
        "#@title Video : The difficulty of training a deep neural network\n",
        "video = YouTubeVideo(id=\"68VFZeWWe-s\", width=854, height=480, fs=1)\n",
        "print(\"Video available at https://youtube.com/watch?v=\" + video.id)\n",
        "video"
      ]
    },
    {
      "cell_type": "markdown",
      "metadata": {
        "id": "WeM9kVm2t95g"
      },
      "source": [
        "As you've just seen, the function we are looking to find a minimum of, can have a very complex landscape. \n",
        "  "
      ]
    },
    {
      "cell_type": "code",
      "execution_count": 10,
      "metadata": {
        "cellView": "form",
        "id": "GD8jBTXPzstJ"
      },
      "outputs": [],
      "source": [
        "#@markdown **Quiz Question 3:** Can you come up with some basic characteristics that we need for a good gradient descent algorithm ? \n",
        "characteristics_for_gd = \"well, the video mentions that it should be fast and should converge to a good optimum (doesn't matter if it is not the global optimum)\" #@param {type:\"string\"}"
      ]
    },
    {
      "cell_type": "markdown",
      "metadata": {
        "id": "83AdYyW_XHpQ"
      },
      "source": [
        "---\n",
        "# Section 2: Minibatch stochastic gradient descent (SGD)"
      ]
    },
    {
      "cell_type": "code",
      "execution_count": 11,
      "metadata": {
        "cellView": "form",
        "colab": {
          "base_uri": "https://localhost:8080/",
          "height": 519
        },
        "id": "LfpAMeyARW8a",
        "outputId": "2ff85bcf-3a95-40bc-9ce6-98b46a297850"
      },
      "outputs": [
        {
          "output_type": "stream",
          "name": "stdout",
          "text": [
            "Video available at https://youtube.com/watch?v=l4n7BZjNbTI\n"
          ]
        },
        {
          "output_type": "execute_result",
          "data": {
            "text/plain": [
              "<IPython.lib.display.YouTubeVideo at 0x7fab0827c5e0>"
            ],
            "text/html": [
              "\n",
              "        <iframe\n",
              "            width=\"854\"\n",
              "            height=\"480\"\n",
              "            src=\"https://www.youtube.com/embed/l4n7BZjNbTI?fs=1\"\n",
              "            frameborder=\"0\"\n",
              "            allowfullscreen\n",
              "        ></iframe>\n",
              "        "
            ],
            "image/jpeg": "[encoded data removed]"
          },
          "metadata": {},
          "execution_count": 11
        }
      ],
      "source": [
        "#@title Video: Minibatch\n",
        "\n",
        "try: t2;\n",
        "except NameError: t2=time.time()\n",
        "\n",
        "video = YouTubeVideo(id=\"l4n7BZjNbTI\", width=854, height=480, fs=1)\n",
        "print(\"Video available at https://youtube.com/watch?v=\" + video.id)\n",
        "video"
      ]
    },
    {
      "cell_type": "markdown",
      "metadata": {
        "id": "ZCCvrYFbMULT"
      },
      "source": [
        "In stochastic gradient descent, we replace the actual gradient vector with a stochastic estimation of the gradient vector. Specifically for a neural network, the stochastic estimation uses the gradient of the loss for a single data point (single instance).\n",
        "\n",
        "Given $f_i=l(x_i, y_i, w)$, the expected value of the $t$-th step of SGD is the same as the $t$-th step of full gradient descent.\n",
        "\n",
        "$$\\mathbb{E}[w_{t+1}]=w_t-\\eta \\mathbb{E}[\\nabla f_i(w_t)]=w_t-\\eta\\nabla f(w_t)$$\n",
        "\n",
        "where $i$ is chosen uniformly at random, thereby $f_i$ is a noisy but unbiased estimator of $f$.\n",
        "\n",
        "$$w_{t+1}=w_t-\\eta\\nabla f_i(w_t)$$\n",
        "\n",
        "We update the weights according to the gradient over $f_i$ (as opposed to the gradient over the total loss $f$).\n",
        "\n",
        "SGD advantages:\n",
        "*   The noise in the SGD update can prevent convergence to a bad (shallow) local minima.\n",
        "*   It is drastically cheaper to compute (as you don’t go over all data points).\n",
        "\n",
        "\n",
        "### Minibatching\n",
        "\n",
        "Often we are able to make better use of our hardware by using mini batches instead of single instances. We compute the loss over a mini-batch -- a set of randomly selected instances instead of calculating it over just one instance. This reduces the noise in the step update.\n",
        "\n",
        "Given the $t$th minibatch $B_t$ consisting of $k$ observations: \n",
        "\n",
        "$$w_{t+1}=w_t-\\eta \\frac{1}{|B_t|}\\sum_{i\\in B}\\nabla f_i(w_t)$$\n"
      ]
    },
    {
      "cell_type": "code",
      "execution_count": 12,
      "metadata": {
        "cellView": "form",
        "id": "Vc7Yvs2mP0fB"
      },
      "outputs": [],
      "source": [
        "#@markdown **Quiz Question 4:** How would the plot of training error vs epochs differ for minibatch gradient descent when compared to stochastic gradient descent?\n",
        "sgd_vs_minibtach_plot = 'if minibatching reduces noise compared with SGD, then the plot of training error would be smoother than SGD. That is, it would go down more consistently, whereas SGD would go down in one epoch, then maybe go up a little bit, go down again, etc.' #@param {type:\"string\"}"
      ]
    },
    {
      "cell_type": "markdown",
      "metadata": {
        "id": "gUVn7rFF62uA"
      },
      "source": [
        "## Exercise 1: Finding the optimal minibatch size "
      ]
    },
    {
      "cell_type": "markdown",
      "metadata": {
        "id": "wor4X13N66GA"
      },
      "source": [
        "### Exercise 1.1"
      ]
    },
    {
      "cell_type": "markdown",
      "metadata": {
        "id": "xDZ_GaUJ7DGd"
      },
      "source": [
        "One of the main constraints of training deep neural networks is the relative limited size of GPU memory. Being able to quickly estimate if your minibatch size can be held in that memory will save you time and out-of-memory errors.\n",
        "\n",
        "What do we need to store at training time? \n",
        "- outputs of intermediate layers (forward pass): \n",
        "- model parameters\n",
        "- error signal at each neuron\n",
        "- the gradient of parameters\n",
        "plus any extra memory needed by optimizer (e.g. for momentum)\n",
        "\n"
      ]
    },
    {
      "cell_type": "markdown",
      "metadata": {
        "id": "353hjdOQS4rQ"
      },
      "source": [
        "\n",
        "Fully connected layers\n",
        "- #weights = #outputs x #inputs\n",
        "- #biases = #outputs"
      ]
    },
    {
      "cell_type": "markdown",
      "metadata": {
        "id": "-_2MRwC9Jnyt"
      },
      "source": [
        "\n",
        "This is dominated by the weights and their gradients. (You can confirm that there are far fewer node outputs than weights.) Assume we need to store the weights, their gradients and momentum, at 4 bytes/weight.  \n"
      ]
    },
    {
      "cell_type": "code",
      "execution_count": 14,
      "metadata": {
        "cellView": "form",
        "id": "UXgo6xbBCs_g"
      },
      "outputs": [],
      "source": [
        "#@markdown **Quiz Question 5:** How many megabytes is this for the model specified in exercise 1.2?\n",
        "\n",
        "megabytes_1 = '(1 for each weight + 1 for their gradients + 1 for their momentum) * 4 bytes * (784 * 128 + 128 * 10)' #@param {type:\"string\"}\n",
        "\n",
        "#@markdown **Quiz Question 6:** If we also store a gradient for every observation in a minibatch of size 50 (to allow parallel processing), how many megabytes will now be needed?\n",
        "\n",
        "megabytes_2 = '50 obs * 4 bytes * (784 * 128 + 128 * 10)' #@param {type:\"string\"}\n"
      ]
    },
    {
      "cell_type": "markdown",
      "metadata": {
        "id": "PPkFgx687A1R"
      },
      "source": [
        "### Exercise 1.2"
      ]
    },
    {
      "cell_type": "markdown",
      "metadata": {
        "id": "ssTaVDT9RYZu"
      },
      "source": [
        "We find the optimal minibatch size using a 2-hidden layer nerual network on the hand-written digit classification dataset (MNIST). There are 10 classes (0 - 9) in the dataset. We use stochastic gradient descent (SGD) algorithm to optimize the training phase.\n",
        "\n",
        "Plot test accuracy as a function of minibatch size (with constant wall time); explain the pattern."
      ]
    },
    {
      "cell_type": "code",
      "execution_count": 15,
      "metadata": {
        "id": "g4iAopPfGx6_"
      },
      "outputs": [],
      "source": [
        "class Net(nn.Module):\n",
        "    def __init__(self):\n",
        "        super(Net, self).__init__()\n",
        "        self.fc1 = nn.Linear(784, 128)\n",
        "        self.fc2 = nn.Linear(128, 10)\n",
        "\n",
        "    def forward(self, x):\n",
        "        x = torch.flatten(x, 1)\n",
        "        x = self.fc1(x)\n",
        "        x = F.relu(x)\n",
        "        x = self.fc2(x)\n",
        "        output = F.log_softmax(x, dim=1)\n",
        "        return output\n",
        "\n",
        "def train(args, model, device, train_loader, optimizer, epoch):\n",
        "    model.train()\n",
        "    for batch_idx, (data, target) in enumerate(train_loader):\n",
        "        data, target = data.to(device), target.to(device)\n",
        "        optimizer.zero_grad()\n",
        "        output = model(data)\n",
        "        loss = F.nll_loss(output, target)\n",
        "        loss.backward()\n",
        "        optimizer.step()\n",
        "        if batch_idx % args['log_interval'] == 0:\n",
        "            print('Train Epoch: {} [{}/{} ({:.0f}%)]\\tLoss: {:.6f}'.format(\n",
        "                epoch, batch_idx * len(data), len(train_loader.dataset),\n",
        "                100. * batch_idx / len(train_loader), loss.item()))\n",
        "\n",
        "def test(model, device, test_loader):\n",
        "    model.eval()\n",
        "    test_loss = 0\n",
        "    correct = 0\n",
        "    with torch.no_grad():\n",
        "        for data, target in test_loader:\n",
        "            data, target = data.to(device), target.to(device)\n",
        "            output = model(data)\n",
        "            test_loss += F.nll_loss(output, target, reduction='sum').item()  # sum up batch loss\n",
        "            pred = output.argmax(dim=1, keepdim=True)  # get the index of the max log-probability\n",
        "            correct += pred.eq(target.view_as(pred)).sum().item()\n",
        "\n",
        "    test_loss /= len(test_loader.dataset)\n",
        "\n",
        "    print('\\nTest set: Average loss: {:.4f}, Accuracy: {}/{} ({:.4f}%)\\n'.format(\n",
        "        test_loss, correct, len(test_loader.dataset),\n",
        "        100. * correct / len(test_loader.dataset)))\n",
        "    return 100. * correct / len(test_loader.dataset)\n",
        "    \n",
        "def main(args):\n",
        "    use_cuda = not args['no_cuda'] and torch.cuda.is_available()\n",
        "    torch.manual_seed(args['seed'])\n",
        "    device = torch.device('cuda' if use_cuda else 'cpu')\n",
        "\n",
        "    train_kwargs = {'batch_size': args['batch_size']}\n",
        "    test_kwargs = {'batch_size': args['test_batch_size']}\n",
        "    if use_cuda:\n",
        "        cuda_kwargs = {'num_workers': 1,\n",
        "                       'pin_memory': True,\n",
        "                       'shuffle': True}\n",
        "        train_kwargs.update(cuda_kwargs)\n",
        "        test_kwargs.update(cuda_kwargs)\n",
        "\n",
        "    transform=transforms.Compose([\n",
        "        transforms.ToTensor(),\n",
        "        transforms.Normalize((0.1307,), (0.3081,))\n",
        "        ])\n",
        "    train_loader = torch.utils.data.DataLoader(datasets.MNIST('../data', train=True, download=True,\n",
        "                       transform=transform),**train_kwargs)\n",
        "    test_loader = torch.utils.data.DataLoader(datasets.MNIST('../data', train=False,\n",
        "                       transform=transform), **test_kwargs)\n",
        "\n",
        "    model = Net().to(device)\n",
        "    optimizer = optim.SGD(model.parameters(), lr=args['lr'], momentum=args['momentum'])\n",
        "\n",
        "    acc_list, time_list = [], []\n",
        "    start_time = time.time()\n",
        "    for epoch in range(1, args['epochs'] + 1):\n",
        "        train(args, model, device, train_loader, optimizer, epoch)\n",
        "        time_list.append(time.time()-start_time)\n",
        "        acc = test(model, device, test_loader)\n",
        "        acc_list.append(acc)\n",
        "\n",
        "    return acc_list, time_list"
      ]
    },
    {
      "cell_type": "markdown",
      "metadata": {
        "id": "z50bBGUVCpx4"
      },
      "source": [
        "Note: The training takes over 20 mins. Time for a break, grab a cup of coffee while you're waiting for the output :)"
      ]
    },
    {
      "cell_type": "code",
      "execution_count": 16,
      "metadata": {
        "colab": {
          "base_uri": "https://localhost:8080/",
          "height": 1000,
          "referenced_widgets": [
            "3978118306c84c4eb7da6dec1455c00a",
            "c56b1b2bb274465f80f5e8a4a6f1c632",
            "0a6ce6f67e3341adbc35e7478f9e67b3",
            "febd0cf6529943448ececa5f44c3fbee",
            "8f6bed59314f4f8ab0ea9e1523aae8dc",
            "3a89efcba23640668fcc8f2a7eaf2245",
            "01ee996998ca4525807a240fa5253dae",
            "e4ec22cae4f340c594622e48cd7dec35",
            "09564f4c015e42c29da4a73da2784330",
            "2940f991ae3f4f76911542b3d689f5c1",
            "8c58295567664541a860d5392691eccd",
            "c4fda2cae9ee4476ba591c5f03f03c6a",
            "1fa7e948727449b69e38ea39bd38ea4a",
            "cba4cd23edb84de5ab5d0ae433c3f012",
            "22bc4cb9ea1841dead7c37405019f005",
            "0bc76337a2bb44e4bbcc260c2adc9004",
            "9c30f77f5e7942feaa3dbfb9edab925c",
            "de8dbf3e0dfa43ed992f154c2ce4aef0",
            "d560145ab6a44be39414af0d5c3523ad",
            "f536842f009e4f46907852c2ae123ff5",
            "d6adff13b87a442382ed8f9bf11457a0",
            "d21288bbed0e4dd1973bbf5af8e25302",
            "b4972a3ed943465c852fdac40c98f321",
            "222df894839349eda77d8152af43d31f",
            "80257d1b3ccc40ebba6850f324fb8d4d",
            "346d723634bb487dbfa5ba270fe661dd",
            "98e3a4d40ecb4ee3b0b9e561a75a9e9e",
            "30fb41abc3304b92bc2280c36a275dc9",
            "0d8356dd5638473a9e53883cdad63e27",
            "d067ba42de44488a9d1647996ef22429",
            "679e6ed50c6b414f8d07f21a30e654a6",
            "8149129232d84c758656784a4577ce65",
            "3c31f8e999734d2796c4008865b30b83",
            "d42397c1890c4023a3b9ec7b29c2975b",
            "ec70f9156b494c84a96c281585b5c2d9",
            "2aac71ccf3a145059b7d91f1721e3ab8",
            "468436977faa4f9ca759000b7ee10922",
            "470a6347bc274a06bb6f2f6bf035060f",
            "d46d4b3b23f741809c8011216d8c7a76",
            "ee374b2b68ed43919b0f7fcc8f8a8409",
            "eeb85cbffa6d4e33b19dcfe2cadaf6ac",
            "33b5e3dd2d4640389bfdbfc768bb370f",
            "acf479235f064782a6157fd6fe627cf4",
            "91b4dc2c48544d8da100671c9a9afbb6"
          ]
        },
        "id": "h0Pokv_OAqYp",
        "outputId": "14a4ba43-232c-4af5-c586-1996b8dbd285"
      },
      "outputs": [
        {
          "output_type": "stream",
          "name": "stdout",
          "text": [
            "Downloading http://yann.lecun.com/exdb/mnist/train-images-idx3-ubyte.gz\n",
            "Downloading http://yann.lecun.com/exdb/mnist/train-images-idx3-ubyte.gz to ../data/MNIST/raw/train-images-idx3-ubyte.gz\n"
          ]
        },
        {
          "output_type": "display_data",
          "data": {
            "text/plain": [
              "  0%|          | 0/9912422 [00:00<?, ?it/s]"
            ],
            "application/vnd.jupyter.widget-view+json": {
              "version_major": 2,
              "version_minor": 0,
              "model_id": "3978118306c84c4eb7da6dec1455c00a"
            }
          },
          "metadata": {}
        },
        {
          "output_type": "stream",
          "name": "stdout",
          "text": [
            "Extracting ../data/MNIST/raw/train-images-idx3-ubyte.gz to ../data/MNIST/raw\n",
            "\n",
            "Downloading http://yann.lecun.com/exdb/mnist/train-labels-idx1-ubyte.gz\n",
            "Downloading http://yann.lecun.com/exdb/mnist/train-labels-idx1-ubyte.gz to ../data/MNIST/raw/train-labels-idx1-ubyte.gz\n"
          ]
        },
        {
          "output_type": "display_data",
          "data": {
            "text/plain": [
              "  0%|          | 0/28881 [00:00<?, ?it/s]"
            ],
            "application/vnd.jupyter.widget-view+json": {
              "version_major": 2,
              "version_minor": 0,
              "model_id": "c4fda2cae9ee4476ba591c5f03f03c6a"
            }
          },
          "metadata": {}
        },
        {
          "output_type": "stream",
          "name": "stdout",
          "text": [
            "Extracting ../data/MNIST/raw/train-labels-idx1-ubyte.gz to ../data/MNIST/raw\n",
            "\n",
            "Downloading http://yann.lecun.com/exdb/mnist/t10k-images-idx3-ubyte.gz\n",
            "Downloading http://yann.lecun.com/exdb/mnist/t10k-images-idx3-ubyte.gz to ../data/MNIST/raw/t10k-images-idx3-ubyte.gz\n"
          ]
        },
        {
          "output_type": "display_data",
          "data": {
            "text/plain": [
              "  0%|          | 0/1648877 [00:00<?, ?it/s]"
            ],
            "application/vnd.jupyter.widget-view+json": {
              "version_major": 2,
              "version_minor": 0,
              "model_id": "b4972a3ed943465c852fdac40c98f321"
            }
          },
          "metadata": {}
        },
        {
          "output_type": "stream",
          "name": "stdout",
          "text": [
            "Extracting ../data/MNIST/raw/t10k-images-idx3-ubyte.gz to ../data/MNIST/raw\n",
            "\n",
            "Downloading http://yann.lecun.com/exdb/mnist/t10k-labels-idx1-ubyte.gz\n",
            "Downloading http://yann.lecun.com/exdb/mnist/t10k-labels-idx1-ubyte.gz to ../data/MNIST/raw/t10k-labels-idx1-ubyte.gz\n"
          ]
        },
        {
          "output_type": "display_data",
          "data": {
            "text/plain": [
              "  0%|          | 0/4542 [00:00<?, ?it/s]"
            ],
            "application/vnd.jupyter.widget-view+json": {
              "version_major": 2,
              "version_minor": 0,
              "model_id": "d42397c1890c4023a3b9ec7b29c2975b"
            }
          },
          "metadata": {}
        },
        {
          "output_type": "stream",
          "name": "stdout",
          "text": [
            "Extracting ../data/MNIST/raw/t10k-labels-idx1-ubyte.gz to ../data/MNIST/raw\n",
            "\n",
            "Train Epoch: 1 [0/60000 (0%)]\tLoss: 2.212950\n",
            "Train Epoch: 1 [800/60000 (1%)]\tLoss: 0.633358\n",
            "Train Epoch: 1 [1600/60000 (3%)]\tLoss: 0.387849\n",
            "Train Epoch: 1 [2400/60000 (4%)]\tLoss: 0.146681\n",
            "Train Epoch: 1 [3200/60000 (5%)]\tLoss: 0.374804\n",
            "Train Epoch: 1 [4000/60000 (7%)]\tLoss: 0.176324\n",
            "Train Epoch: 1 [4800/60000 (8%)]\tLoss: 1.137902\n",
            "Train Epoch: 1 [5600/60000 (9%)]\tLoss: 0.165800\n",
            "Train Epoch: 1 [6400/60000 (11%)]\tLoss: 0.556258\n",
            "Train Epoch: 1 [7200/60000 (12%)]\tLoss: 0.226273\n",
            "Train Epoch: 1 [8000/60000 (13%)]\tLoss: 0.011656\n",
            "Train Epoch: 1 [8800/60000 (15%)]\tLoss: 1.092710\n",
            "Train Epoch: 1 [9600/60000 (16%)]\tLoss: 0.028158\n",
            "Train Epoch: 1 [10400/60000 (17%)]\tLoss: 0.230705\n",
            "Train Epoch: 1 [11200/60000 (19%)]\tLoss: 0.546691\n",
            "Train Epoch: 1 [12000/60000 (20%)]\tLoss: 0.198070\n",
            "Train Epoch: 1 [12800/60000 (21%)]\tLoss: 0.174880\n",
            "Train Epoch: 1 [13600/60000 (23%)]\tLoss: 0.493409\n",
            "Train Epoch: 1 [14400/60000 (24%)]\tLoss: 0.001052\n",
            "Train Epoch: 1 [15200/60000 (25%)]\tLoss: 0.002356\n",
            "Train Epoch: 1 [16000/60000 (27%)]\tLoss: 0.109389\n",
            "Train Epoch: 1 [16800/60000 (28%)]\tLoss: 0.012016\n",
            "Train Epoch: 1 [17600/60000 (29%)]\tLoss: 0.147232\n",
            "Train Epoch: 1 [18400/60000 (31%)]\tLoss: 0.105661\n",
            "Train Epoch: 1 [19200/60000 (32%)]\tLoss: 0.591042\n",
            "Train Epoch: 1 [20000/60000 (33%)]\tLoss: 0.027270\n",
            "Train Epoch: 1 [20800/60000 (35%)]\tLoss: 0.249576\n",
            "Train Epoch: 1 [21600/60000 (36%)]\tLoss: 1.247134\n",
            "Train Epoch: 1 [22400/60000 (37%)]\tLoss: 0.010450\n",
            "Train Epoch: 1 [23200/60000 (39%)]\tLoss: 0.000241\n",
            "Train Epoch: 1 [24000/60000 (40%)]\tLoss: 0.054903\n",
            "Train Epoch: 1 [24800/60000 (41%)]\tLoss: 0.077533\n",
            "Train Epoch: 1 [25600/60000 (43%)]\tLoss: 0.010759\n",
            "Train Epoch: 1 [26400/60000 (44%)]\tLoss: 0.009023\n",
            "Train Epoch: 1 [27200/60000 (45%)]\tLoss: 0.018299\n",
            "Train Epoch: 1 [28000/60000 (47%)]\tLoss: 0.458873\n",
            "Train Epoch: 1 [28800/60000 (48%)]\tLoss: 0.072566\n",
            "Train Epoch: 1 [29600/60000 (49%)]\tLoss: 0.284788\n",
            "Train Epoch: 1 [30400/60000 (51%)]\tLoss: 0.670338\n",
            "Train Epoch: 1 [31200/60000 (52%)]\tLoss: 0.152470\n",
            "Train Epoch: 1 [32000/60000 (53%)]\tLoss: 0.060412\n",
            "Train Epoch: 1 [32800/60000 (55%)]\tLoss: 0.003099\n",
            "Train Epoch: 1 [33600/60000 (56%)]\tLoss: 0.023698\n",
            "Train Epoch: 1 [34400/60000 (57%)]\tLoss: 0.214571\n",
            "Train Epoch: 1 [35200/60000 (59%)]\tLoss: 0.042157\n",
            "Train Epoch: 1 [36000/60000 (60%)]\tLoss: 0.354852\n",
            "Train Epoch: 1 [36800/60000 (61%)]\tLoss: 0.059182\n",
            "Train Epoch: 1 [37600/60000 (63%)]\tLoss: 0.125965\n",
            "Train Epoch: 1 [38400/60000 (64%)]\tLoss: 0.697826\n",
            "Train Epoch: 1 [39200/60000 (65%)]\tLoss: 0.170226\n",
            "Train Epoch: 1 [40000/60000 (67%)]\tLoss: 0.200247\n",
            "Train Epoch: 1 [40800/60000 (68%)]\tLoss: 0.376890\n",
            "Train Epoch: 1 [41600/60000 (69%)]\tLoss: 0.611953\n",
            "Train Epoch: 1 [42400/60000 (71%)]\tLoss: 1.109457\n",
            "Train Epoch: 1 [43200/60000 (72%)]\tLoss: 0.132520\n",
            "Train Epoch: 1 [44000/60000 (73%)]\tLoss: 0.000193\n",
            "Train Epoch: 1 [44800/60000 (75%)]\tLoss: 0.000274\n",
            "Train Epoch: 1 [45600/60000 (76%)]\tLoss: 0.112109\n",
            "Train Epoch: 1 [46400/60000 (77%)]\tLoss: 0.010824\n",
            "Train Epoch: 1 [47200/60000 (79%)]\tLoss: 0.152095\n",
            "Train Epoch: 1 [48000/60000 (80%)]\tLoss: 0.034561\n",
            "Train Epoch: 1 [48800/60000 (81%)]\tLoss: 0.013242\n",
            "Train Epoch: 1 [49600/60000 (83%)]\tLoss: 0.063088\n",
            "Train Epoch: 1 [50400/60000 (84%)]\tLoss: 0.003120\n",
            "Train Epoch: 1 [51200/60000 (85%)]\tLoss: 0.001784\n",
            "Train Epoch: 1 [52000/60000 (87%)]\tLoss: 0.314737\n",
            "Train Epoch: 1 [52800/60000 (88%)]\tLoss: 0.552611\n",
            "Train Epoch: 1 [53600/60000 (89%)]\tLoss: 0.008825\n",
            "Train Epoch: 1 [54400/60000 (91%)]\tLoss: 0.032627\n",
            "Train Epoch: 1 [55200/60000 (92%)]\tLoss: 0.421233\n",
            "Train Epoch: 1 [56000/60000 (93%)]\tLoss: 0.388513\n",
            "Train Epoch: 1 [56800/60000 (95%)]\tLoss: 0.017026\n",
            "Train Epoch: 1 [57600/60000 (96%)]\tLoss: 0.091176\n",
            "Train Epoch: 1 [58400/60000 (97%)]\tLoss: 0.611032\n",
            "Train Epoch: 1 [59200/60000 (99%)]\tLoss: 0.061405\n",
            "\n",
            "Test set: Average loss: 0.1973, Accuracy: 9460/10000 (94.6000%)\n",
            "\n",
            "Train Epoch: 2 [0/60000 (0%)]\tLoss: 0.169194\n",
            "Train Epoch: 2 [800/60000 (1%)]\tLoss: 0.607277\n",
            "Train Epoch: 2 [1600/60000 (3%)]\tLoss: 0.054789\n",
            "Train Epoch: 2 [2400/60000 (4%)]\tLoss: 0.003840\n",
            "Train Epoch: 2 [3200/60000 (5%)]\tLoss: 0.011929\n",
            "Train Epoch: 2 [4000/60000 (7%)]\tLoss: 0.004830\n",
            "Train Epoch: 2 [4800/60000 (8%)]\tLoss: 0.010578\n",
            "Train Epoch: 2 [5600/60000 (9%)]\tLoss: 0.410451\n",
            "Train Epoch: 2 [6400/60000 (11%)]\tLoss: 0.003965\n",
            "Train Epoch: 2 [7200/60000 (12%)]\tLoss: 0.561194\n",
            "Train Epoch: 2 [8000/60000 (13%)]\tLoss: 0.009506\n",
            "Train Epoch: 2 [8800/60000 (15%)]\tLoss: 0.002469\n",
            "Train Epoch: 2 [9600/60000 (16%)]\tLoss: 0.516480\n",
            "Train Epoch: 2 [10400/60000 (17%)]\tLoss: 0.000203\n",
            "Train Epoch: 2 [11200/60000 (19%)]\tLoss: 0.022628\n",
            "Train Epoch: 2 [12000/60000 (20%)]\tLoss: 0.002384\n",
            "Train Epoch: 2 [12800/60000 (21%)]\tLoss: 0.011637\n",
            "Train Epoch: 2 [13600/60000 (23%)]\tLoss: 0.227119\n",
            "Train Epoch: 2 [14400/60000 (24%)]\tLoss: 0.017990\n",
            "Train Epoch: 2 [15200/60000 (25%)]\tLoss: 0.364683\n",
            "Train Epoch: 2 [16000/60000 (27%)]\tLoss: 0.180610\n",
            "Train Epoch: 2 [16800/60000 (28%)]\tLoss: 0.129088\n",
            "Train Epoch: 2 [17600/60000 (29%)]\tLoss: 0.000160\n",
            "Train Epoch: 2 [18400/60000 (31%)]\tLoss: 0.000097\n",
            "Train Epoch: 2 [19200/60000 (32%)]\tLoss: 0.117566\n",
            "Train Epoch: 2 [20000/60000 (33%)]\tLoss: 0.845158\n",
            "Train Epoch: 2 [20800/60000 (35%)]\tLoss: 0.000023\n",
            "Train Epoch: 2 [21600/60000 (36%)]\tLoss: 0.130738\n",
            "Train Epoch: 2 [22400/60000 (37%)]\tLoss: 0.006625\n",
            "Train Epoch: 2 [23200/60000 (39%)]\tLoss: 0.001635\n",
            "Train Epoch: 2 [24000/60000 (40%)]\tLoss: 0.044546\n",
            "Train Epoch: 2 [24800/60000 (41%)]\tLoss: 0.004936\n",
            "Train Epoch: 2 [25600/60000 (43%)]\tLoss: 0.007956\n",
            "Train Epoch: 2 [26400/60000 (44%)]\tLoss: 0.000168\n",
            "Train Epoch: 2 [27200/60000 (45%)]\tLoss: 0.002207\n",
            "Train Epoch: 2 [28000/60000 (47%)]\tLoss: 0.003716\n",
            "Train Epoch: 2 [28800/60000 (48%)]\tLoss: 0.271708\n",
            "Train Epoch: 2 [29600/60000 (49%)]\tLoss: 0.008470\n",
            "Train Epoch: 2 [30400/60000 (51%)]\tLoss: 0.002401\n",
            "Train Epoch: 2 [31200/60000 (52%)]\tLoss: 0.000277\n",
            "Train Epoch: 2 [32000/60000 (53%)]\tLoss: 0.006362\n",
            "Train Epoch: 2 [32800/60000 (55%)]\tLoss: 0.011134\n",
            "Train Epoch: 2 [33600/60000 (56%)]\tLoss: 0.952399\n",
            "Train Epoch: 2 [34400/60000 (57%)]\tLoss: 0.001906\n",
            "Train Epoch: 2 [35200/60000 (59%)]\tLoss: 0.013132\n",
            "Train Epoch: 2 [36000/60000 (60%)]\tLoss: 0.012836\n",
            "Train Epoch: 2 [36800/60000 (61%)]\tLoss: 0.000027\n",
            "Train Epoch: 2 [37600/60000 (63%)]\tLoss: 0.042769\n",
            "Train Epoch: 2 [38400/60000 (64%)]\tLoss: 0.000161\n",
            "Train Epoch: 2 [39200/60000 (65%)]\tLoss: 0.002139\n",
            "Train Epoch: 2 [40000/60000 (67%)]\tLoss: 0.000128\n",
            "Train Epoch: 2 [40800/60000 (68%)]\tLoss: 0.046545\n",
            "Train Epoch: 2 [41600/60000 (69%)]\tLoss: 0.043467\n",
            "Train Epoch: 2 [42400/60000 (71%)]\tLoss: 0.016170\n",
            "Train Epoch: 2 [43200/60000 (72%)]\tLoss: 0.051281\n",
            "Train Epoch: 2 [44000/60000 (73%)]\tLoss: 0.015288\n",
            "Train Epoch: 2 [44800/60000 (75%)]\tLoss: 0.002729\n",
            "Train Epoch: 2 [45600/60000 (76%)]\tLoss: 0.011999\n",
            "Train Epoch: 2 [46400/60000 (77%)]\tLoss: 0.344978\n",
            "Train Epoch: 2 [47200/60000 (79%)]\tLoss: 0.000647\n",
            "Train Epoch: 2 [48000/60000 (80%)]\tLoss: 0.043931\n",
            "Train Epoch: 2 [48800/60000 (81%)]\tLoss: 0.011649\n",
            "Train Epoch: 2 [49600/60000 (83%)]\tLoss: 0.017798\n",
            "Train Epoch: 2 [50400/60000 (84%)]\tLoss: 1.613126\n",
            "Train Epoch: 2 [51200/60000 (85%)]\tLoss: 0.023424\n",
            "Train Epoch: 2 [52000/60000 (87%)]\tLoss: 0.006401\n",
            "Train Epoch: 2 [52800/60000 (88%)]\tLoss: 0.147749\n",
            "Train Epoch: 2 [53600/60000 (89%)]\tLoss: 3.831974\n",
            "Train Epoch: 2 [54400/60000 (91%)]\tLoss: 0.063447\n",
            "Train Epoch: 2 [55200/60000 (92%)]\tLoss: 0.366370\n",
            "Train Epoch: 2 [56000/60000 (93%)]\tLoss: 0.000109\n",
            "Train Epoch: 2 [56800/60000 (95%)]\tLoss: 0.000514\n",
            "Train Epoch: 2 [57600/60000 (96%)]\tLoss: 0.000027\n",
            "Train Epoch: 2 [58400/60000 (97%)]\tLoss: 1.464050\n",
            "Train Epoch: 2 [59200/60000 (99%)]\tLoss: 0.085122\n",
            "\n",
            "Test set: Average loss: 0.1559, Accuracy: 9603/10000 (96.0300%)\n",
            "\n",
            "Train Epoch: 3 [0/60000 (0%)]\tLoss: 0.004380\n",
            "Train Epoch: 3 [800/60000 (1%)]\tLoss: 0.057970\n",
            "Train Epoch: 3 [1600/60000 (3%)]\tLoss: 0.002121\n",
            "Train Epoch: 3 [2400/60000 (4%)]\tLoss: 0.006910\n",
            "Train Epoch: 3 [3200/60000 (5%)]\tLoss: 0.004256\n",
            "Train Epoch: 3 [4000/60000 (7%)]\tLoss: 0.036165\n",
            "Train Epoch: 3 [4800/60000 (8%)]\tLoss: 0.126385\n",
            "Train Epoch: 3 [5600/60000 (9%)]\tLoss: 0.041885\n",
            "Train Epoch: 3 [6400/60000 (11%)]\tLoss: 0.114151\n",
            "Train Epoch: 3 [7200/60000 (12%)]\tLoss: 0.450340\n",
            "Train Epoch: 3 [8000/60000 (13%)]\tLoss: 0.000006\n",
            "Train Epoch: 3 [8800/60000 (15%)]\tLoss: 0.000523\n",
            "Train Epoch: 3 [9600/60000 (16%)]\tLoss: 0.005588\n",
            "Train Epoch: 3 [10400/60000 (17%)]\tLoss: 0.000160\n",
            "Train Epoch: 3 [11200/60000 (19%)]\tLoss: 0.214558\n",
            "Train Epoch: 3 [12000/60000 (20%)]\tLoss: 0.000566\n",
            "Train Epoch: 3 [12800/60000 (21%)]\tLoss: 0.000651\n",
            "Train Epoch: 3 [13600/60000 (23%)]\tLoss: 0.167767\n",
            "Train Epoch: 3 [14400/60000 (24%)]\tLoss: 0.000063\n",
            "Train Epoch: 3 [15200/60000 (25%)]\tLoss: 0.067753\n",
            "Train Epoch: 3 [16000/60000 (27%)]\tLoss: 0.000063\n",
            "Train Epoch: 3 [16800/60000 (28%)]\tLoss: 0.003029\n",
            "Train Epoch: 3 [17600/60000 (29%)]\tLoss: 0.351907\n",
            "Train Epoch: 3 [18400/60000 (31%)]\tLoss: 0.010068\n",
            "Train Epoch: 3 [19200/60000 (32%)]\tLoss: 0.000005\n",
            "Train Epoch: 3 [20000/60000 (33%)]\tLoss: 0.013492\n",
            "Train Epoch: 3 [20800/60000 (35%)]\tLoss: 0.025082\n",
            "Train Epoch: 3 [21600/60000 (36%)]\tLoss: 0.246744\n",
            "Train Epoch: 3 [22400/60000 (37%)]\tLoss: 0.000025\n",
            "Train Epoch: 3 [23200/60000 (39%)]\tLoss: 0.000124\n",
            "Train Epoch: 3 [24000/60000 (40%)]\tLoss: 0.060447\n",
            "Train Epoch: 3 [24800/60000 (41%)]\tLoss: 0.053457\n",
            "Train Epoch: 3 [25600/60000 (43%)]\tLoss: 0.207073\n",
            "Train Epoch: 3 [26400/60000 (44%)]\tLoss: 0.007613\n",
            "Train Epoch: 3 [27200/60000 (45%)]\tLoss: 0.489355\n",
            "Train Epoch: 3 [28000/60000 (47%)]\tLoss: 0.020574\n",
            "Train Epoch: 3 [28800/60000 (48%)]\tLoss: 0.032459\n",
            "Train Epoch: 3 [29600/60000 (49%)]\tLoss: 0.000121\n",
            "Train Epoch: 3 [30400/60000 (51%)]\tLoss: 0.000492\n",
            "Train Epoch: 3 [31200/60000 (52%)]\tLoss: 0.415662\n",
            "Train Epoch: 3 [32000/60000 (53%)]\tLoss: 0.113739\n",
            "Train Epoch: 3 [32800/60000 (55%)]\tLoss: 0.000085\n",
            "Train Epoch: 3 [33600/60000 (56%)]\tLoss: 0.015418\n",
            "Train Epoch: 3 [34400/60000 (57%)]\tLoss: 0.003390\n",
            "Train Epoch: 3 [35200/60000 (59%)]\tLoss: 0.000847\n",
            "Train Epoch: 3 [36000/60000 (60%)]\tLoss: 0.405370\n",
            "Train Epoch: 3 [36800/60000 (61%)]\tLoss: 0.000081\n",
            "Train Epoch: 3 [37600/60000 (63%)]\tLoss: 0.000233\n",
            "Train Epoch: 3 [38400/60000 (64%)]\tLoss: 0.074263\n",
            "Train Epoch: 3 [39200/60000 (65%)]\tLoss: 0.935007\n",
            "Train Epoch: 3 [40000/60000 (67%)]\tLoss: 0.000021\n",
            "Train Epoch: 3 [40800/60000 (68%)]\tLoss: 0.000071\n",
            "Train Epoch: 3 [41600/60000 (69%)]\tLoss: 0.000819\n",
            "Train Epoch: 3 [42400/60000 (71%)]\tLoss: 0.000179\n",
            "Train Epoch: 3 [43200/60000 (72%)]\tLoss: 0.058968\n",
            "Train Epoch: 3 [44000/60000 (73%)]\tLoss: 0.659177\n",
            "Train Epoch: 3 [44800/60000 (75%)]\tLoss: 0.000005\n",
            "Train Epoch: 3 [45600/60000 (76%)]\tLoss: 0.111688\n",
            "Train Epoch: 3 [46400/60000 (77%)]\tLoss: 0.140550\n",
            "Train Epoch: 3 [47200/60000 (79%)]\tLoss: 0.000269\n",
            "Train Epoch: 3 [48000/60000 (80%)]\tLoss: 0.039626\n",
            "Train Epoch: 3 [48800/60000 (81%)]\tLoss: 0.000039\n",
            "Train Epoch: 3 [49600/60000 (83%)]\tLoss: 0.460090\n",
            "Train Epoch: 3 [50400/60000 (84%)]\tLoss: 0.000039\n",
            "Train Epoch: 3 [51200/60000 (85%)]\tLoss: 0.480121\n",
            "Train Epoch: 3 [52000/60000 (87%)]\tLoss: 0.040164\n",
            "Train Epoch: 3 [52800/60000 (88%)]\tLoss: 0.053578\n",
            "Train Epoch: 3 [53600/60000 (89%)]\tLoss: 0.088256\n",
            "Train Epoch: 3 [54400/60000 (91%)]\tLoss: 0.154290\n",
            "Train Epoch: 3 [55200/60000 (92%)]\tLoss: 0.000974\n",
            "Train Epoch: 3 [56000/60000 (93%)]\tLoss: 0.001341\n",
            "Train Epoch: 3 [56800/60000 (95%)]\tLoss: 0.004699\n",
            "Train Epoch: 3 [57600/60000 (96%)]\tLoss: 0.851190\n",
            "Train Epoch: 3 [58400/60000 (97%)]\tLoss: 0.172946\n",
            "Train Epoch: 3 [59200/60000 (99%)]\tLoss: 0.000095\n",
            "\n",
            "Test set: Average loss: 0.2008, Accuracy: 9546/10000 (95.4600%)\n",
            "\n",
            "Train Epoch: 1 [0/60000 (0%)]\tLoss: 2.305983\n",
            "Train Epoch: 1 [1600/60000 (3%)]\tLoss: 0.285838\n",
            "Train Epoch: 1 [3200/60000 (5%)]\tLoss: 0.542683\n",
            "Train Epoch: 1 [4800/60000 (8%)]\tLoss: 0.457218\n",
            "Train Epoch: 1 [6400/60000 (11%)]\tLoss: 0.344423\n",
            "Train Epoch: 1 [8000/60000 (13%)]\tLoss: 0.038295\n",
            "Train Epoch: 1 [9600/60000 (16%)]\tLoss: 0.106812\n",
            "Train Epoch: 1 [11200/60000 (19%)]\tLoss: 0.323390\n",
            "Train Epoch: 1 [12800/60000 (21%)]\tLoss: 0.206730\n",
            "Train Epoch: 1 [14400/60000 (24%)]\tLoss: 0.035669\n",
            "Train Epoch: 1 [16000/60000 (27%)]\tLoss: 0.133948\n",
            "Train Epoch: 1 [17600/60000 (29%)]\tLoss: 0.179077\n",
            "Train Epoch: 1 [19200/60000 (32%)]\tLoss: 0.171140\n",
            "Train Epoch: 1 [20800/60000 (35%)]\tLoss: 0.206653\n",
            "Train Epoch: 1 [22400/60000 (37%)]\tLoss: 0.089827\n",
            "Train Epoch: 1 [24000/60000 (40%)]\tLoss: 0.029843\n",
            "Train Epoch: 1 [25600/60000 (43%)]\tLoss: 0.053029\n",
            "Train Epoch: 1 [27200/60000 (45%)]\tLoss: 0.326597\n",
            "Train Epoch: 1 [28800/60000 (48%)]\tLoss: 0.097247\n",
            "Train Epoch: 1 [30400/60000 (51%)]\tLoss: 0.131041\n",
            "Train Epoch: 1 [32000/60000 (53%)]\tLoss: 0.019844\n",
            "Train Epoch: 1 [33600/60000 (56%)]\tLoss: 0.075734\n",
            "Train Epoch: 1 [35200/60000 (59%)]\tLoss: 0.020070\n",
            "Train Epoch: 1 [36800/60000 (61%)]\tLoss: 0.221707\n",
            "Train Epoch: 1 [38400/60000 (64%)]\tLoss: 0.207953\n",
            "Train Epoch: 1 [40000/60000 (67%)]\tLoss: 0.372833\n",
            "Train Epoch: 1 [41600/60000 (69%)]\tLoss: 0.501601\n",
            "Train Epoch: 1 [43200/60000 (72%)]\tLoss: 0.082867\n",
            "Train Epoch: 1 [44800/60000 (75%)]\tLoss: 0.020755\n",
            "Train Epoch: 1 [46400/60000 (77%)]\tLoss: 0.014352\n",
            "Train Epoch: 1 [48000/60000 (80%)]\tLoss: 0.054788\n",
            "Train Epoch: 1 [49600/60000 (83%)]\tLoss: 0.325691\n",
            "Train Epoch: 1 [51200/60000 (85%)]\tLoss: 0.008932\n",
            "Train Epoch: 1 [52800/60000 (88%)]\tLoss: 0.088686\n",
            "Train Epoch: 1 [54400/60000 (91%)]\tLoss: 0.016910\n",
            "Train Epoch: 1 [56000/60000 (93%)]\tLoss: 0.065485\n",
            "Train Epoch: 1 [57600/60000 (96%)]\tLoss: 0.031697\n",
            "Train Epoch: 1 [59200/60000 (99%)]\tLoss: 0.053857\n",
            "\n",
            "Test set: Average loss: 0.1255, Accuracy: 9631/10000 (96.3100%)\n",
            "\n",
            "Train Epoch: 2 [0/60000 (0%)]\tLoss: 0.065032\n",
            "Train Epoch: 2 [1600/60000 (3%)]\tLoss: 0.027340\n",
            "Train Epoch: 2 [3200/60000 (5%)]\tLoss: 0.022466\n",
            "Train Epoch: 2 [4800/60000 (8%)]\tLoss: 0.053044\n",
            "Train Epoch: 2 [6400/60000 (11%)]\tLoss: 0.054444\n",
            "Train Epoch: 2 [8000/60000 (13%)]\tLoss: 0.007003\n",
            "Train Epoch: 2 [9600/60000 (16%)]\tLoss: 0.410389\n",
            "Train Epoch: 2 [11200/60000 (19%)]\tLoss: 0.011084\n",
            "Train Epoch: 2 [12800/60000 (21%)]\tLoss: 0.118775\n",
            "Train Epoch: 2 [14400/60000 (24%)]\tLoss: 0.125643\n",
            "Train Epoch: 2 [16000/60000 (27%)]\tLoss: 0.110006\n",
            "Train Epoch: 2 [17600/60000 (29%)]\tLoss: 0.050319\n",
            "Train Epoch: 2 [19200/60000 (32%)]\tLoss: 0.034382\n",
            "Train Epoch: 2 [20800/60000 (35%)]\tLoss: 0.014184\n",
            "Train Epoch: 2 [22400/60000 (37%)]\tLoss: 0.225950\n",
            "Train Epoch: 2 [24000/60000 (40%)]\tLoss: 0.006645\n",
            "Train Epoch: 2 [25600/60000 (43%)]\tLoss: 0.138776\n",
            "Train Epoch: 2 [27200/60000 (45%)]\tLoss: 0.012910\n",
            "Train Epoch: 2 [28800/60000 (48%)]\tLoss: 0.020649\n",
            "Train Epoch: 2 [30400/60000 (51%)]\tLoss: 0.011244\n",
            "Train Epoch: 2 [32000/60000 (53%)]\tLoss: 0.005845\n",
            "Train Epoch: 2 [33600/60000 (56%)]\tLoss: 0.212634\n",
            "Train Epoch: 2 [35200/60000 (59%)]\tLoss: 0.017268\n",
            "Train Epoch: 2 [36800/60000 (61%)]\tLoss: 0.009282\n",
            "Train Epoch: 2 [38400/60000 (64%)]\tLoss: 0.022043\n",
            "Train Epoch: 2 [40000/60000 (67%)]\tLoss: 0.002036\n",
            "Train Epoch: 2 [41600/60000 (69%)]\tLoss: 0.057430\n",
            "Train Epoch: 2 [43200/60000 (72%)]\tLoss: 0.030711\n",
            "Train Epoch: 2 [44800/60000 (75%)]\tLoss: 0.001852\n",
            "Train Epoch: 2 [46400/60000 (77%)]\tLoss: 0.185613\n",
            "Train Epoch: 2 [48000/60000 (80%)]\tLoss: 0.003527\n",
            "Train Epoch: 2 [49600/60000 (83%)]\tLoss: 0.013294\n",
            "Train Epoch: 2 [51200/60000 (85%)]\tLoss: 0.549113\n",
            "Train Epoch: 2 [52800/60000 (88%)]\tLoss: 0.020194\n",
            "Train Epoch: 2 [54400/60000 (91%)]\tLoss: 0.006070\n",
            "Train Epoch: 2 [56000/60000 (93%)]\tLoss: 0.516551\n",
            "Train Epoch: 2 [57600/60000 (96%)]\tLoss: 0.232455\n",
            "Train Epoch: 2 [59200/60000 (99%)]\tLoss: 0.051810\n",
            "\n",
            "Test set: Average loss: 0.1091, Accuracy: 9672/10000 (96.7200%)\n",
            "\n",
            "Train Epoch: 3 [0/60000 (0%)]\tLoss: 0.048659\n",
            "Train Epoch: 3 [1600/60000 (3%)]\tLoss: 0.010949\n",
            "Train Epoch: 3 [3200/60000 (5%)]\tLoss: 0.005901\n",
            "Train Epoch: 3 [4800/60000 (8%)]\tLoss: 0.002848\n",
            "Train Epoch: 3 [6400/60000 (11%)]\tLoss: 0.023908\n",
            "Train Epoch: 3 [8000/60000 (13%)]\tLoss: 0.001334\n",
            "Train Epoch: 3 [9600/60000 (16%)]\tLoss: 0.102737\n",
            "Train Epoch: 3 [11200/60000 (19%)]\tLoss: 0.157862\n",
            "Train Epoch: 3 [12800/60000 (21%)]\tLoss: 0.185436\n",
            "Train Epoch: 3 [14400/60000 (24%)]\tLoss: 0.001172\n",
            "Train Epoch: 3 [16000/60000 (27%)]\tLoss: 0.302596\n",
            "Train Epoch: 3 [17600/60000 (29%)]\tLoss: 0.018992\n",
            "Train Epoch: 3 [19200/60000 (32%)]\tLoss: 0.000519\n",
            "Train Epoch: 3 [20800/60000 (35%)]\tLoss: 0.003882\n",
            "Train Epoch: 3 [22400/60000 (37%)]\tLoss: 0.001113\n",
            "Train Epoch: 3 [24000/60000 (40%)]\tLoss: 0.019208\n",
            "Train Epoch: 3 [25600/60000 (43%)]\tLoss: 0.355153\n",
            "Train Epoch: 3 [27200/60000 (45%)]\tLoss: 0.133671\n",
            "Train Epoch: 3 [28800/60000 (48%)]\tLoss: 0.004003\n",
            "Train Epoch: 3 [30400/60000 (51%)]\tLoss: 0.016756\n",
            "Train Epoch: 3 [32000/60000 (53%)]\tLoss: 0.010874\n",
            "Train Epoch: 3 [33600/60000 (56%)]\tLoss: 0.027817\n",
            "Train Epoch: 3 [35200/60000 (59%)]\tLoss: 0.003453\n",
            "Train Epoch: 3 [36800/60000 (61%)]\tLoss: 0.000111\n",
            "Train Epoch: 3 [38400/60000 (64%)]\tLoss: 0.011876\n",
            "Train Epoch: 3 [40000/60000 (67%)]\tLoss: 0.002332\n",
            "Train Epoch: 3 [41600/60000 (69%)]\tLoss: 0.022508\n",
            "Train Epoch: 3 [43200/60000 (72%)]\tLoss: 0.040349\n",
            "Train Epoch: 3 [44800/60000 (75%)]\tLoss: 0.388923\n",
            "Train Epoch: 3 [46400/60000 (77%)]\tLoss: 0.025428\n",
            "Train Epoch: 3 [48000/60000 (80%)]\tLoss: 0.003965\n",
            "Train Epoch: 3 [49600/60000 (83%)]\tLoss: 0.009769\n",
            "Train Epoch: 3 [51200/60000 (85%)]\tLoss: 0.280508\n",
            "Train Epoch: 3 [52800/60000 (88%)]\tLoss: 0.003858\n",
            "Train Epoch: 3 [54400/60000 (91%)]\tLoss: 0.090821\n",
            "Train Epoch: 3 [56000/60000 (93%)]\tLoss: 0.054262\n",
            "Train Epoch: 3 [57600/60000 (96%)]\tLoss: 0.047130\n",
            "Train Epoch: 3 [59200/60000 (99%)]\tLoss: 0.006319\n",
            "\n",
            "Test set: Average loss: 0.0981, Accuracy: 9720/10000 (97.2000%)\n",
            "\n",
            "Train Epoch: 1 [0/60000 (0%)]\tLoss: 2.323621\n",
            "Train Epoch: 1 [3200/60000 (5%)]\tLoss: 0.469296\n",
            "Train Epoch: 1 [6400/60000 (11%)]\tLoss: 0.193557\n",
            "Train Epoch: 1 [9600/60000 (16%)]\tLoss: 0.160846\n",
            "Train Epoch: 1 [12800/60000 (21%)]\tLoss: 0.175182\n",
            "Train Epoch: 1 [16000/60000 (27%)]\tLoss: 0.227619\n",
            "Train Epoch: 1 [19200/60000 (32%)]\tLoss: 0.096860\n",
            "Train Epoch: 1 [22400/60000 (37%)]\tLoss: 0.059324\n",
            "Train Epoch: 1 [25600/60000 (43%)]\tLoss: 0.075206\n",
            "Train Epoch: 1 [28800/60000 (48%)]\tLoss: 0.145293\n",
            "Train Epoch: 1 [32000/60000 (53%)]\tLoss: 0.057165\n",
            "Train Epoch: 1 [35200/60000 (59%)]\tLoss: 0.087403\n",
            "Train Epoch: 1 [38400/60000 (64%)]\tLoss: 0.181401\n",
            "Train Epoch: 1 [41600/60000 (69%)]\tLoss: 0.299337\n",
            "Train Epoch: 1 [44800/60000 (75%)]\tLoss: 0.029144\n",
            "Train Epoch: 1 [48000/60000 (80%)]\tLoss: 0.062817\n",
            "Train Epoch: 1 [51200/60000 (85%)]\tLoss: 0.091663\n",
            "Train Epoch: 1 [54400/60000 (91%)]\tLoss: 0.075181\n",
            "Train Epoch: 1 [57600/60000 (96%)]\tLoss: 0.421286\n",
            "\n",
            "Test set: Average loss: 0.1200, Accuracy: 9646/10000 (96.4600%)\n",
            "\n",
            "Train Epoch: 2 [0/60000 (0%)]\tLoss: 0.099065\n",
            "Train Epoch: 2 [3200/60000 (5%)]\tLoss: 0.132788\n",
            "Train Epoch: 2 [6400/60000 (11%)]\tLoss: 0.221555\n",
            "Train Epoch: 2 [9600/60000 (16%)]\tLoss: 0.280406\n",
            "Train Epoch: 2 [12800/60000 (21%)]\tLoss: 0.054938\n",
            "Train Epoch: 2 [16000/60000 (27%)]\tLoss: 0.063038\n",
            "Train Epoch: 2 [19200/60000 (32%)]\tLoss: 0.037040\n",
            "Train Epoch: 2 [22400/60000 (37%)]\tLoss: 0.138433\n",
            "Train Epoch: 2 [25600/60000 (43%)]\tLoss: 0.263372\n",
            "Train Epoch: 2 [28800/60000 (48%)]\tLoss: 0.047205\n",
            "Train Epoch: 2 [32000/60000 (53%)]\tLoss: 0.002397\n",
            "Train Epoch: 2 [35200/60000 (59%)]\tLoss: 0.242846\n",
            "Train Epoch: 2 [38400/60000 (64%)]\tLoss: 0.145379\n",
            "Train Epoch: 2 [41600/60000 (69%)]\tLoss: 0.015665\n",
            "Train Epoch: 2 [44800/60000 (75%)]\tLoss: 0.034995\n",
            "Train Epoch: 2 [48000/60000 (80%)]\tLoss: 0.016175\n",
            "Train Epoch: 2 [51200/60000 (85%)]\tLoss: 0.156215\n",
            "Train Epoch: 2 [54400/60000 (91%)]\tLoss: 0.034443\n",
            "Train Epoch: 2 [57600/60000 (96%)]\tLoss: 0.060207\n",
            "\n",
            "Test set: Average loss: 0.0867, Accuracy: 9707/10000 (97.0700%)\n",
            "\n",
            "Train Epoch: 3 [0/60000 (0%)]\tLoss: 0.018552\n",
            "Train Epoch: 3 [3200/60000 (5%)]\tLoss: 0.021064\n",
            "Train Epoch: 3 [6400/60000 (11%)]\tLoss: 0.048112\n",
            "Train Epoch: 3 [9600/60000 (16%)]\tLoss: 0.056118\n",
            "Train Epoch: 3 [12800/60000 (21%)]\tLoss: 0.116009\n",
            "Train Epoch: 3 [16000/60000 (27%)]\tLoss: 0.189528\n",
            "Train Epoch: 3 [19200/60000 (32%)]\tLoss: 0.006165\n",
            "Train Epoch: 3 [22400/60000 (37%)]\tLoss: 0.022440\n",
            "Train Epoch: 3 [25600/60000 (43%)]\tLoss: 0.163534\n",
            "Train Epoch: 3 [28800/60000 (48%)]\tLoss: 0.018084\n",
            "Train Epoch: 3 [32000/60000 (53%)]\tLoss: 0.024249\n",
            "Train Epoch: 3 [35200/60000 (59%)]\tLoss: 0.020853\n",
            "Train Epoch: 3 [38400/60000 (64%)]\tLoss: 0.012396\n",
            "Train Epoch: 3 [41600/60000 (69%)]\tLoss: 0.024507\n",
            "Train Epoch: 3 [44800/60000 (75%)]\tLoss: 0.131799\n",
            "Train Epoch: 3 [48000/60000 (80%)]\tLoss: 0.099568\n",
            "Train Epoch: 3 [51200/60000 (85%)]\tLoss: 0.120775\n",
            "Train Epoch: 3 [54400/60000 (91%)]\tLoss: 0.065234\n",
            "Train Epoch: 3 [57600/60000 (96%)]\tLoss: 0.055598\n",
            "\n",
            "Test set: Average loss: 0.0991, Accuracy: 9690/10000 (96.9000%)\n",
            "\n",
            "Train Epoch: 1 [0/60000 (0%)]\tLoss: 2.282267\n",
            "Train Epoch: 1 [6400/60000 (11%)]\tLoss: 0.305935\n",
            "Train Epoch: 1 [12800/60000 (21%)]\tLoss: 0.222676\n",
            "Train Epoch: 1 [19200/60000 (32%)]\tLoss: 0.210134\n",
            "Train Epoch: 1 [25600/60000 (43%)]\tLoss: 0.246377\n",
            "Train Epoch: 1 [32000/60000 (53%)]\tLoss: 0.131048\n",
            "Train Epoch: 1 [38400/60000 (64%)]\tLoss: 0.221053\n",
            "Train Epoch: 1 [44800/60000 (75%)]\tLoss: 0.149199\n",
            "Train Epoch: 1 [51200/60000 (85%)]\tLoss: 0.078571\n",
            "Train Epoch: 1 [57600/60000 (96%)]\tLoss: 0.445500\n",
            "\n",
            "Test set: Average loss: 0.1374, Accuracy: 9620/10000 (96.2000%)\n",
            "\n",
            "Train Epoch: 2 [0/60000 (0%)]\tLoss: 0.072910\n",
            "Train Epoch: 2 [6400/60000 (11%)]\tLoss: 0.337304\n",
            "Train Epoch: 2 [12800/60000 (21%)]\tLoss: 0.080145\n",
            "Train Epoch: 2 [19200/60000 (32%)]\tLoss: 0.105342\n",
            "Train Epoch: 2 [25600/60000 (43%)]\tLoss: 0.253119\n",
            "Train Epoch: 2 [32000/60000 (53%)]\tLoss: 0.084582\n",
            "Train Epoch: 2 [38400/60000 (64%)]\tLoss: 0.167021\n",
            "Train Epoch: 2 [44800/60000 (75%)]\tLoss: 0.048025\n",
            "Train Epoch: 2 [51200/60000 (85%)]\tLoss: 0.153006\n",
            "Train Epoch: 2 [57600/60000 (96%)]\tLoss: 0.093613\n",
            "\n",
            "Test set: Average loss: 0.1019, Accuracy: 9701/10000 (97.0100%)\n",
            "\n",
            "Train Epoch: 3 [0/60000 (0%)]\tLoss: 0.040519\n",
            "Train Epoch: 3 [6400/60000 (11%)]\tLoss: 0.057669\n",
            "Train Epoch: 3 [12800/60000 (21%)]\tLoss: 0.124475\n",
            "Train Epoch: 3 [19200/60000 (32%)]\tLoss: 0.026479\n",
            "Train Epoch: 3 [25600/60000 (43%)]\tLoss: 0.107253\n",
            "Train Epoch: 3 [32000/60000 (53%)]\tLoss: 0.118428\n",
            "Train Epoch: 3 [38400/60000 (64%)]\tLoss: 0.040665\n",
            "Train Epoch: 3 [44800/60000 (75%)]\tLoss: 0.204439\n",
            "Train Epoch: 3 [51200/60000 (85%)]\tLoss: 0.166668\n",
            "Train Epoch: 3 [57600/60000 (96%)]\tLoss: 0.120774\n",
            "\n",
            "Test set: Average loss: 0.0993, Accuracy: 9690/10000 (96.9000%)\n",
            "\n",
            "Train Epoch: 1 [0/60000 (0%)]\tLoss: 2.281342\n",
            "Train Epoch: 1 [25600/60000 (43%)]\tLoss: 0.367588\n",
            "Train Epoch: 1 [51200/60000 (85%)]\tLoss: 0.223312\n",
            "\n",
            "Test set: Average loss: 0.2557, Accuracy: 9272/10000 (92.7200%)\n",
            "\n",
            "Train Epoch: 2 [0/60000 (0%)]\tLoss: 0.278102\n",
            "Train Epoch: 2 [25600/60000 (43%)]\tLoss: 0.274953\n",
            "Train Epoch: 2 [51200/60000 (85%)]\tLoss: 0.228698\n",
            "\n",
            "Test set: Average loss: 0.1923, Accuracy: 9453/10000 (94.5300%)\n",
            "\n",
            "Train Epoch: 3 [0/60000 (0%)]\tLoss: 0.134603\n",
            "Train Epoch: 3 [25600/60000 (43%)]\tLoss: 0.149944\n",
            "Train Epoch: 3 [51200/60000 (85%)]\tLoss: 0.200832\n",
            "\n",
            "Test set: Average loss: 0.1546, Accuracy: 9551/10000 (95.5100%)\n",
            "\n",
            "Train Epoch: 1 [0/60000 (0%)]\tLoss: 2.292961\n",
            "Train Epoch: 1 [51200/60000 (85%)]\tLoss: 0.290541\n",
            "\n",
            "Test set: Average loss: 0.3065, Accuracy: 9119/10000 (91.1900%)\n",
            "\n",
            "Train Epoch: 2 [0/60000 (0%)]\tLoss: 0.281866\n",
            "Train Epoch: 2 [51200/60000 (85%)]\tLoss: 0.299392\n",
            "\n",
            "Test set: Average loss: 0.2608, Accuracy: 9254/10000 (92.5400%)\n",
            "\n",
            "Train Epoch: 3 [0/60000 (0%)]\tLoss: 0.308160\n",
            "Train Epoch: 3 [51200/60000 (85%)]\tLoss: 0.241125\n",
            "\n",
            "Test set: Average loss: 0.2195, Accuracy: 9366/10000 (93.6600%)\n",
            "\n",
            "Train Epoch: 1 [0/60000 (0%)]\tLoss: 2.300222\n",
            "\n",
            "Test set: Average loss: 0.3736, Accuracy: 8936/10000 (89.3600%)\n",
            "\n",
            "Train Epoch: 2 [0/60000 (0%)]\tLoss: 0.342566\n",
            "\n",
            "Test set: Average loss: 0.3078, Accuracy: 9127/10000 (91.2700%)\n",
            "\n",
            "Train Epoch: 3 [0/60000 (0%)]\tLoss: 0.331444\n",
            "\n",
            "Test set: Average loss: 0.2779, Accuracy: 9209/10000 (92.0900%)\n",
            "\n"
          ]
        }
      ],
      "source": [
        "# @markdown ### Train (run me)\n",
        "# Training settings\n",
        "args = {'batch_size': 32,\n",
        "        'test_batch_size': 1000,\n",
        "        'epochs': 3,\n",
        "        'lr': 0.01,\n",
        "        'momentum': 0.9,\n",
        "        'no_cuda': False,\n",
        "        'seed': 1,\n",
        "        'log_interval': 100\n",
        "        }\n",
        "\n",
        "batch_size = [8, 16, 32, 64, 256, 512, 1024]\n",
        "acc_dict = {}\n",
        "test_acc = []\n",
        "\n",
        "for i in range(len(batch_size)):\n",
        "    args['batch_size'] = batch_size[i]\n",
        "    acc, timer = main(args)\n",
        "    acc_dict['acc'+str(batch_size[i])] = acc\n",
        "    acc_dict['time'+str(batch_size[i])] = timer\n",
        "    test_acc.append(acc[-1])"
      ]
    },
    {
      "cell_type": "code",
      "execution_count": 17,
      "metadata": {
        "cellView": "form",
        "colab": {
          "base_uri": "https://localhost:8080/",
          "height": 433
        },
        "id": "SMkNtdQmLREc",
        "outputId": "63323000-6c35-45e3-9b6b-ff52b7d9f34f"
      },
      "outputs": [
        {
          "output_type": "display_data",
          "data": {
            "text/plain": [
              "<Figure size 576x432 with 1 Axes>"
            ],
            "image/png": "[encoded data removed]"
          },
          "metadata": {
            "image/png": {
              "width": 560,
              "height": 416
            }
          }
        }
      ],
      "source": [
        "# @markdown ### Plot (run me)\n",
        "with plt.xkcd():\n",
        "    plt.plot(batch_size, test_acc, linewidth=2)\n",
        "    plt.title('Optimal Minibach Size')\n",
        "    plt.ylabel('Test Accuracy (%)')\n",
        "    plt.xscale('log')\n",
        "    plt.xlabel('Batch Size')\n",
        "    plt.savefig('minibatch.png')\n",
        "    plt.show()"
      ]
    },
    {
      "cell_type": "code",
      "execution_count": 18,
      "metadata": {
        "cellView": "form",
        "id": "tYwQyOAnygw5"
      },
      "outputs": [],
      "source": [
        "#@markdown **Quiz Question 7:** How did the convergence speed vary with batch size? Why?\n",
        "convergence_speed = '' #@param {type:\"string\"}"
      ]
    },
    {
      "cell_type": "markdown",
      "metadata": {
        "id": "-uSRuwiTXTFO"
      },
      "source": [
        "---\n",
        "# Section 3: Batch normalization"
      ]
    },
    {
      "cell_type": "code",
      "execution_count": null,
      "metadata": {
        "cellView": "form",
        "colab": {
          "base_uri": "https://localhost:8080/",
          "height": 518
        },
        "id": "4hNogXMgSDBs",
        "outputId": "9e5a69e3-d2ab-405b-a94a-e0c04f1e5e09"
      },
      "outputs": [
        {
          "name": "stdout",
          "output_type": "stream",
          "text": [
            "Video available at https://youtube.com/watch?v=FAnd9Ra7v-E\n"
          ]
        },
        {
          "data": {
            "image/jpeg": "[encoded data removed]",
            "text/html": [
              "\n",
              "        <iframe\n",
              "            width=\"854\"\n",
              "            height=\"480\"\n",
              "            src=\"https://www.youtube.com/embed/FAnd9Ra7v-E?fs=1\"\n",
              "            frameborder=\"0\"\n",
              "            allowfullscreen\n",
              "        ></iframe>\n",
              "        "
            ],
            "text/plain": [
              "<IPython.lib.display.YouTubeVideo at 0x7f69516ac290>"
            ]
          },
          "execution_count": 22,
          "metadata": {},
          "output_type": "execute_result"
        }
      ],
      "source": [
        "#@title Video: Batch Normalization\n",
        "\n",
        "try: t3;\n",
        "except NameError: t3=time.time()\n",
        "\n",
        "video = YouTubeVideo(id=\"FAnd9Ra7v-E\", width=854, height=480, fs=1)\n",
        "print(\"Video available at https://youtube.com/watch?v=\" + video.id)\n",
        "video"
      ]
    },
    {
      "cell_type": "markdown",
      "metadata": {
        "id": "GWo8HcvjR_-a"
      },
      "source": [
        "Rather than improving the optimization algorithms, batch normalization improves the network structure itself by adding additional layers in between existing layers. The goal is to improve the optimization and generalization performance.\n",
        "\n",
        "In neural networks, we typically alternate linear (weighted summation) operations with non-linear operations, the activation functions, such as ReLU. The most common practice is to put the normalization in between the linear layers and activation functions.\n",
        "\n",
        "More formally, normalization is as follows:\n",
        "$$\\tilde x_j = a\\frac{x_j-\\mu_j}{\\sigma_j}+b$$\n",
        "where\n",
        "*   $x_j$ is the output of a neuron or, equivalently, the input to the next layer,\n",
        "*   $\\tilde x_j$ is that same feature after being normalized ,\n",
        "*   $\\mu_j$ is the mean of the feature $x_j$ over the minibatch,\n",
        "*   $\\sigma_j$ is the estimate of the standard deviation of $x_j$ over the minibatch (with $\\epsilon$ added, so we don't divide by zero),\n",
        "*   $a$ is the learnable scaling factor,\n",
        "*   $b$ is the learnable bias term.\n",
        "\n",
        "Batch normalization tries to reduce the “internal covariate shift” between the training and testing data. Internal covariate shift is the change in the distribution of network activations due to the change in paramaters during training. In neural networks, the output of the first layer feeds into the second layer, the output of the second layer feeds into the third, and so on. When the parameters of a layer change, so does the distribution of inputs to subsequent layers. These shifts in input distributions can be problematic for neural networks, especially deep neural networks that could have a large number of layers. Batch normalization tries to mitigate this. You can check out [this](https://arxiv.org/abs/1502.03167) paper where the idea of mitigating internal covariance shift with batch normalization was first introduced. \n",
        "\n",
        "\n",
        "The advantages of BN are as follows:\n",
        "\n",
        "*   Networks with normalization layers are easier to optimize, allowing for the use of larger learning rates, speeding up the training of neural networks.\n",
        "*   The mean/std deviation estimates are noisy due to the randomness of the samples in batch. This extra “noise” sometimes results in better generalization. Normalization has a regularization effect.\n",
        "*   Normalization reduces sensitivity to weight initialization.\n"
      ]
    },
    {
      "cell_type": "code",
      "execution_count": 19,
      "metadata": {
        "cellView": "form",
        "id": "Db4NgmA0XUlg"
      },
      "outputs": [],
      "source": [
        "#@markdown **Quiz Question 8:** Why do we need learnable parameters a and b for batch normalization? Why isn't the unit gaussian form sufficient?\n",
        "batch_norm_ab = '' #@param {type:\"string\"}\n"
      ]
    },
    {
      "cell_type": "markdown",
      "metadata": {
        "id": "j_BjOdOcSH4n"
      },
      "source": [
        "## Exercise 2: The joys and perils of batch normalization\n",
        "\n",
        "We implement 4 netowrks: 2-layer without batch norm, 2-layer without batch norm, 5-layer without batch norm, and 5-layer with batch norm separately to see how BN works in a shallow network and a deep one."
      ]
    },
    {
      "cell_type": "code",
      "execution_count": 20,
      "metadata": {
        "id": "AyY-qXIclJIr"
      },
      "outputs": [],
      "source": [
        "class BNShallowNet(nn.Module):\n",
        "    def __init__(self):\n",
        "        super(BNShallowNet, self).__init__()\n",
        "        self.fc1 = nn.Linear(784, 128)\n",
        "        self.fc2 = nn.Linear(128, 10)\n",
        "        self.bn = nn.BatchNorm1d(128)\n",
        "        self.dropout = nn.Dropout(0.5)\n",
        "        \n",
        "    def forward(self, x):\n",
        "        x = torch.flatten(x, 1)\n",
        "        x = self.fc1(x)\n",
        "        x = self.bn(x)\n",
        "        x = F.relu(x)\n",
        "        x = self.dropout(x)\n",
        "        x = self.fc2(x)\n",
        "        output = F.log_softmax(x, dim=1)\n",
        "        return output\n",
        "\n",
        "class BNDeepNet(nn.Module):\n",
        "    def __init__(self):\n",
        "        super(BNDeepNet, self).__init__()\n",
        "        self.fc1 = nn.Linear(784, 128)\n",
        "        self.fc2 = nn.Linear(128, 64)\n",
        "        self.fc3 = nn.Linear(64, 32)\n",
        "        self.fc4 = nn.Linear(32, 32)\n",
        "        self.fc5 = nn.Linear(32, 10)\n",
        "        self.bn1 = nn.BatchNorm1d(128)\n",
        "        self.bn2 = nn.BatchNorm1d(64)\n",
        "        self.bn3 = nn.BatchNorm1d(32)\n",
        "        self.bn4 = nn.BatchNorm1d(32)\n",
        "        self.dropout = nn.Dropout(0.5)\n",
        "        \n",
        "    def forward(self, x):\n",
        "        x = torch.flatten(x, 1)\n",
        "        x = self.fc1(x)\n",
        "        x = self.bn1(x)\n",
        "        x = F.relu(x)\n",
        "        x = self.fc2(x)\n",
        "        x = self.bn2(x)\n",
        "        x = F.relu(x)\n",
        "        x = self.fc3(x)\n",
        "        x = self.bn3(x)\n",
        "        x = F.relu(x)\n",
        "        x = self.fc4(x)\n",
        "        x = self.bn4(x)\n",
        "        x = F.relu(x)\n",
        "        x = self.dropout(x)\n",
        "        x = self.fc5(x)\n",
        "        output = F.log_softmax(x, dim=1)\n",
        "        return output\n",
        "\n",
        "class DeepNet(nn.Module):\n",
        "    def __init__(self):\n",
        "        super(DeepNet, self).__init__()\n",
        "        self.fc1 = nn.Linear(784, 128)\n",
        "        self.fc2 = nn.Linear(128, 64)\n",
        "        self.fc3 = nn.Linear(64, 32)\n",
        "        self.fc4 = nn.Linear(32, 32)\n",
        "        self.fc5 = nn.Linear(32, 10)\n",
        "        self.dropout = nn.Dropout(0.5)\n",
        "        \n",
        "    def forward(self, x):\n",
        "        x = torch.flatten(x, 1)\n",
        "        x = self.fc1(x)\n",
        "        x = F.relu(x)\n",
        "        x = self.fc2(x)\n",
        "        x = F.relu(x)\n",
        "        x = self.fc3(x)\n",
        "        x = F.relu(x)\n",
        "        x = self.fc4(x)\n",
        "        x = F.relu(x)\n",
        "        x = self.dropout(x)\n",
        "        x = self.fc5(x)\n",
        "        output = F.log_softmax(x, dim=1)\n",
        "        return output"
      ]
    },
    {
      "cell_type": "code",
      "execution_count": 21,
      "metadata": {
        "cellView": "form",
        "id": "ymNvSuVORILQ"
      },
      "outputs": [],
      "source": [
        "# @markdown ### Helper Functions (Run Me)\n",
        "def train(args, model, device, train_loader, optimizer, epoch):\n",
        "    model.train()\n",
        "    avg_loss = 0.\n",
        "    for batch_idx, (data, target) in enumerate(train_loader):\n",
        "        data, target = data.to(device), target.to(device)\n",
        "        optimizer.zero_grad()\n",
        "        output = model(data)\n",
        "        loss = F.nll_loss(output, target)\n",
        "        avg_loss += loss.item()\n",
        "        loss.backward()\n",
        "        optimizer.step()\n",
        "        if batch_idx % args['log_interval'] == 0:\n",
        "            print('Train Epoch: {} [{}/{} ({:.0f}%)]\\tLoss: {:.6f}'.format(\n",
        "                epoch, batch_idx * len(data), len(train_loader.dataset),\n",
        "                100. * batch_idx / len(train_loader), loss.item()))\n",
        "    avg_loss /= len(train_loader.dataset)\n",
        "    return avg_loss\n",
        "            \n",
        "def test(model, device, test_loader):\n",
        "    model.eval()\n",
        "    test_loss = 0\n",
        "    correct = 0\n",
        "    with torch.no_grad():\n",
        "        for data, target in test_loader:\n",
        "            data, target = data.to(device), target.to(device)\n",
        "            output = model(data)\n",
        "            test_loss += F.nll_loss(output, target, reduction='sum').item()  # sum up batch loss\n",
        "            pred = output.argmax(dim=1, keepdim=True)  # get the index of the max log-probability\n",
        "            correct += pred.eq(target.view_as(pred)).sum().item()\n",
        "\n",
        "    test_loss /= len(test_loader.dataset)\n",
        "\n",
        "    print('\\nTest set: Average loss: {:.4f}, Accuracy: {}/{} ({:.4f}%)\\n'.format(\n",
        "        test_loss, correct, len(test_loader.dataset),\n",
        "        100. * correct / len(test_loader.dataset)))\n",
        "    return test_loss\n",
        "\n",
        "def bn_eval(args):\n",
        "    use_cuda = not args['no_cuda'] and torch.cuda.is_available()\n",
        "    torch.manual_seed(args['seed'])\n",
        "    device = torch.device('cuda' if use_cuda else 'cpu')\n",
        "\n",
        "    train_kwargs = {'batch_size': args['batch_size']}\n",
        "    test_kwargs = {'batch_size': args['test_batch_size']}\n",
        "    if use_cuda:\n",
        "        cuda_kwargs = {'num_workers': 1,\n",
        "                       'pin_memory': True,\n",
        "                       'shuffle': True}\n",
        "        train_kwargs.update(cuda_kwargs)\n",
        "        test_kwargs.update(cuda_kwargs)\n",
        "\n",
        "    transform=transforms.Compose([\n",
        "        transforms.ToTensor(),\n",
        "        transforms.Normalize((0.1307,), (0.3081,))\n",
        "        ])\n",
        "    train_loader = torch.utils.data.DataLoader(datasets.MNIST('../data', train=True, download=True,\n",
        "                       transform=transform),**train_kwargs)\n",
        "    test_loader = torch.utils.data.DataLoader(datasets.MNIST('../data', train=False,\n",
        "                       transform=transform), **test_kwargs)\n",
        "\n",
        "    if args['net_type'] == 'Shallow':\n",
        "        model = Net().to(device)\n",
        "    elif args['net_type'] == 'BNShallow':\n",
        "        model = BNShallowNet().to(device)\n",
        "    elif args['net_type'] == 'Deep':\n",
        "        model = DeepNet().to(device)\n",
        "    elif args['net_type'] == 'BNDeep':\n",
        "        model = BNDeepNet().to(device)\n",
        "    optimizer = optim.SGD(model.parameters(), lr=args['lr'], momentum=args['momentum'])\n",
        "\n",
        "    train_list, test_list = [], []\n",
        "    for epoch in range(1, args['epochs'] + 1):\n",
        "        train_loss = train(args, model, device, train_loader, optimizer, epoch)\n",
        "        test_loss = test(model, device, test_loader)\n",
        "        train_list.append(train_loss)\n",
        "        test_list.append(test_loss)\n",
        "\n",
        "    return train_list, test_list"
      ]
    },
    {
      "cell_type": "markdown",
      "metadata": {
        "id": "izyWPUb2MZNO"
      },
      "source": [
        "The training takes over 20 mins. Again, time for a break :)"
      ]
    },
    {
      "cell_type": "code",
      "execution_count": null,
      "metadata": {
        "cellView": "form",
        "colab": {
          "base_uri": "https://localhost:8080/"
        },
        "id": "Tdp0rFk_S5mq",
        "outputId": "9e1f729d-9304-4043-99a3-c0d9b8826fdc"
      },
      "outputs": [
        {
          "output_type": "stream",
          "name": "stdout",
          "text": [
            "Train Epoch: 1 [0/60000 (0%)]\tLoss: 2.282267\n",
            "Train Epoch: 1 [6400/60000 (11%)]\tLoss: 0.305935\n",
            "Train Epoch: 1 [12800/60000 (21%)]\tLoss: 0.222676\n",
            "Train Epoch: 1 [19200/60000 (32%)]\tLoss: 0.210134\n",
            "Train Epoch: 1 [25600/60000 (43%)]\tLoss: 0.246377\n",
            "Train Epoch: 1 [32000/60000 (53%)]\tLoss: 0.131048\n",
            "Train Epoch: 1 [38400/60000 (64%)]\tLoss: 0.221053\n",
            "Train Epoch: 1 [44800/60000 (75%)]\tLoss: 0.149199\n",
            "Train Epoch: 1 [51200/60000 (85%)]\tLoss: 0.078571\n",
            "Train Epoch: 1 [57600/60000 (96%)]\tLoss: 0.445500\n",
            "\n",
            "Test set: Average loss: 0.1374, Accuracy: 9620/10000 (96.2000%)\n",
            "\n",
            "Train Epoch: 2 [0/60000 (0%)]\tLoss: 0.072910\n",
            "Train Epoch: 2 [6400/60000 (11%)]\tLoss: 0.337304\n",
            "Train Epoch: 2 [12800/60000 (21%)]\tLoss: 0.080145\n",
            "Train Epoch: 2 [19200/60000 (32%)]\tLoss: 0.105342\n",
            "Train Epoch: 2 [25600/60000 (43%)]\tLoss: 0.253119\n",
            "Train Epoch: 2 [32000/60000 (53%)]\tLoss: 0.084582\n",
            "Train Epoch: 2 [38400/60000 (64%)]\tLoss: 0.167021\n",
            "Train Epoch: 2 [44800/60000 (75%)]\tLoss: 0.048025\n",
            "Train Epoch: 2 [51200/60000 (85%)]\tLoss: 0.153006\n",
            "Train Epoch: 2 [57600/60000 (96%)]\tLoss: 0.093613\n",
            "\n",
            "Test set: Average loss: 0.1019, Accuracy: 9701/10000 (97.0100%)\n",
            "\n",
            "Train Epoch: 3 [0/60000 (0%)]\tLoss: 0.040519\n",
            "Train Epoch: 3 [6400/60000 (11%)]\tLoss: 0.057669\n",
            "Train Epoch: 3 [12800/60000 (21%)]\tLoss: 0.124475\n",
            "Train Epoch: 3 [19200/60000 (32%)]\tLoss: 0.026479\n",
            "Train Epoch: 3 [25600/60000 (43%)]\tLoss: 0.107253\n",
            "Train Epoch: 3 [32000/60000 (53%)]\tLoss: 0.118428\n",
            "Train Epoch: 3 [38400/60000 (64%)]\tLoss: 0.040665\n",
            "Train Epoch: 3 [44800/60000 (75%)]\tLoss: 0.204439\n",
            "Train Epoch: 3 [51200/60000 (85%)]\tLoss: 0.166668\n",
            "Train Epoch: 3 [57600/60000 (96%)]\tLoss: 0.120774\n",
            "\n",
            "Test set: Average loss: 0.0993, Accuracy: 9690/10000 (96.9000%)\n",
            "\n",
            "Train Epoch: 4 [0/60000 (0%)]\tLoss: 0.031343\n",
            "Train Epoch: 4 [6400/60000 (11%)]\tLoss: 0.011181\n",
            "Train Epoch: 4 [12800/60000 (21%)]\tLoss: 0.043151\n",
            "Train Epoch: 4 [19200/60000 (32%)]\tLoss: 0.031385\n",
            "Train Epoch: 4 [25600/60000 (43%)]\tLoss: 0.042075\n",
            "Train Epoch: 4 [32000/60000 (53%)]\tLoss: 0.090830\n",
            "Train Epoch: 4 [38400/60000 (64%)]\tLoss: 0.065564\n",
            "Train Epoch: 4 [44800/60000 (75%)]\tLoss: 0.039475\n",
            "Train Epoch: 4 [51200/60000 (85%)]\tLoss: 0.114973\n",
            "Train Epoch: 4 [57600/60000 (96%)]\tLoss: 0.014371\n",
            "\n",
            "Test set: Average loss: 0.0834, Accuracy: 9738/10000 (97.3800%)\n",
            "\n",
            "Train Epoch: 5 [0/60000 (0%)]\tLoss: 0.109835\n",
            "Train Epoch: 5 [6400/60000 (11%)]\tLoss: 0.041117\n",
            "Train Epoch: 5 [12800/60000 (21%)]\tLoss: 0.042239\n",
            "Train Epoch: 5 [19200/60000 (32%)]\tLoss: 0.023413\n",
            "Train Epoch: 5 [25600/60000 (43%)]\tLoss: 0.049990\n",
            "Train Epoch: 5 [32000/60000 (53%)]\tLoss: 0.057812\n",
            "Train Epoch: 5 [38400/60000 (64%)]\tLoss: 0.164557\n",
            "Train Epoch: 5 [44800/60000 (75%)]\tLoss: 0.014762\n",
            "Train Epoch: 5 [51200/60000 (85%)]\tLoss: 0.052469\n",
            "Train Epoch: 5 [57600/60000 (96%)]\tLoss: 0.117541\n",
            "\n",
            "Test set: Average loss: 0.0768, Accuracy: 9760/10000 (97.6000%)\n",
            "\n",
            "Train Epoch: 6 [0/60000 (0%)]\tLoss: 0.059615\n",
            "Train Epoch: 6 [6400/60000 (11%)]\tLoss: 0.019310\n",
            "Train Epoch: 6 [12800/60000 (21%)]\tLoss: 0.028748\n",
            "Train Epoch: 6 [19200/60000 (32%)]\tLoss: 0.019850\n",
            "Train Epoch: 6 [25600/60000 (43%)]\tLoss: 0.003270\n",
            "Train Epoch: 6 [32000/60000 (53%)]\tLoss: 0.010852\n",
            "Train Epoch: 6 [38400/60000 (64%)]\tLoss: 0.015190\n",
            "Train Epoch: 6 [44800/60000 (75%)]\tLoss: 0.009764\n",
            "Train Epoch: 6 [51200/60000 (85%)]\tLoss: 0.015995\n",
            "Train Epoch: 6 [57600/60000 (96%)]\tLoss: 0.025571\n",
            "\n",
            "Test set: Average loss: 0.0758, Accuracy: 9764/10000 (97.6400%)\n",
            "\n",
            "Train Epoch: 7 [0/60000 (0%)]\tLoss: 0.028968\n",
            "Train Epoch: 7 [6400/60000 (11%)]\tLoss: 0.026910\n",
            "Train Epoch: 7 [12800/60000 (21%)]\tLoss: 0.030319\n",
            "Train Epoch: 7 [19200/60000 (32%)]\tLoss: 0.002977\n",
            "Train Epoch: 7 [25600/60000 (43%)]\tLoss: 0.066212\n",
            "Train Epoch: 7 [32000/60000 (53%)]\tLoss: 0.010150\n",
            "Train Epoch: 7 [38400/60000 (64%)]\tLoss: 0.115025\n",
            "Train Epoch: 7 [44800/60000 (75%)]\tLoss: 0.037875\n",
            "Train Epoch: 7 [51200/60000 (85%)]\tLoss: 0.022855\n",
            "Train Epoch: 7 [57600/60000 (96%)]\tLoss: 0.021097\n",
            "\n",
            "Test set: Average loss: 0.0704, Accuracy: 9775/10000 (97.7500%)\n",
            "\n",
            "Train Epoch: 8 [0/60000 (0%)]\tLoss: 0.009663\n",
            "Train Epoch: 8 [6400/60000 (11%)]\tLoss: 0.016750\n",
            "Train Epoch: 8 [12800/60000 (21%)]\tLoss: 0.012591\n",
            "Train Epoch: 8 [19200/60000 (32%)]\tLoss: 0.013068\n",
            "Train Epoch: 8 [25600/60000 (43%)]\tLoss: 0.022369\n",
            "Train Epoch: 8 [32000/60000 (53%)]\tLoss: 0.026309\n",
            "Train Epoch: 8 [38400/60000 (64%)]\tLoss: 0.030159\n",
            "Train Epoch: 8 [44800/60000 (75%)]\tLoss: 0.013191\n",
            "Train Epoch: 8 [51200/60000 (85%)]\tLoss: 0.016442\n",
            "Train Epoch: 8 [57600/60000 (96%)]\tLoss: 0.015697\n",
            "\n",
            "Test set: Average loss: 0.0673, Accuracy: 9793/10000 (97.9300%)\n",
            "\n",
            "Train Epoch: 9 [0/60000 (0%)]\tLoss: 0.010769\n",
            "Train Epoch: 9 [6400/60000 (11%)]\tLoss: 0.009030\n",
            "Train Epoch: 9 [12800/60000 (21%)]\tLoss: 0.029838\n",
            "Train Epoch: 9 [19200/60000 (32%)]\tLoss: 0.035296\n",
            "Train Epoch: 9 [25600/60000 (43%)]\tLoss: 0.003172\n",
            "Train Epoch: 9 [32000/60000 (53%)]\tLoss: 0.022865\n",
            "Train Epoch: 9 [38400/60000 (64%)]\tLoss: 0.022385\n",
            "Train Epoch: 9 [44800/60000 (75%)]\tLoss: 0.002706\n",
            "Train Epoch: 9 [51200/60000 (85%)]\tLoss: 0.004180\n",
            "Train Epoch: 9 [57600/60000 (96%)]\tLoss: 0.004026\n",
            "\n",
            "Test set: Average loss: 0.0696, Accuracy: 9800/10000 (98.0000%)\n",
            "\n",
            "Train Epoch: 10 [0/60000 (0%)]\tLoss: 0.017206\n",
            "Train Epoch: 10 [6400/60000 (11%)]\tLoss: 0.018347\n",
            "Train Epoch: 10 [12800/60000 (21%)]\tLoss: 0.006362\n",
            "Train Epoch: 10 [19200/60000 (32%)]\tLoss: 0.008595\n",
            "Train Epoch: 10 [25600/60000 (43%)]\tLoss: 0.005546\n",
            "Train Epoch: 10 [32000/60000 (53%)]\tLoss: 0.028593\n",
            "Train Epoch: 10 [38400/60000 (64%)]\tLoss: 0.017212\n",
            "Train Epoch: 10 [44800/60000 (75%)]\tLoss: 0.025001\n",
            "Train Epoch: 10 [51200/60000 (85%)]\tLoss: 0.006165\n",
            "Train Epoch: 10 [57600/60000 (96%)]\tLoss: 0.011661\n",
            "\n",
            "Test set: Average loss: 0.0755, Accuracy: 9775/10000 (97.7500%)\n",
            "\n",
            "Train Epoch: 1 [0/60000 (0%)]\tLoss: 2.414094\n",
            "Train Epoch: 1 [6400/60000 (11%)]\tLoss: 0.300923\n",
            "Train Epoch: 1 [12800/60000 (21%)]\tLoss: 0.356416\n",
            "Train Epoch: 1 [19200/60000 (32%)]\tLoss: 0.304625\n",
            "Train Epoch: 1 [25600/60000 (43%)]\tLoss: 0.385395\n",
            "Train Epoch: 1 [32000/60000 (53%)]\tLoss: 0.148576\n",
            "Train Epoch: 1 [38400/60000 (64%)]\tLoss: 0.404947\n",
            "Train Epoch: 1 [44800/60000 (75%)]\tLoss: 0.306064\n",
            "Train Epoch: 1 [51200/60000 (85%)]\tLoss: 0.193024\n",
            "Train Epoch: 1 [57600/60000 (96%)]\tLoss: 0.465595\n"
          ]
        }
      ],
      "source": [
        "# @markdown ### Train function (Run me)\n",
        "# Training settings\n",
        "args = {'batch_size': 64,\n",
        "        'test_batch_size': 1000,\n",
        "        'epochs': 10,\n",
        "        'lr': 0.01,\n",
        "        'momentum': 0.9,\n",
        "        'net_type': 'Net',\n",
        "        'no_cuda': False,\n",
        "        'seed': 1,\n",
        "        'log_interval': 100\n",
        "        }\n",
        "\n",
        "net = ['Shallow', 'BNShallow', 'Deep', 'BNDeep']\n",
        "loss_dict = {}\n",
        "\n",
        "for i in range(len(net)):\n",
        "    args['net_type'] = net[i]\n",
        "    train_loss, test_loss = bn_eval(args)\n",
        "    loss_dict['train' + str(net[i])] = train_loss\n",
        "    loss_dict['test' + str(net[i])] = test_loss"
      ]
    },
    {
      "cell_type": "code",
      "execution_count": null,
      "metadata": {
        "cellView": "form",
        "colab": {
          "base_uri": "https://localhost:8080/",
          "height": 289
        },
        "id": "Jw4p70xhUZ1X",
        "outputId": "9fc22424-32a8-4a81-a76c-a782ee44d897"
      },
      "outputs": [
        {
          "data": {
            "image/png": "[encoded data removed]",
            "text/plain": [
              "<Figure size 720x288 with 2 Axes>"
            ]
          },
          "metadata": {
            "image/png": {
              "height": 272,
              "width": 704
            }
          },
          "output_type": "display_data"
        }
      ],
      "source": [
        "# @markdown ### Plot (run me)\n",
        "with plt.xkcd():\n",
        "    fig, axs = plt.subplots(1, 2, figsize=(10,4))\n",
        "    axs[0].plot(loss_dict['trainShallow'], label='Shallow w/o BN', color='b')\n",
        "    axs[1].plot(loss_dict['testShallow'], label='Shallow w/o BN', color='b', linestyle='dashed')\n",
        "    axs[0].plot(loss_dict['trainBNShallow'], label='Shallow BN', color='r')\n",
        "    axs[1].plot(loss_dict['testBNShallow'], label='Shallow BN', color='r', linestyle='dashed')\n",
        "    axs[0].plot(loss_dict['trainDeep'], label='Deep w/o BN', color='g')\n",
        "    axs[1].plot(loss_dict['testDeep'], label='Deep w/o BN', color='g', linestyle='dashed')\n",
        "    axs[0].plot(loss_dict['trainBNDeep'], label='Deep BN', color='orange')\n",
        "    axs[1].plot(loss_dict['testBNDeep'], label='Deep BN', color='orange', linestyle='dashed')\n",
        "    axs[0].set_title('Train')\n",
        "    axs[1].set_title('Test')\n",
        "    axs[0].set_ylabel('Loss')\n",
        "    #plt.yscale('log')\n",
        "    axs[0].set_xlabel('Epoch')\n",
        "    axs[1].set_xlabel('Epoch')\n",
        "    axs[0].legend()\n",
        "    axs[1].legend()\n",
        "    plt.show()"
      ]
    },
    {
      "cell_type": "markdown",
      "metadata": {
        "id": "vRc73jUPqF5B"
      },
      "source": [
        "## Momentum \n",
        "\n",
        "Momentum in gradient descent is similar to the concept of momentum in physics. The optimization process resembles a ball rolling down the hill. Momentum keeps the ball moving in the same direction that it is already moving in. The gradient can be thought of as a force pushing the ball in some other direction.\n",
        "\n",
        "<p align=\"center\">\n",
        "  <img width=\"460\" height=\"300\" src=\"https://miro.medium.com/max/640/1*i1Qc2E0TVlPHEKG7LepXgA.gif\">\n",
        "</p>\n",
        "\n",
        "Mathematically it can be expressed as follows-\n",
        "$$w_{t+1}=w_t-\\eta (\\nabla f(w_t) +\\beta m_{t}) $$\n",
        "$$m_{t+1}= \\nabla f(w_t) +\\beta m_{t}$$\n",
        "or, equivalently\n",
        "$$w_{t+1}= w_t -\\eta\\nabla f(w_t) +\\beta (w_{t} -w_{t-1})$$\n",
        "\n",
        "where\n",
        "*   $m$ is the momentum (the running average of the past gradients, initialized at zero),\n",
        "*   $\\beta\\in [0,1)$ is the damping factor, usually $0.9$ or $0.99$."
      ]
    },
    {
      "cell_type": "markdown",
      "metadata": {
        "id": "MSYiHGpxHill"
      },
      "source": [
        "\n",
        "\n",
        "Let’s consider two extreme cases to understand this decay rate parameter better. If the decay rate is 0, then it is exactly the same as (vanilla) gradient descent (blue ball). If the decay rate is 1 (and provided that the learning rate is reasonably small), then it rocks back and forth endlessly like the frictionless ball we saw previously; you do not want that. Typically the decay rate is chosen around 0.8–0.9 — it’s like a surface with a little bit of friction so it eventually slows down and stops (purple ball).\n",
        "\n",
        "<p align=\"center\">\n",
        "  <img width=\"460\" height=\"300\" src=\"https://miro.medium.com/max/800/1*zVi4ayX9u0MQQwa90CnxVg.gif\">\n",
        "</p>\n",
        "\n"
      ]
    },
    {
      "cell_type": "markdown",
      "metadata": {
        "id": "aALryw2eqHIQ"
      },
      "source": [
        "Go check this out --> [Interactive view](https://distill.pub/2017/momentum/)"
      ]
    },
    {
      "cell_type": "markdown",
      "metadata": {
        "id": "EgujrjVdfwVW"
      },
      "source": [
        "---\n",
        "# Quiz\n",
        "\n",
        "As you might have seen, the quiz questions are now dispersed throughout the notebook. This was requested by a few of you and we hope it makes it easier to answer questions as you go :) "
      ]
    },
    {
      "cell_type": "markdown",
      "metadata": {
        "id": "iZcTTso8J23M"
      },
      "source": [
        "---\n",
        "# Wrap up"
      ]
    },
    {
      "cell_type": "markdown",
      "metadata": {
        "id": "7SM1xlMdJ7xB"
      },
      "source": [
        "## Submit responses"
      ]
    },
    {
      "cell_type": "code",
      "execution_count": null,
      "metadata": {
        "id": "7K1yAK8tKDuA"
      },
      "outputs": [],
      "source": [
        "#@markdown #Run Cell to Show Airtable Form\n",
        "#@markdown ##**Confirm your answers and then click \"Submit\"**\n",
        "\n",
        "#@markdown If you have any issues with the submission form, please use this link and manually copy your answers there: https://airtable.com/shrUGZJaWo6SwgRTH\n",
        "\n",
        "import time\n",
        "import numpy as np\n",
        "from IPython.display import IFrame\n",
        "from urllib.parse import quote_plus\n",
        "\n",
        "def prefill_form(src, fields: dict):\n",
        "  '''\n",
        "  src: the original src url to embed the form\n",
        "  fields: a dictionary of field:value pairs,\n",
        "  e.g. {\"pennkey\": my_pennkey, \"location\": my_location}\n",
        "  '''\n",
        "  prefills = \"&\".join([\"prefill_%s=%s\"%(key, quote_plus(fields[key]) if isinstance(fields[key], str) else fields[key]) for key in fields])\n",
        "  src = src + prefills\n",
        "  src = \"+\".join(src.split(\" \"))\n",
        "  return src\n",
        "\n",
        "\n",
        "#autofill time if it is not present\n",
        "try: t0;\n",
        "except NameError: t0 = time.time()\n",
        "try: t1;\n",
        "except NameError: t1 = time.time()\n",
        "\n",
        "times = [(t-t0) for t in [t1]]\n",
        "\n",
        "\n",
        "#autofill fields if they are not present\n",
        "#a missing pennkey and pod will result in an Airtable warning\n",
        "#which is easily fixed user-side.\n",
        "try: my_pennkey;\n",
        "except NameError: my_pennkey = \"\"\n",
        "try: my_pod;\n",
        "except NameError: my_pod = \"\"\n",
        "try: my_email;\n",
        "except NameError: my_email = \"\"\n",
        "\n",
        " \n",
        "try: strategy;\n",
        "except NameError: strategy = \"\";\n",
        "try: loss_fn;\n",
        "except NameError: loss_fn = \"\"\n",
        "try: characteristics_for_gd;\n",
        "except NameError: characteristics_for_gd = \"\"\n",
        "try: sgd_vs_minibtach_plot;\n",
        "except NameError: sgd_vs_minibtach_plot = \"\"\n",
        "try: megabytes_1;\n",
        "except NameError: megabytes_1 = \"\"\n",
        "try: megabytes_2;\n",
        "except NameError: megabytes_2 = \"\"\n",
        "try: convergence_speed;\n",
        "except NameError: convergence_speed = False\n",
        "try: batch_norm_ab;\n",
        "except NameError: batch_norm_ab = \"\"\n",
        "\n",
        "\n",
        "\n",
        "\n",
        "fields = {\n",
        "    \"pennkey\": my_pennkey,\n",
        "    \"pod\": my_pod, \n",
        "    \"email\": my_email,\n",
        "    \"tutorial\": tutorial,\n",
        "    \"strategy\": strategy, \n",
        "    \"loss_fn\": loss_fn, \n",
        "    \"characteristics_for_gd\": characteristics_for_gd,\n",
        "    \"sgd_vs_minibtach_plot\": sgd_vs_minibtach_plot,\n",
        "    \"convergence_speed\": convergence_speed,\n",
        "    \"batch_norm_ab\": batch_norm_ab,\n",
        "    \"cumulative_times\": times,\n",
        "    \"megabytes_1\": megabytes_1,\n",
        "    \"megabytes_2\": megabytes_2\n",
        "}\n",
        "\n",
        "src = \"https://airtable.com/embed/shrUGZJaWo6SwgRTH?\"\n",
        "\n",
        "#now instead of the original source url, we do: src = prefill_form(src, fields)\n",
        "display(IFrame(src = prefill_form(src, fields), width = 800, height = 400))\n"
      ]
    },
    {
      "cell_type": "markdown",
      "metadata": {
        "id": "pTlLIcI9TlbN"
      },
      "source": [
        "# Feedback\n",
        "\n",
        "*   How could this session have been better?\n",
        "*   How happy are you in your group?\n",
        "*   How do you feel right now?"
      ]
    },
    {
      "cell_type": "code",
      "execution_count": null,
      "metadata": {
        "cellView": "form",
        "colab": {
          "base_uri": "https://localhost:8080/",
          "height": 421
        },
        "id": "5K-ILLzoT0XO",
        "outputId": "f597ec7e-ce36-4057-9052-869f54988649"
      },
      "outputs": [
        {
          "data": {
            "text/html": [
              "\n",
              "        <iframe\n",
              "            width=\"800\"\n",
              "            height=\"400\"\n",
              "            src=\"https://airtable.com/embed/shr1TzujOOOY21kFQ\"\n",
              "            frameborder=\"0\"\n",
              "            allowfullscreen\n",
              "        ></iframe>\n",
              "        "
            ],
            "text/plain": [
              "<IPython.lib.display.IFrame at 0x7f6952e80990>"
            ]
          },
          "metadata": {},
          "output_type": "display_data"
        }
      ],
      "source": [
        "# @title Feedback form\n",
        "display(IFrame(src=\"https://airtable.com/embed/shr1TzujOOOY21kFQ\", width = 800, height = 400))"
      ]
    }
  ],
  "metadata": {
    "accelerator": "GPU",
    "colab": {
      "name": "CIS_522_W4D1_Tutorial_–_Student_Version.ipynb",
      "provenance": [],
      "toc_visible": true,
      "include_colab_link": true
    },
    "kernelspec": {
      "display_name": "Python 3",
      "language": "python",
      "name": "python3"
    },
    "language_info": {
      "name": "python",
      "version": "3.10.0 (default, Jan 12 2022, 16:38:35) [Clang 13.0.0 (clang-1300.0.29.30)]"
    },
    "vscode": {
      "interpreter": {
        "hash": "c87ee834c2458a7cf5e34743e4a2d302f1d67af2ede21ef77017c6c0552f8c80"
      }
    },
    "widgets": {
      "application/vnd.jupyter.widget-state+json": {
        "3978118306c84c4eb7da6dec1455c00a": {
          "model_module": "@jupyter-widgets/controls",
          "model_name": "HBoxModel",
          "model_module_version": "1.5.0",
          "state": {
            "_dom_classes": [],
            "_model_module": "@jupyter-widgets/controls",
            "_model_module_version": "1.5.0",
            "_model_name": "HBoxModel",
            "_view_count": null,
            "_view_module": "@jupyter-widgets/controls",
            "_view_module_version": "1.5.0",
            "_view_name": "HBoxView",
            "box_style": "",
            "children": [
              "IPY_MODEL_c56b1b2bb274465f80f5e8a4a6f1c632",
              "IPY_MODEL_0a6ce6f67e3341adbc35e7478f9e67b3",
              "IPY_MODEL_febd0cf6529943448ececa5f44c3fbee"
            ],
            "layout": "IPY_MODEL_8f6bed59314f4f8ab0ea9e1523aae8dc"
          }
        },
        "c56b1b2bb274465f80f5e8a4a6f1c632": {
          "model_module": "@jupyter-widgets/controls",
          "model_name": "HTMLModel",
          "model_module_version": "1.5.0",
          "state": {
            "_dom_classes": [],
            "_model_module": "@jupyter-widgets/controls",
            "_model_module_version": "1.5.0",
            "_model_name": "HTMLModel",
            "_view_count": null,
            "_view_module": "@jupyter-widgets/controls",
            "_view_module_version": "1.5.0",
            "_view_name": "HTMLView",
            "description": "",
            "description_tooltip": null,
            "layout": "IPY_MODEL_3a89efcba23640668fcc8f2a7eaf2245",
            "placeholder": "​",
            "style": "IPY_MODEL_01ee996998ca4525807a240fa5253dae",
            "value": "100%"
          }
        },
        "0a6ce6f67e3341adbc35e7478f9e67b3": {
          "model_module": "@jupyter-widgets/controls",
          "model_name": "FloatProgressModel",
          "model_module_version": "1.5.0",
          "state": {
            "_dom_classes": [],
            "_model_module": "@jupyter-widgets/controls",
            "_model_module_version": "1.5.0",
            "_model_name": "FloatProgressModel",
            "_view_count": null,
            "_view_module": "@jupyter-widgets/controls",
            "_view_module_version": "1.5.0",
            "_view_name": "ProgressView",
            "bar_style": "success",
            "description": "",
            "description_tooltip": null,
            "layout": "IPY_MODEL_e4ec22cae4f340c594622e48cd7dec35",
            "max": 9912422,
            "min": 0,
            "orientation": "horizontal",
            "style": "IPY_MODEL_09564f4c015e42c29da4a73da2784330",
            "value": 9912422
          }
        },
        "febd0cf6529943448ececa5f44c3fbee": {
          "model_module": "@jupyter-widgets/controls",
          "model_name": "HTMLModel",
          "model_module_version": "1.5.0",
          "state": {
            "_dom_classes": [],
            "_model_module": "@jupyter-widgets/controls",
            "_model_module_version": "1.5.0",
            "_model_name": "HTMLModel",
            "_view_count": null,
            "_view_module": "@jupyter-widgets/controls",
            "_view_module_version": "1.5.0",
            "_view_name": "HTMLView",
            "description": "",
            "description_tooltip": null,
            "layout": "IPY_MODEL_2940f991ae3f4f76911542b3d689f5c1",
            "placeholder": "​",
            "style": "IPY_MODEL_8c58295567664541a860d5392691eccd",
            "value": " 9912422/9912422 [00:00&lt;00:00, 148040561.33it/s]"
          }
        },
        "8f6bed59314f4f8ab0ea9e1523aae8dc": {
          "model_module": "@jupyter-widgets/base",
          "model_name": "LayoutModel",
          "model_module_version": "1.2.0",
          "state": {
            "_model_module": "@jupyter-widgets/base",
            "_model_module_version": "1.2.0",
            "_model_name": "LayoutModel",
            "_view_count": null,
            "_view_module": "@jupyter-widgets/base",
            "_view_module_version": "1.2.0",
            "_view_name": "LayoutView",
            "align_content": null,
            "align_items": null,
            "align_self": null,
            "border": null,
            "bottom": null,
            "display": null,
            "flex": null,
            "flex_flow": null,
            "grid_area": null,
            "grid_auto_columns": null,
            "grid_auto_flow": null,
            "grid_auto_rows": null,
            "grid_column": null,
            "grid_gap": null,
            "grid_row": null,
            "grid_template_areas": null,
            "grid_template_columns": null,
            "grid_template_rows": null,
            "height": null,
            "justify_content": null,
            "justify_items": null,
            "left": null,
            "margin": null,
            "max_height": null,
            "max_width": null,
            "min_height": null,
            "min_width": null,
            "object_fit": null,
            "object_position": null,
            "order": null,
            "overflow": null,
            "overflow_x": null,
            "overflow_y": null,
            "padding": null,
            "right": null,
            "top": null,
            "visibility": null,
            "width": null
          }
        },
        "3a89efcba23640668fcc8f2a7eaf2245": {
          "model_module": "@jupyter-widgets/base",
          "model_name": "LayoutModel",
          "model_module_version": "1.2.0",
          "state": {
            "_model_module": "@jupyter-widgets/base",
            "_model_module_version": "1.2.0",
            "_model_name": "LayoutModel",
            "_view_count": null,
            "_view_module": "@jupyter-widgets/base",
            "_view_module_version": "1.2.0",
            "_view_name": "LayoutView",
            "align_content": null,
            "align_items": null,
            "align_self": null,
            "border": null,
            "bottom": null,
            "display": null,
            "flex": null,
            "flex_flow": null,
            "grid_area": null,
            "grid_auto_columns": null,
            "grid_auto_flow": null,
            "grid_auto_rows": null,
            "grid_column": null,
            "grid_gap": null,
            "grid_row": null,
            "grid_template_areas": null,
            "grid_template_columns": null,
            "grid_template_rows": null,
            "height": null,
            "justify_content": null,
            "justify_items": null,
            "left": null,
            "margin": null,
            "max_height": null,
            "max_width": null,
            "min_height": null,
            "min_width": null,
            "object_fit": null,
            "object_position": null,
            "order": null,
            "overflow": null,
            "overflow_x": null,
            "overflow_y": null,
            "padding": null,
            "right": null,
            "top": null,
            "visibility": null,
            "width": null
          }
        },
        "01ee996998ca4525807a240fa5253dae": {
          "model_module": "@jupyter-widgets/controls",
          "model_name": "DescriptionStyleModel",
          "model_module_version": "1.5.0",
          "state": {
            "_model_module": "@jupyter-widgets/controls",
            "_model_module_version": "1.5.0",
            "_model_name": "DescriptionStyleModel",
            "_view_count": null,
            "_view_module": "@jupyter-widgets/base",
            "_view_module_version": "1.2.0",
            "_view_name": "StyleView",
            "description_width": ""
          }
        },
        "e4ec22cae4f340c594622e48cd7dec35": {
          "model_module": "@jupyter-widgets/base",
          "model_name": "LayoutModel",
          "model_module_version": "1.2.0",
          "state": {
            "_model_module": "@jupyter-widgets/base",
            "_model_module_version": "1.2.0",
            "_model_name": "LayoutModel",
            "_view_count": null,
            "_view_module": "@jupyter-widgets/base",
            "_view_module_version": "1.2.0",
            "_view_name": "LayoutView",
            "align_content": null,
            "align_items": null,
            "align_self": null,
            "border": null,
            "bottom": null,
            "display": null,
            "flex": null,
            "flex_flow": null,
            "grid_area": null,
            "grid_auto_columns": null,
            "grid_auto_flow": null,
            "grid_auto_rows": null,
            "grid_column": null,
            "grid_gap": null,
            "grid_row": null,
            "grid_template_areas": null,
            "grid_template_columns": null,
            "grid_template_rows": null,
            "height": null,
            "justify_content": null,
            "justify_items": null,
            "left": null,
            "margin": null,
            "max_height": null,
            "max_width": null,
            "min_height": null,
            "min_width": null,
            "object_fit": null,
            "object_position": null,
            "order": null,
            "overflow": null,
            "overflow_x": null,
            "overflow_y": null,
            "padding": null,
            "right": null,
            "top": null,
            "visibility": null,
            "width": null
          }
        },
        "09564f4c015e42c29da4a73da2784330": {
          "model_module": "@jupyter-widgets/controls",
          "model_name": "ProgressStyleModel",
          "model_module_version": "1.5.0",
          "state": {
            "_model_module": "@jupyter-widgets/controls",
            "_model_module_version": "1.5.0",
            "_model_name": "ProgressStyleModel",
            "_view_count": null,
            "_view_module": "@jupyter-widgets/base",
            "_view_module_version": "1.2.0",
            "_view_name": "StyleView",
            "bar_color": null,
            "description_width": ""
          }
        },
        "2940f991ae3f4f76911542b3d689f5c1": {
          "model_module": "@jupyter-widgets/base",
          "model_name": "LayoutModel",
          "model_module_version": "1.2.0",
          "state": {
            "_model_module": "@jupyter-widgets/base",
            "_model_module_version": "1.2.0",
            "_model_name": "LayoutModel",
            "_view_count": null,
            "_view_module": "@jupyter-widgets/base",
            "_view_module_version": "1.2.0",
            "_view_name": "LayoutView",
            "align_content": null,
            "align_items": null,
            "align_self": null,
            "border": null,
            "bottom": null,
            "display": null,
            "flex": null,
            "flex_flow": null,
            "grid_area": null,
            "grid_auto_columns": null,
            "grid_auto_flow": null,
            "grid_auto_rows": null,
            "grid_column": null,
            "grid_gap": null,
            "grid_row": null,
            "grid_template_areas": null,
            "grid_template_columns": null,
            "grid_template_rows": null,
            "height": null,
            "justify_content": null,
            "justify_items": null,
            "left": null,
            "margin": null,
            "max_height": null,
            "max_width": null,
            "min_height": null,
            "min_width": null,
            "object_fit": null,
            "object_position": null,
            "order": null,
            "overflow": null,
            "overflow_x": null,
            "overflow_y": null,
            "padding": null,
            "right": null,
            "top": null,
            "visibility": null,
            "width": null
          }
        },
        "8c58295567664541a860d5392691eccd": {
          "model_module": "@jupyter-widgets/controls",
          "model_name": "DescriptionStyleModel",
          "model_module_version": "1.5.0",
          "state": {
            "_model_module": "@jupyter-widgets/controls",
            "_model_module_version": "1.5.0",
            "_model_name": "DescriptionStyleModel",
            "_view_count": null,
            "_view_module": "@jupyter-widgets/base",
            "_view_module_version": "1.2.0",
            "_view_name": "StyleView",
            "description_width": ""
          }
        },
        "c4fda2cae9ee4476ba591c5f03f03c6a": {
          "model_module": "@jupyter-widgets/controls",
          "model_name": "HBoxModel",
          "model_module_version": "1.5.0",
          "state": {
            "_dom_classes": [],
            "_model_module": "@jupyter-widgets/controls",
            "_model_module_version": "1.5.0",
            "_model_name": "HBoxModel",
            "_view_count": null,
            "_view_module": "@jupyter-widgets/controls",
            "_view_module_version": "1.5.0",
            "_view_name": "HBoxView",
            "box_style": "",
            "children": [
              "IPY_MODEL_1fa7e948727449b69e38ea39bd38ea4a",
              "IPY_MODEL_cba4cd23edb84de5ab5d0ae433c3f012",
              "IPY_MODEL_22bc4cb9ea1841dead7c37405019f005"
            ],
            "layout": "IPY_MODEL_0bc76337a2bb44e4bbcc260c2adc9004"
          }
        },
        "1fa7e948727449b69e38ea39bd38ea4a": {
          "model_module": "@jupyter-widgets/controls",
          "model_name": "HTMLModel",
          "model_module_version": "1.5.0",
          "state": {
            "_dom_classes": [],
            "_model_module": "@jupyter-widgets/controls",
            "_model_module_version": "1.5.0",
            "_model_name": "HTMLModel",
            "_view_count": null,
            "_view_module": "@jupyter-widgets/controls",
            "_view_module_version": "1.5.0",
            "_view_name": "HTMLView",
            "description": "",
            "description_tooltip": null,
            "layout": "IPY_MODEL_9c30f77f5e7942feaa3dbfb9edab925c",
            "placeholder": "​",
            "style": "IPY_MODEL_de8dbf3e0dfa43ed992f154c2ce4aef0",
            "value": "100%"
          }
        },
        "cba4cd23edb84de5ab5d0ae433c3f012": {
          "model_module": "@jupyter-widgets/controls",
          "model_name": "FloatProgressModel",
          "model_module_version": "1.5.0",
          "state": {
            "_dom_classes": [],
            "_model_module": "@jupyter-widgets/controls",
            "_model_module_version": "1.5.0",
            "_model_name": "FloatProgressModel",
            "_view_count": null,
            "_view_module": "@jupyter-widgets/controls",
            "_view_module_version": "1.5.0",
            "_view_name": "ProgressView",
            "bar_style": "success",
            "description": "",
            "description_tooltip": null,
            "layout": "IPY_MODEL_d560145ab6a44be39414af0d5c3523ad",
            "max": 28881,
            "min": 0,
            "orientation": "horizontal",
            "style": "IPY_MODEL_f536842f009e4f46907852c2ae123ff5",
            "value": 28881
          }
        },
        "22bc4cb9ea1841dead7c37405019f005": {
          "model_module": "@jupyter-widgets/controls",
          "model_name": "HTMLModel",
          "model_module_version": "1.5.0",
          "state": {
            "_dom_classes": [],
            "_model_module": "@jupyter-widgets/controls",
            "_model_module_version": "1.5.0",
            "_model_name": "HTMLModel",
            "_view_count": null,
            "_view_module": "@jupyter-widgets/controls",
            "_view_module_version": "1.5.0",
            "_view_name": "HTMLView",
            "description": "",
            "description_tooltip": null,
            "layout": "IPY_MODEL_d6adff13b87a442382ed8f9bf11457a0",
            "placeholder": "​",
            "style": "IPY_MODEL_d21288bbed0e4dd1973bbf5af8e25302",
            "value": " 28881/28881 [00:00&lt;00:00, 1221199.81it/s]"
          }
        },
        "0bc76337a2bb44e4bbcc260c2adc9004": {
          "model_module": "@jupyter-widgets/base",
          "model_name": "LayoutModel",
          "model_module_version": "1.2.0",
          "state": {
            "_model_module": "@jupyter-widgets/base",
            "_model_module_version": "1.2.0",
            "_model_name": "LayoutModel",
            "_view_count": null,
            "_view_module": "@jupyter-widgets/base",
            "_view_module_version": "1.2.0",
            "_view_name": "LayoutView",
            "align_content": null,
            "align_items": null,
            "align_self": null,
            "border": null,
            "bottom": null,
            "display": null,
            "flex": null,
            "flex_flow": null,
            "grid_area": null,
            "grid_auto_columns": null,
            "grid_auto_flow": null,
            "grid_auto_rows": null,
            "grid_column": null,
            "grid_gap": null,
            "grid_row": null,
            "grid_template_areas": null,
            "grid_template_columns": null,
            "grid_template_rows": null,
            "height": null,
            "justify_content": null,
            "justify_items": null,
            "left": null,
            "margin": null,
            "max_height": null,
            "max_width": null,
            "min_height": null,
            "min_width": null,
            "object_fit": null,
            "object_position": null,
            "order": null,
            "overflow": null,
            "overflow_x": null,
            "overflow_y": null,
            "padding": null,
            "right": null,
            "top": null,
            "visibility": null,
            "width": null
          }
        },
        "9c30f77f5e7942feaa3dbfb9edab925c": {
          "model_module": "@jupyter-widgets/base",
          "model_name": "LayoutModel",
          "model_module_version": "1.2.0",
          "state": {
            "_model_module": "@jupyter-widgets/base",
            "_model_module_version": "1.2.0",
            "_model_name": "LayoutModel",
            "_view_count": null,
            "_view_module": "@jupyter-widgets/base",
            "_view_module_version": "1.2.0",
            "_view_name": "LayoutView",
            "align_content": null,
            "align_items": null,
            "align_self": null,
            "border": null,
            "bottom": null,
            "display": null,
            "flex": null,
            "flex_flow": null,
            "grid_area": null,
            "grid_auto_columns": null,
            "grid_auto_flow": null,
            "grid_auto_rows": null,
            "grid_column": null,
            "grid_gap": null,
            "grid_row": null,
            "grid_template_areas": null,
            "grid_template_columns": null,
            "grid_template_rows": null,
            "height": null,
            "justify_content": null,
            "justify_items": null,
            "left": null,
            "margin": null,
            "max_height": null,
            "max_width": null,
            "min_height": null,
            "min_width": null,
            "object_fit": null,
            "object_position": null,
            "order": null,
            "overflow": null,
            "overflow_x": null,
            "overflow_y": null,
            "padding": null,
            "right": null,
            "top": null,
            "visibility": null,
            "width": null
          }
        },
        "de8dbf3e0dfa43ed992f154c2ce4aef0": {
          "model_module": "@jupyter-widgets/controls",
          "model_name": "DescriptionStyleModel",
          "model_module_version": "1.5.0",
          "state": {
            "_model_module": "@jupyter-widgets/controls",
            "_model_module_version": "1.5.0",
            "_model_name": "DescriptionStyleModel",
            "_view_count": null,
            "_view_module": "@jupyter-widgets/base",
            "_view_module_version": "1.2.0",
            "_view_name": "StyleView",
            "description_width": ""
          }
        },
        "d560145ab6a44be39414af0d5c3523ad": {
          "model_module": "@jupyter-widgets/base",
          "model_name": "LayoutModel",
          "model_module_version": "1.2.0",
          "state": {
            "_model_module": "@jupyter-widgets/base",
            "_model_module_version": "1.2.0",
            "_model_name": "LayoutModel",
            "_view_count": null,
            "_view_module": "@jupyter-widgets/base",
            "_view_module_version": "1.2.0",
            "_view_name": "LayoutView",
            "align_content": null,
            "align_items": null,
            "align_self": null,
            "border": null,
            "bottom": null,
            "display": null,
            "flex": null,
            "flex_flow": null,
            "grid_area": null,
            "grid_auto_columns": null,
            "grid_auto_flow": null,
            "grid_auto_rows": null,
            "grid_column": null,
            "grid_gap": null,
            "grid_row": null,
            "grid_template_areas": null,
            "grid_template_columns": null,
            "grid_template_rows": null,
            "height": null,
            "justify_content": null,
            "justify_items": null,
            "left": null,
            "margin": null,
            "max_height": null,
            "max_width": null,
            "min_height": null,
            "min_width": null,
            "object_fit": null,
            "object_position": null,
            "order": null,
            "overflow": null,
            "overflow_x": null,
            "overflow_y": null,
            "padding": null,
            "right": null,
            "top": null,
            "visibility": null,
            "width": null
          }
        },
        "f536842f009e4f46907852c2ae123ff5": {
          "model_module": "@jupyter-widgets/controls",
          "model_name": "ProgressStyleModel",
          "model_module_version": "1.5.0",
          "state": {
            "_model_module": "@jupyter-widgets/controls",
            "_model_module_version": "1.5.0",
            "_model_name": "ProgressStyleModel",
            "_view_count": null,
            "_view_module": "@jupyter-widgets/base",
            "_view_module_version": "1.2.0",
            "_view_name": "StyleView",
            "bar_color": null,
            "description_width": ""
          }
        },
        "d6adff13b87a442382ed8f9bf11457a0": {
          "model_module": "@jupyter-widgets/base",
          "model_name": "LayoutModel",
          "model_module_version": "1.2.0",
          "state": {
            "_model_module": "@jupyter-widgets/base",
            "_model_module_version": "1.2.0",
            "_model_name": "LayoutModel",
            "_view_count": null,
            "_view_module": "@jupyter-widgets/base",
            "_view_module_version": "1.2.0",
            "_view_name": "LayoutView",
            "align_content": null,
            "align_items": null,
            "align_self": null,
            "border": null,
            "bottom": null,
            "display": null,
            "flex": null,
            "flex_flow": null,
            "grid_area": null,
            "grid_auto_columns": null,
            "grid_auto_flow": null,
            "grid_auto_rows": null,
            "grid_column": null,
            "grid_gap": null,
            "grid_row": null,
            "grid_template_areas": null,
            "grid_template_columns": null,
            "grid_template_rows": null,
            "height": null,
            "justify_content": null,
            "justify_items": null,
            "left": null,
            "margin": null,
            "max_height": null,
            "max_width": null,
            "min_height": null,
            "min_width": null,
            "object_fit": null,
            "object_position": null,
            "order": null,
            "overflow": null,
            "overflow_x": null,
            "overflow_y": null,
            "padding": null,
            "right": null,
            "top": null,
            "visibility": null,
            "width": null
          }
        },
        "d21288bbed0e4dd1973bbf5af8e25302": {
          "model_module": "@jupyter-widgets/controls",
          "model_name": "DescriptionStyleModel",
          "model_module_version": "1.5.0",
          "state": {
            "_model_module": "@jupyter-widgets/controls",
            "_model_module_version": "1.5.0",
            "_model_name": "DescriptionStyleModel",
            "_view_count": null,
            "_view_module": "@jupyter-widgets/base",
            "_view_module_version": "1.2.0",
            "_view_name": "StyleView",
            "description_width": ""
          }
        },
        "b4972a3ed943465c852fdac40c98f321": {
          "model_module": "@jupyter-widgets/controls",
          "model_name": "HBoxModel",
          "model_module_version": "1.5.0",
          "state": {
            "_dom_classes": [],
            "_model_module": "@jupyter-widgets/controls",
            "_model_module_version": "1.5.0",
            "_model_name": "HBoxModel",
            "_view_count": null,
            "_view_module": "@jupyter-widgets/controls",
            "_view_module_version": "1.5.0",
            "_view_name": "HBoxView",
            "box_style": "",
            "children": [
              "IPY_MODEL_222df894839349eda77d8152af43d31f",
              "IPY_MODEL_80257d1b3ccc40ebba6850f324fb8d4d",
              "IPY_MODEL_346d723634bb487dbfa5ba270fe661dd"
            ],
            "layout": "IPY_MODEL_98e3a4d40ecb4ee3b0b9e561a75a9e9e"
          }
        },
        "222df894839349eda77d8152af43d31f": {
          "model_module": "@jupyter-widgets/controls",
          "model_name": "HTMLModel",
          "model_module_version": "1.5.0",
          "state": {
            "_dom_classes": [],
            "_model_module": "@jupyter-widgets/controls",
            "_model_module_version": "1.5.0",
            "_model_name": "HTMLModel",
            "_view_count": null,
            "_view_module": "@jupyter-widgets/controls",
            "_view_module_version": "1.5.0",
            "_view_name": "HTMLView",
            "description": "",
            "description_tooltip": null,
            "layout": "IPY_MODEL_30fb41abc3304b92bc2280c36a275dc9",
            "placeholder": "​",
            "style": "IPY_MODEL_0d8356dd5638473a9e53883cdad63e27",
            "value": "100%"
          }
        },
        "80257d1b3ccc40ebba6850f324fb8d4d": {
          "model_module": "@jupyter-widgets/controls",
          "model_name": "FloatProgressModel",
          "model_module_version": "1.5.0",
          "state": {
            "_dom_classes": [],
            "_model_module": "@jupyter-widgets/controls",
            "_model_module_version": "1.5.0",
            "_model_name": "FloatProgressModel",
            "_view_count": null,
            "_view_module": "@jupyter-widgets/controls",
            "_view_module_version": "1.5.0",
            "_view_name": "ProgressView",
            "bar_style": "success",
            "description": "",
            "description_tooltip": null,
            "layout": "IPY_MODEL_d067ba42de44488a9d1647996ef22429",
            "max": 1648877,
            "min": 0,
            "orientation": "horizontal",
            "style": "IPY_MODEL_679e6ed50c6b414f8d07f21a30e654a6",
            "value": 1648877
          }
        },
        "346d723634bb487dbfa5ba270fe661dd": {
          "model_module": "@jupyter-widgets/controls",
          "model_name": "HTMLModel",
          "model_module_version": "1.5.0",
          "state": {
            "_dom_classes": [],
            "_model_module": "@jupyter-widgets/controls",
            "_model_module_version": "1.5.0",
            "_model_name": "HTMLModel",
            "_view_count": null,
            "_view_module": "@jupyter-widgets/controls",
            "_view_module_version": "1.5.0",
            "_view_name": "HTMLView",
            "description": "",
            "description_tooltip": null,
            "layout": "IPY_MODEL_8149129232d84c758656784a4577ce65",
            "placeholder": "​",
            "style": "IPY_MODEL_3c31f8e999734d2796c4008865b30b83",
            "value": " 1648877/1648877 [00:00&lt;00:00, 42048027.66it/s]"
          }
        },
        "98e3a4d40ecb4ee3b0b9e561a75a9e9e": {
          "model_module": "@jupyter-widgets/base",
          "model_name": "LayoutModel",
          "model_module_version": "1.2.0",
          "state": {
            "_model_module": "@jupyter-widgets/base",
            "_model_module_version": "1.2.0",
            "_model_name": "LayoutModel",
            "_view_count": null,
            "_view_module": "@jupyter-widgets/base",
            "_view_module_version": "1.2.0",
            "_view_name": "LayoutView",
            "align_content": null,
            "align_items": null,
            "align_self": null,
            "border": null,
            "bottom": null,
            "display": null,
            "flex": null,
            "flex_flow": null,
            "grid_area": null,
            "grid_auto_columns": null,
            "grid_auto_flow": null,
            "grid_auto_rows": null,
            "grid_column": null,
            "grid_gap": null,
            "grid_row": null,
            "grid_template_areas": null,
            "grid_template_columns": null,
            "grid_template_rows": null,
            "height": null,
            "justify_content": null,
            "justify_items": null,
            "left": null,
            "margin": null,
            "max_height": null,
            "max_width": null,
            "min_height": null,
            "min_width": null,
            "object_fit": null,
            "object_position": null,
            "order": null,
            "overflow": null,
            "overflow_x": null,
            "overflow_y": null,
            "padding": null,
            "right": null,
            "top": null,
            "visibility": null,
            "width": null
          }
        },
        "30fb41abc3304b92bc2280c36a275dc9": {
          "model_module": "@jupyter-widgets/base",
          "model_name": "LayoutModel",
          "model_module_version": "1.2.0",
          "state": {
            "_model_module": "@jupyter-widgets/base",
            "_model_module_version": "1.2.0",
            "_model_name": "LayoutModel",
            "_view_count": null,
            "_view_module": "@jupyter-widgets/base",
            "_view_module_version": "1.2.0",
            "_view_name": "LayoutView",
            "align_content": null,
            "align_items": null,
            "align_self": null,
            "border": null,
            "bottom": null,
            "display": null,
            "flex": null,
            "flex_flow": null,
            "grid_area": null,
            "grid_auto_columns": null,
            "grid_auto_flow": null,
            "grid_auto_rows": null,
            "grid_column": null,
            "grid_gap": null,
            "grid_row": null,
            "grid_template_areas": null,
            "grid_template_columns": null,
            "grid_template_rows": null,
            "height": null,
            "justify_content": null,
            "justify_items": null,
            "left": null,
            "margin": null,
            "max_height": null,
            "max_width": null,
            "min_height": null,
            "min_width": null,
            "object_fit": null,
            "object_position": null,
            "order": null,
            "overflow": null,
            "overflow_x": null,
            "overflow_y": null,
            "padding": null,
            "right": null,
            "top": null,
            "visibility": null,
            "width": null
          }
        },
        "0d8356dd5638473a9e53883cdad63e27": {
          "model_module": "@jupyter-widgets/controls",
          "model_name": "DescriptionStyleModel",
          "model_module_version": "1.5.0",
          "state": {
            "_model_module": "@jupyter-widgets/controls",
            "_model_module_version": "1.5.0",
            "_model_name": "DescriptionStyleModel",
            "_view_count": null,
            "_view_module": "@jupyter-widgets/base",
            "_view_module_version": "1.2.0",
            "_view_name": "StyleView",
            "description_width": ""
          }
        },
        "d067ba42de44488a9d1647996ef22429": {
          "model_module": "@jupyter-widgets/base",
          "model_name": "LayoutModel",
          "model_module_version": "1.2.0",
          "state": {
            "_model_module": "@jupyter-widgets/base",
            "_model_module_version": "1.2.0",
            "_model_name": "LayoutModel",
            "_view_count": null,
            "_view_module": "@jupyter-widgets/base",
            "_view_module_version": "1.2.0",
            "_view_name": "LayoutView",
            "align_content": null,
            "align_items": null,
            "align_self": null,
            "border": null,
            "bottom": null,
            "display": null,
            "flex": null,
            "flex_flow": null,
            "grid_area": null,
            "grid_auto_columns": null,
            "grid_auto_flow": null,
            "grid_auto_rows": null,
            "grid_column": null,
            "grid_gap": null,
            "grid_row": null,
            "grid_template_areas": null,
            "grid_template_columns": null,
            "grid_template_rows": null,
            "height": null,
            "justify_content": null,
            "justify_items": null,
            "left": null,
            "margin": null,
            "max_height": null,
            "max_width": null,
            "min_height": null,
            "min_width": null,
            "object_fit": null,
            "object_position": null,
            "order": null,
            "overflow": null,
            "overflow_x": null,
            "overflow_y": null,
            "padding": null,
            "right": null,
            "top": null,
            "visibility": null,
            "width": null
          }
        },
        "679e6ed50c6b414f8d07f21a30e654a6": {
          "model_module": "@jupyter-widgets/controls",
          "model_name": "ProgressStyleModel",
          "model_module_version": "1.5.0",
          "state": {
            "_model_module": "@jupyter-widgets/controls",
            "_model_module_version": "1.5.0",
            "_model_name": "ProgressStyleModel",
            "_view_count": null,
            "_view_module": "@jupyter-widgets/base",
            "_view_module_version": "1.2.0",
            "_view_name": "StyleView",
            "bar_color": null,
            "description_width": ""
          }
        },
        "8149129232d84c758656784a4577ce65": {
          "model_module": "@jupyter-widgets/base",
          "model_name": "LayoutModel",
          "model_module_version": "1.2.0",
          "state": {
            "_model_module": "@jupyter-widgets/base",
            "_model_module_version": "1.2.0",
            "_model_name": "LayoutModel",
            "_view_count": null,
            "_view_module": "@jupyter-widgets/base",
            "_view_module_version": "1.2.0",
            "_view_name": "LayoutView",
            "align_content": null,
            "align_items": null,
            "align_self": null,
            "border": null,
            "bottom": null,
            "display": null,
            "flex": null,
            "flex_flow": null,
            "grid_area": null,
            "grid_auto_columns": null,
            "grid_auto_flow": null,
            "grid_auto_rows": null,
            "grid_column": null,
            "grid_gap": null,
            "grid_row": null,
            "grid_template_areas": null,
            "grid_template_columns": null,
            "grid_template_rows": null,
            "height": null,
            "justify_content": null,
            "justify_items": null,
            "left": null,
            "margin": null,
            "max_height": null,
            "max_width": null,
            "min_height": null,
            "min_width": null,
            "object_fit": null,
            "object_position": null,
            "order": null,
            "overflow": null,
            "overflow_x": null,
            "overflow_y": null,
            "padding": null,
            "right": null,
            "top": null,
            "visibility": null,
            "width": null
          }
        },
        "3c31f8e999734d2796c4008865b30b83": {
          "model_module": "@jupyter-widgets/controls",
          "model_name": "DescriptionStyleModel",
          "model_module_version": "1.5.0",
          "state": {
            "_model_module": "@jupyter-widgets/controls",
            "_model_module_version": "1.5.0",
            "_model_name": "DescriptionStyleModel",
            "_view_count": null,
            "_view_module": "@jupyter-widgets/base",
            "_view_module_version": "1.2.0",
            "_view_name": "StyleView",
            "description_width": ""
          }
        },
        "d42397c1890c4023a3b9ec7b29c2975b": {
          "model_module": "@jupyter-widgets/controls",
          "model_name": "HBoxModel",
          "model_module_version": "1.5.0",
          "state": {
            "_dom_classes": [],
            "_model_module": "@jupyter-widgets/controls",
            "_model_module_version": "1.5.0",
            "_model_name": "HBoxModel",
            "_view_count": null,
            "_view_module": "@jupyter-widgets/controls",
            "_view_module_version": "1.5.0",
            "_view_name": "HBoxView",
            "box_style": "",
            "children": [
              "IPY_MODEL_ec70f9156b494c84a96c281585b5c2d9",
              "IPY_MODEL_2aac71ccf3a145059b7d91f1721e3ab8",
              "IPY_MODEL_468436977faa4f9ca759000b7ee10922"
            ],
            "layout": "IPY_MODEL_470a6347bc274a06bb6f2f6bf035060f"
          }
        },
        "ec70f9156b494c84a96c281585b5c2d9": {
          "model_module": "@jupyter-widgets/controls",
          "model_name": "HTMLModel",
          "model_module_version": "1.5.0",
          "state": {
            "_dom_classes": [],
            "_model_module": "@jupyter-widgets/controls",
            "_model_module_version": "1.5.0",
            "_model_name": "HTMLModel",
            "_view_count": null,
            "_view_module": "@jupyter-widgets/controls",
            "_view_module_version": "1.5.0",
            "_view_name": "HTMLView",
            "description": "",
            "description_tooltip": null,
            "layout": "IPY_MODEL_d46d4b3b23f741809c8011216d8c7a76",
            "placeholder": "​",
            "style": "IPY_MODEL_ee374b2b68ed43919b0f7fcc8f8a8409",
            "value": "100%"
          }
        },
        "2aac71ccf3a145059b7d91f1721e3ab8": {
          "model_module": "@jupyter-widgets/controls",
          "model_name": "FloatProgressModel",
          "model_module_version": "1.5.0",
          "state": {
            "_dom_classes": [],
            "_model_module": "@jupyter-widgets/controls",
            "_model_module_version": "1.5.0",
            "_model_name": "FloatProgressModel",
            "_view_count": null,
            "_view_module": "@jupyter-widgets/controls",
            "_view_module_version": "1.5.0",
            "_view_name": "ProgressView",
            "bar_style": "success",
            "description": "",
            "description_tooltip": null,
            "layout": "IPY_MODEL_eeb85cbffa6d4e33b19dcfe2cadaf6ac",
            "max": 4542,
            "min": 0,
            "orientation": "horizontal",
            "style": "IPY_MODEL_33b5e3dd2d4640389bfdbfc768bb370f",
            "value": 4542
          }
        },
        "468436977faa4f9ca759000b7ee10922": {
          "model_module": "@jupyter-widgets/controls",
          "model_name": "HTMLModel",
          "model_module_version": "1.5.0",
          "state": {
            "_dom_classes": [],
            "_model_module": "@jupyter-widgets/controls",
            "_model_module_version": "1.5.0",
            "_model_name": "HTMLModel",
            "_view_count": null,
            "_view_module": "@jupyter-widgets/controls",
            "_view_module_version": "1.5.0",
            "_view_name": "HTMLView",
            "description": "",
            "description_tooltip": null,
            "layout": "IPY_MODEL_acf479235f064782a6157fd6fe627cf4",
            "placeholder": "​",
            "style": "IPY_MODEL_91b4dc2c48544d8da100671c9a9afbb6",
            "value": " 4542/4542 [00:00&lt;00:00, 314354.79it/s]"
          }
        },
        "470a6347bc274a06bb6f2f6bf035060f": {
          "model_module": "@jupyter-widgets/base",
          "model_name": "LayoutModel",
          "model_module_version": "1.2.0",
          "state": {
            "_model_module": "@jupyter-widgets/base",
            "_model_module_version": "1.2.0",
            "_model_name": "LayoutModel",
            "_view_count": null,
            "_view_module": "@jupyter-widgets/base",
            "_view_module_version": "1.2.0",
            "_view_name": "LayoutView",
            "align_content": null,
            "align_items": null,
            "align_self": null,
            "border": null,
            "bottom": null,
            "display": null,
            "flex": null,
            "flex_flow": null,
            "grid_area": null,
            "grid_auto_columns": null,
            "grid_auto_flow": null,
            "grid_auto_rows": null,
            "grid_column": null,
            "grid_gap": null,
            "grid_row": null,
            "grid_template_areas": null,
            "grid_template_columns": null,
            "grid_template_rows": null,
            "height": null,
            "justify_content": null,
            "justify_items": null,
            "left": null,
            "margin": null,
            "max_height": null,
            "max_width": null,
            "min_height": null,
            "min_width": null,
            "object_fit": null,
            "object_position": null,
            "order": null,
            "overflow": null,
            "overflow_x": null,
            "overflow_y": null,
            "padding": null,
            "right": null,
            "top": null,
            "visibility": null,
            "width": null
          }
        },
        "d46d4b3b23f741809c8011216d8c7a76": {
          "model_module": "@jupyter-widgets/base",
          "model_name": "LayoutModel",
          "model_module_version": "1.2.0",
          "state": {
            "_model_module": "@jupyter-widgets/base",
            "_model_module_version": "1.2.0",
            "_model_name": "LayoutModel",
            "_view_count": null,
            "_view_module": "@jupyter-widgets/base",
            "_view_module_version": "1.2.0",
            "_view_name": "LayoutView",
            "align_content": null,
            "align_items": null,
            "align_self": null,
            "border": null,
            "bottom": null,
            "display": null,
            "flex": null,
            "flex_flow": null,
            "grid_area": null,
            "grid_auto_columns": null,
            "grid_auto_flow": null,
            "grid_auto_rows": null,
            "grid_column": null,
            "grid_gap": null,
            "grid_row": null,
            "grid_template_areas": null,
            "grid_template_columns": null,
            "grid_template_rows": null,
            "height": null,
            "justify_content": null,
            "justify_items": null,
            "left": null,
            "margin": null,
            "max_height": null,
            "max_width": null,
            "min_height": null,
            "min_width": null,
            "object_fit": null,
            "object_position": null,
            "order": null,
            "overflow": null,
            "overflow_x": null,
            "overflow_y": null,
            "padding": null,
            "right": null,
            "top": null,
            "visibility": null,
            "width": null
          }
        },
        "ee374b2b68ed43919b0f7fcc8f8a8409": {
          "model_module": "@jupyter-widgets/controls",
          "model_name": "DescriptionStyleModel",
          "model_module_version": "1.5.0",
          "state": {
            "_model_module": "@jupyter-widgets/controls",
            "_model_module_version": "1.5.0",
            "_model_name": "DescriptionStyleModel",
            "_view_count": null,
            "_view_module": "@jupyter-widgets/base",
            "_view_module_version": "1.2.0",
            "_view_name": "StyleView",
            "description_width": ""
          }
        },
        "eeb85cbffa6d4e33b19dcfe2cadaf6ac": {
          "model_module": "@jupyter-widgets/base",
          "model_name": "LayoutModel",
          "model_module_version": "1.2.0",
          "state": {
            "_model_module": "@jupyter-widgets/base",
            "_model_module_version": "1.2.0",
            "_model_name": "LayoutModel",
            "_view_count": null,
            "_view_module": "@jupyter-widgets/base",
            "_view_module_version": "1.2.0",
            "_view_name": "LayoutView",
            "align_content": null,
            "align_items": null,
            "align_self": null,
            "border": null,
            "bottom": null,
            "display": null,
            "flex": null,
            "flex_flow": null,
            "grid_area": null,
            "grid_auto_columns": null,
            "grid_auto_flow": null,
            "grid_auto_rows": null,
            "grid_column": null,
            "grid_gap": null,
            "grid_row": null,
            "grid_template_areas": null,
            "grid_template_columns": null,
            "grid_template_rows": null,
            "height": null,
            "justify_content": null,
            "justify_items": null,
            "left": null,
            "margin": null,
            "max_height": null,
            "max_width": null,
            "min_height": null,
            "min_width": null,
            "object_fit": null,
            "object_position": null,
            "order": null,
            "overflow": null,
            "overflow_x": null,
            "overflow_y": null,
            "padding": null,
            "right": null,
            "top": null,
            "visibility": null,
            "width": null
          }
        },
        "33b5e3dd2d4640389bfdbfc768bb370f": {
          "model_module": "@jupyter-widgets/controls",
          "model_name": "ProgressStyleModel",
          "model_module_version": "1.5.0",
          "state": {
            "_model_module": "@jupyter-widgets/controls",
            "_model_module_version": "1.5.0",
            "_model_name": "ProgressStyleModel",
            "_view_count": null,
            "_view_module": "@jupyter-widgets/base",
            "_view_module_version": "1.2.0",
            "_view_name": "StyleView",
            "bar_color": null,
            "description_width": ""
          }
        },
        "acf479235f064782a6157fd6fe627cf4": {
          "model_module": "@jupyter-widgets/base",
          "model_name": "LayoutModel",
          "model_module_version": "1.2.0",
          "state": {
            "_model_module": "@jupyter-widgets/base",
            "_model_module_version": "1.2.0",
            "_model_name": "LayoutModel",
            "_view_count": null,
            "_view_module": "@jupyter-widgets/base",
            "_view_module_version": "1.2.0",
            "_view_name": "LayoutView",
            "align_content": null,
            "align_items": null,
            "align_self": null,
            "border": null,
            "bottom": null,
            "display": null,
            "flex": null,
            "flex_flow": null,
            "grid_area": null,
            "grid_auto_columns": null,
            "grid_auto_flow": null,
            "grid_auto_rows": null,
            "grid_column": null,
            "grid_gap": null,
            "grid_row": null,
            "grid_template_areas": null,
            "grid_template_columns": null,
            "grid_template_rows": null,
            "height": null,
            "justify_content": null,
            "justify_items": null,
            "left": null,
            "margin": null,
            "max_height": null,
            "max_width": null,
            "min_height": null,
            "min_width": null,
            "object_fit": null,
            "object_position": null,
            "order": null,
            "overflow": null,
            "overflow_x": null,
            "overflow_y": null,
            "padding": null,
            "right": null,
            "top": null,
            "visibility": null,
            "width": null
          }
        },
        "91b4dc2c48544d8da100671c9a9afbb6": {
          "model_module": "@jupyter-widgets/controls",
          "model_name": "DescriptionStyleModel",
          "model_module_version": "1.5.0",
          "state": {
            "_model_module": "@jupyter-widgets/controls",
            "_model_module_version": "1.5.0",
            "_model_name": "DescriptionStyleModel",
            "_view_count": null,
            "_view_module": "@jupyter-widgets/base",
            "_view_module_version": "1.2.0",
            "_view_name": "StyleView",
            "description_width": ""
          }
        }
      }
    }
  },
  "nbformat": 4,
  "nbformat_minor": 0
}