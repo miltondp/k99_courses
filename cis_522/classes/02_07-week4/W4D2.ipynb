{
  "cells": [
    {
      "cell_type": "markdown",
      "metadata": {
        "id": "view-in-github",
        "colab_type": "text"
      },
      "source": [
        "<a href=\"https://colab.research.google.com/github/miltondp/k99_courses/blob/main/cis_522/classes/02_07-week4/W4D2.ipynb\" target=\"_parent\"><img src=\"https://colab.research.google.com/assets/colab-badge.svg\" alt=\"Open In Colab\"/></a>"
      ]
    },
    {
      "cell_type": "markdown",
      "metadata": {
        "id": "ed0BZhGUKAS5"
      },
      "source": [
        "# Regularization & Optimization\n"
      ]
    },
    {
      "cell_type": "code",
      "execution_count": 2,
      "metadata": {
        "id": "fv3dQK_5KAS9"
      },
      "outputs": [],
      "source": [
        "# @markdown What is your Pennkey and pod? (text, not numbers, e.g. bfranklin)\n",
        "my_pennkey = \"miltondp\"  # @param {type:\"string\"}\n",
        "my_pod = \"Select\"  # @param [\"Factorial Ferrets\", \"Causal Crows\", \"Recursive Roosters\", \"Bayesian Bighorns\", \"Probabilistic Pronghorns\", \"Hashing Hares\", \"Multiplicative Mustangs\", \"Curiosity Capybaras\", \"Subspace Salamanders\"]\n",
        "my_email = \"miltondp@gmail.com\"  # @param {type:\"string\"}\n"
      ]
    },
    {
      "cell_type": "code",
      "execution_count": 3,
      "metadata": {
        "id": "arYaMBeoKAS_"
      },
      "outputs": [],
      "source": [
        "# start timing\n",
        "import time\n",
        "\n",
        "try:\n",
        "    t0\n",
        "except NameError:\n",
        "    t0 = time.time()\n"
      ]
    },
    {
      "cell_type": "markdown",
      "metadata": {
        "id": "uzcOW0SQKATA"
      },
      "source": [
        "**Ensure you're running a GPU notebook.**\n",
        "\n",
        "From \"Runtime\" in the drop-down menu above, click \"Change runtime type\". Ensure that \"Hardware Accelerator\" says \"GPU\".\n"
      ]
    },
    {
      "cell_type": "code",
      "execution_count": 4,
      "metadata": {
        "id": "mAW3aTaVKATB"
      },
      "outputs": [],
      "source": [
        "# @title Import functions\n",
        "from __future__ import print_function\n",
        "import torch\n",
        "import pathlib\n",
        "import random\n",
        "import torch.nn as nn\n",
        "import torch.nn.functional as F\n",
        "import torch.optim as optim\n",
        "from torchvision import datasets, transforms\n",
        "from torchvision.datasets import ImageFolder\n",
        "from torch.utils.data import DataLoader, TensorDataset\n",
        "import torch.nn.utils.prune as prune\n",
        "from torch.optim.lr_scheduler import StepLR\n",
        "import time\n",
        "import numpy as np\n",
        "import matplotlib.pyplot as plt\n",
        "import matplotlib.animation as animation\n",
        "import copy\n",
        "from tqdm import tqdm\n",
        "from IPython.display import HTML, display\n"
      ]
    },
    {
      "cell_type": "code",
      "execution_count": 5,
      "metadata": {
        "id": "drlLCPkQKATC",
        "outputId": "f4485660-46cd-4f76-9708-cd41437be7c1",
        "colab": {
          "base_uri": "https://localhost:8080/",
          "height": 519
        }
      },
      "outputs": [
        {
          "output_type": "stream",
          "name": "stdout",
          "text": [
            "Video available at https://youtube.com/watch?v=bc1nsP4htVg\n"
          ]
        },
        {
          "output_type": "execute_result",
          "data": {
            "text/plain": [
              "<IPython.lib.display.YouTubeVideo at 0x7fbdec42f370>"
            ],
            "text/html": [
              "\n",
              "        <iframe\n",
              "            width=\"854\"\n",
              "            height=\"480\"\n",
              "            src=\"https://www.youtube.com/embed/bc1nsP4htVg?fs=1\"\n",
              "            frameborder=\"0\"\n",
              "            allowfullscreen\n",
              "        ></iframe>\n",
              "        "
            ],
            "image/jpeg": "[encoded data removed]"
          },
          "metadata": {},
          "execution_count": 5
        }
      ],
      "source": [
        "# @title Video: Introduction to Regularization\n",
        "try:\n",
        "    t1\n",
        "except NameError:\n",
        "    t1 = time.time()\n",
        "\n",
        "from IPython.display import YouTubeVideo\n",
        "\n",
        "video = YouTubeVideo(id=\"bc1nsP4htVg\", width=854, height=480, fs=1)\n",
        "print(\"Video available at https://youtube.com/watch?v=\" + video.id)\n",
        "\n",
        "video\n"
      ]
    },
    {
      "cell_type": "markdown",
      "metadata": {
        "id": "qH6yOo8LOHFG"
      },
      "source": [
        "## Learning Objectives\n",
        "\n",
        "1.  Regularization as shrinkage of overparameterized models\n",
        "    1.  L1\n",
        "    2.  L2\n",
        "    3.  early stopping\n",
        "2.  Regularization by Dropout\n",
        "3.  Regularization by Data Augmentation\n",
        "4.  Perils of Hyper-Parameter Tuning\n",
        "5.  Rethinking generalization\n"
      ]
    },
    {
      "cell_type": "markdown",
      "metadata": {
        "id": "2icaflJHWPm1"
      },
      "source": [
        "## Section 1: Regularization is Shrinkage\n"
      ]
    },
    {
      "cell_type": "code",
      "execution_count": 6,
      "metadata": {
        "cellView": "form",
        "colab": {
          "base_uri": "https://localhost:8080/",
          "height": 519
        },
        "id": "0qn2FpI2Wdgn",
        "outputId": "b3dc3b94-63a4-4ce5-f4aa-a947e31b1655"
      },
      "outputs": [
        {
          "output_type": "stream",
          "name": "stdout",
          "text": [
            "Video available at https://youtube.com/watch?v=B4CsCKViB3k\n"
          ]
        },
        {
          "output_type": "execute_result",
          "data": {
            "text/plain": [
              "<IPython.lib.display.YouTubeVideo at 0x7fbdec445160>"
            ],
            "text/html": [
              "\n",
              "        <iframe\n",
              "            width=\"854\"\n",
              "            height=\"480\"\n",
              "            src=\"https://www.youtube.com/embed/B4CsCKViB3k?fs=1\"\n",
              "            frameborder=\"0\"\n",
              "            allowfullscreen\n",
              "        ></iframe>\n",
              "        "
            ],
            "image/jpeg": "[encoded data removed]"
          },
          "metadata": {},
          "execution_count": 6
        }
      ],
      "source": [
        "# @title Video : Introduction to Regularization\n",
        "try:\n",
        "    t2\n",
        "except NameError:\n",
        "    t2 = time.time()\n",
        "\n",
        "from IPython.display import YouTubeVideo\n",
        "\n",
        "video = YouTubeVideo(id=\"B4CsCKViB3k\", width=854, height=480, fs=1)\n",
        "print(\"Video available at https://youtube.com/watch?v=\" + video.id)\n",
        "\n",
        "video\n"
      ]
    },
    {
      "cell_type": "markdown",
      "metadata": {
        "id": "aAGlmnIjWrJ7"
      },
      "source": [
        "One way to think about Regularization is to think in terms of the magnitude of the overall weights of the model. A model with big weights can fit more data perfectly. Wheras a model with smaller weights tend to underperform on the train set but can suprisingly do very well on the test set. Too small of a weights can also be as issue as it can the underfit the model.\n",
        "\n",
        "This week we use the sum of Frobenius Norm of all the tensors in the model as a metric to measure to measure the \"size of the model\".\n"
      ]
    },
    {
      "cell_type": "markdown",
      "metadata": {
        "id": "avenCkhxzgSb"
      },
      "source": [
        "### Exercise 1: Frobenius Norm\n",
        "\n",
        "Before we start let us do a quick recollection of Frobenius Norm. The Frobenius norm, sometimes also called the Euclidean norm (a term unfortunately also used for the vector $L^2$ norm), is matrix norm of an m×n matrix A, defined as the square root of the sum of the absolute squares of its elements.\n",
        "\n",
        "\\begin{equation}\n",
        "||A||_F= \\sqrt{\\sum_{i=1}^m\\sum_{j=1}^n|a_{ij}|^2}\n",
        "\\end{equation}\n"
      ]
    },
    {
      "cell_type": "code",
      "execution_count": 48,
      "metadata": {
        "id": "gLmcWspCBGFR",
        "outputId": "4442d05f-1f62-40cf-ab7d-f0ba1c31d260",
        "colab": {
          "base_uri": "https://localhost:8080/"
        }
      },
      "outputs": [
        {
          "output_type": "stream",
          "name": "stdout",
          "text": [
            "Frobenius Norm of Single Linear Layer: 0.8307933211326599\n"
          ]
        }
      ],
      "source": [
        "def calculate_frobenius_norm(model: nn.Module) -> float:\n",
        "    \"\"\"\n",
        "    Calculates the Frobenius norm of all the weights in a model\n",
        "\n",
        "    Arguments:\n",
        "        model: PyTorch model\n",
        "\n",
        "    Returns:\n",
        "        float: Frobenius norm of all weights in the model\n",
        "\n",
        "    \"\"\"\n",
        "    # Hint: Check out nn.Module#named_parameters\n",
        "    #raise NotImplementedError(\"Implement this function!\")\n",
        "\n",
        "    return np.sum([np.sqrt((layer.abs().detach() ** 2).sum()) for name, layer in model.named_parameters()])\n",
        "\n",
        "\n",
        "net = nn.Linear(10, 1)\n",
        "print(f\"Frobenius Norm of Single Linear Layer: {calculate_frobenius_norm(net)}\")\n"
      ]
    },
    {
      "cell_type": "markdown",
      "metadata": {
        "id": "_pYQM7QcEV2u"
      },
      "source": [
        "## Section 2: Overfitting\n"
      ]
    },
    {
      "cell_type": "code",
      "execution_count": 50,
      "metadata": {
        "cellView": "form",
        "colab": {
          "base_uri": "https://localhost:8080/",
          "height": 519
        },
        "id": "GHrk7xaMoFQZ",
        "outputId": "18892feb-bcbf-4ce0-a498-26ec0c758d5e"
      },
      "outputs": [
        {
          "output_type": "stream",
          "name": "stdout",
          "text": [
            "Video available at https://youtube.com/watch?v=RlaGyRKP2nY\n"
          ]
        },
        {
          "output_type": "execute_result",
          "data": {
            "text/plain": [
              "<IPython.lib.display.YouTubeVideo at 0x7fbd4523e6d0>"
            ],
            "text/html": [
              "\n",
              "        <iframe\n",
              "            width=\"854\"\n",
              "            height=\"480\"\n",
              "            src=\"https://www.youtube.com/embed/RlaGyRKP2nY?fs=1\"\n",
              "            frameborder=\"0\"\n",
              "            allowfullscreen\n",
              "        ></iframe>\n",
              "        "
            ],
            "image/jpeg": "[encoded data removed]"
          },
          "metadata": {},
          "execution_count": 50
        }
      ],
      "source": [
        "# @title Video : Overfitting\n",
        "try:\n",
        "    t3\n",
        "except NameError:\n",
        "    t3 = time.time()\n",
        "\n",
        "from IPython.display import YouTubeVideo\n",
        "\n",
        "video = YouTubeVideo(id=\"RlaGyRKP2nY\", width=854, height=480, fs=1)\n",
        "print(\"Video available at https://youtube.com/watch?v=\" + video.id)\n",
        "\n",
        "video\n"
      ]
    },
    {
      "cell_type": "markdown",
      "metadata": {
        "id": "7Lh2KZwvV6kF"
      },
      "source": [
        "## Visualizing Overfitting\n",
        "\n",
        "Let's create some synthetic dataset that we will use to illustrate overfitting in neural networks.\n"
      ]
    },
    {
      "cell_type": "code",
      "execution_count": 51,
      "metadata": {
        "colab": {
          "base_uri": "https://localhost:8080/",
          "height": 295
        },
        "id": "qQ-J57s3Ee03",
        "outputId": "77561b39-0b33-4029-b467-b22b8f9585b6"
      },
      "outputs": [
        {
          "output_type": "display_data",
          "data": {
            "text/plain": [
              "<Figure size 432x288 with 1 Axes>"
            ],
            "image/png": "[encoded data removed]"
          },
          "metadata": {
            "needs_background": "light"
          }
        }
      ],
      "source": [
        "# creating train data\n",
        "X = torch.rand((10, 1))\n",
        "X.sort(dim=0)\n",
        "\n",
        "# adding small error in the data\n",
        "Y = 2 * X + 2 * torch.empty((X.shape[0], 1)).normal_(mean=0, std=1)\n",
        "\n",
        "X = X.unsqueeze_(1)\n",
        "Y = Y.unsqueeze_(1)\n",
        "\n",
        "# visualizing trian data\n",
        "plt.scatter(X.numpy(), Y.numpy())\n",
        "plt.xlabel(\"x\")\n",
        "plt.ylabel(\"y\")\n",
        "plt.title(\"toy dataset\")\n",
        "plt.show()\n",
        "\n",
        "# creating test dataset\n",
        "X_test = torch.linspace(0, 1, 40)\n",
        "X_test = X_test.reshape((40, 1, 1))\n"
      ]
    },
    {
      "cell_type": "markdown",
      "metadata": {
        "id": "4mU0QnD1tYIH"
      },
      "source": [
        "Let's create a NN that can fit on the dataset we just created and train it.\n"
      ]
    },
    {
      "cell_type": "code",
      "execution_count": 52,
      "metadata": {
        "id": "Pzw7b04rOSpd"
      },
      "outputs": [],
      "source": [
        "class Net(nn.Module):\n",
        "    \"\"\"\n",
        "    A simple network with leaky relu activation\n",
        "    \"\"\"\n",
        "\n",
        "    def __init__(self):\n",
        "        \"\"\"\n",
        "        Initializes the network\n",
        "        \"\"\"\n",
        "        super(Net, self).__init__()\n",
        "        self.fc1 = nn.Linear(1, 300)\n",
        "        self.fc2 = nn.Linear(300, 500)\n",
        "        self.fc3 = nn.Linear(500, 1)\n",
        "\n",
        "    def forward(self, x):\n",
        "        \"\"\"\n",
        "        Forward pass of the network\n",
        "        \"\"\"\n",
        "        x = F.leaky_relu(self.fc1(x))\n",
        "        x = F.leaky_relu(self.fc2(x))\n",
        "        output = self.fc3(x)\n",
        "        return output\n"
      ]
    },
    {
      "cell_type": "code",
      "execution_count": 53,
      "metadata": {
        "colab": {
          "base_uri": "https://localhost:8080/"
        },
        "id": "bUFGn_PROuvP",
        "outputId": "d45a0235-85c8-4079-b094-38c4e3b36017"
      },
      "outputs": [
        {
          "output_type": "stream",
          "name": "stderr",
          "text": [
            "100%|██████████| 1000/1000 [00:03<00:00, 280.03it/s]\n"
          ]
        }
      ],
      "source": [
        "# train the network on toy dataset\n",
        "model = Net()\n",
        "criterion = nn.MSELoss()\n",
        "optimizer = optim.Adam(model.parameters(), lr=1e-4)\n",
        "max_epochs = 1000\n",
        "iters = 0\n",
        "\n",
        "running_predictions = np.empty((40, (int)(max_epochs / 500 + 1)))\n",
        "\n",
        "train_loss = []\n",
        "test_loss = []\n",
        "model_norm = []\n",
        "\n",
        "for epoch in tqdm(range(max_epochs)):\n",
        "\n",
        "    # training\n",
        "    model_norm.append(calculate_frobenius_norm(model))\n",
        "    model.train()\n",
        "    optimizer.zero_grad()\n",
        "    predictions = model(X)\n",
        "    loss = criterion(predictions, Y)\n",
        "    loss.backward()\n",
        "    optimizer.step()\n",
        "\n",
        "    train_loss.append(loss.data)\n",
        "    model.eval()\n",
        "    Y_test = model(X_test)\n",
        "    loss = criterion(Y_test, 2 * X_test)\n",
        "    test_loss.append(loss.data)\n",
        "\n",
        "    if epoch % 500 == 0 or epoch == max_epochs - 1:\n",
        "        running_predictions[:, iters] = Y_test[:, 0, 0].detach().numpy()\n",
        "        iters += 1\n"
      ]
    },
    {
      "cell_type": "markdown",
      "metadata": {
        "id": "iAzaEKmZt9aR"
      },
      "source": [
        "Now that we have finished training, let's see how the model has evolved over the training process.\n"
      ]
    },
    {
      "cell_type": "code",
      "execution_count": 54,
      "metadata": {
        "colab": {
          "base_uri": "https://localhost:8080/",
          "height": 312
        },
        "id": "dJP-u-sDhUGz",
        "outputId": "4fd9091c-5cb0-44a7-f882-2c86bb63261b"
      },
      "outputs": [
        {
          "output_type": "execute_result",
          "data": {
            "text/plain": [
              "<matplotlib.animation.FuncAnimation at 0x7fbd44117490>"
            ]
          },
          "metadata": {},
          "execution_count": 54
        },
        {
          "output_type": "display_data",
          "data": {
            "text/plain": [
              "<Figure size 432x288 with 1 Axes>"
            ],
            "image/png": "[encoded data removed]"
          },
          "metadata": {
            "needs_background": "light"
          }
        }
      ],
      "source": [
        "fig = plt.figure()\n",
        "ax = plt.axes()\n",
        "\n",
        "\n",
        "def frame(i):\n",
        "    ax.clear()\n",
        "    ax.scatter(X[:, 0, :].numpy(), Y[:, 0, :].numpy())\n",
        "    plot = ax.plot(X_test[:, 0, :].detach().numpy(), running_predictions[:, i])\n",
        "    title = \"Epoch: \" + str(i * 500)\n",
        "    plt.title(title)\n",
        "    ax.set_xlabel(\"X axis\")\n",
        "    ax.set_ylabel(\"Y axis\")\n",
        "    return plot\n",
        "\n",
        "\n",
        "anim = animation.FuncAnimation(\n",
        "    fig, frame, frames=range(20), blit=False, repeat=False, repeat_delay=10000\n",
        ")\n",
        "anim\n"
      ]
    },
    {
      "cell_type": "code",
      "execution_count": 55,
      "metadata": {
        "cellView": "form",
        "colab": {
          "base_uri": "https://localhost:8080/",
          "height": 295
        },
        "id": "xQhwOF0iqsYh",
        "outputId": "f3a3551f-2b14-41f3-a610-7a9b258152df"
      },
      "outputs": [
        {
          "output_type": "display_data",
          "data": {
            "text/plain": [
              "<Figure size 432x288 with 1 Axes>"
            ],
            "image/png": "[encoded data removed]"
          },
          "metadata": {
            "needs_background": "light"
          }
        }
      ],
      "source": [
        "# @title Plot the train and test losses [Note: You may have to run this twice]\n",
        "plt.plot(train_loss, label=\"train_loss\")\n",
        "plt.plot(test_loss, label=\"test_loss\")\n",
        "plt.ylabel(\"loss\")\n",
        "plt.xlabel(\"epochs\")\n",
        "plt.title(\"loss vs epoch\")\n",
        "plt.legend()\n",
        "plt.show()\n"
      ]
    },
    {
      "cell_type": "markdown",
      "metadata": {
        "id": "C43NJVU9eKpx"
      },
      "source": [
        "Now let's vizualize the frobenious norm of the model as we trained and you should see that the value of weights increased lineraly w.r.t epochs\n"
      ]
    },
    {
      "cell_type": "code",
      "execution_count": 56,
      "metadata": {
        "cellView": "form",
        "colab": {
          "base_uri": "https://localhost:8080/",
          "height": 295
        },
        "id": "JwiOImKSzLOC",
        "outputId": "6f34583a-185a-4405-cc46-e1874dfa348a"
      },
      "outputs": [
        {
          "output_type": "display_data",
          "data": {
            "text/plain": [
              "<Figure size 432x288 with 1 Axes>"
            ],
            "image/png": "[encoded data removed]"
          },
          "metadata": {
            "needs_background": "light"
          }
        }
      ],
      "source": [
        "# @title Frobenious norm of the model\n",
        "plt.plot(model_norm)\n",
        "plt.ylabel(\"norm of the model\")\n",
        "plt.xlabel(\"epochs\")\n",
        "plt.title(\"Size of the model vs Epochs\")\n",
        "plt.show()\n"
      ]
    },
    {
      "cell_type": "markdown",
      "metadata": {
        "id": "GfVSopl21FQS"
      },
      "source": [
        "**Quiz Question 1:** What trend do you see w.r.t to train and test losses(where do you see the minimum of the losses)? What does it tell about the model we trained?\n"
      ]
    },
    {
      "cell_type": "code",
      "execution_count": 57,
      "metadata": {
        "cellView": "form",
        "id": "kNulBEvV0_Ll"
      },
      "outputs": [],
      "source": [
        "trend = \"the train loss keeps going down, but the test loss minimum happens very early , in the first epochs, then it increases; compared wit hthe forbenious norm of the model, it says that a \\\"smaller\\\" model achieves a better performance\"  # @param {type:\"string\"}\n"
      ]
    },
    {
      "cell_type": "markdown",
      "metadata": {
        "id": "Rb_o51L8dw6w"
      },
      "source": [
        "### Overfitting on Test Dataset\n",
        "\n",
        "In principle, we should not touch our test set until after we have chosen all our hyperparameters. Where we were to use the test data in the model selection process, there is a risk that we might overfit the test data. Then we would be in serious trouble. If we overfit our training data, there is always the evaluation on test data to keep us honest. But if we overfit the test data, how would we ever know?\n",
        "\n",
        "Note that there is another kind of overfitting: you do \"honest\" fitting on one set of images or posts, or medical records, but it may not generalize to other sets of images, posts or medical records.\n"
      ]
    },
    {
      "cell_type": "markdown",
      "metadata": {
        "id": "E_Y9eHGXe5-D"
      },
      "source": [
        "### Validation Dataset\n",
        "\n",
        "A common practice to address this problem is to split our data three ways, using a validation dataset (or validation set) to tune the hyperparameters.\n",
        "\n",
        "Ideally we would only touch the test data once, to assess the very best model or to compare a small number of models to each other, real-world test data is seldom discarded after just one use.\n"
      ]
    },
    {
      "cell_type": "markdown",
      "metadata": {
        "id": "dSfURqxBwq97"
      },
      "source": [
        "**Quiz Question 2:** Given that a NN fit/memorized the training data perfectly, do you think it generalizes well? What makes you think it does or doesn't?\n"
      ]
    },
    {
      "cell_type": "code",
      "execution_count": 59,
      "metadata": {
        "cellView": "form",
        "id": "JOBzD7_cxPDO"
      },
      "outputs": [],
      "source": [
        "memorize_or_generalize = \"if the NN memorized the training data perfectly, it is likely that it won't generalize on test data, unless the training data perfectly represents the global patterns in the dataset\" #@param {type:\"string\"}"
      ]
    },
    {
      "cell_type": "markdown",
      "metadata": {
        "id": "lMLQYrOBII5a"
      },
      "source": [
        "## Section 3: Early Stopping\n"
      ]
    },
    {
      "cell_type": "code",
      "execution_count": 58,
      "metadata": {
        "cellView": "form",
        "colab": {
          "base_uri": "https://localhost:8080/",
          "height": 519
        },
        "id": "KoY7sfDBojrs",
        "outputId": "bd62e8bf-cec9-4685-9269-37ebafecf1c3"
      },
      "outputs": [
        {
          "output_type": "stream",
          "name": "stdout",
          "text": [
            "Video available at https://youtube.com/watch?v=GA6J-50GCWs\n"
          ]
        },
        {
          "output_type": "execute_result",
          "data": {
            "text/plain": [
              "<IPython.lib.display.YouTubeVideo at 0x7fbd38feed00>"
            ],
            "text/html": [
              "\n",
              "        <iframe\n",
              "            width=\"854\"\n",
              "            height=\"480\"\n",
              "            src=\"https://www.youtube.com/embed/GA6J-50GCWs?fs=1\"\n",
              "            frameborder=\"0\"\n",
              "            allowfullscreen\n",
              "        ></iframe>\n",
              "        "
            ],
            "image/jpeg": "[encoded data removed]"
          },
          "metadata": {},
          "execution_count": 58
        }
      ],
      "source": [
        "#@title Video : Early Stopping\n",
        "try: t4;\n",
        "except NameError: t4=time.time()\n",
        "\n",
        "from IPython.display import YouTubeVideo\n",
        "video = YouTubeVideo(id=\"GA6J-50GCWs\", width=854, height=480, fs=1)\n",
        "print(\"Video available at https://youtube.com/watch?v=\" + video.id)\n",
        "\n",
        "video"
      ]
    },
    {
      "cell_type": "markdown",
      "metadata": {
        "id": "nV3jPkkgW7fN"
      },
      "source": [
        "\n",
        "Now that we have established that the validation accuracy reaches the peak well before the model overfits we want to stop the training early. You should have also observed from the above plots that the train/test loss on real data is not very smooth and hence you might guess that the choice of epoch can play a significant role with respect to the val/test accuracy of your model. \n",
        "\n",
        "Early stopping is a way to end training when the validation accuracies do not increase over a certain number of epochs. Though this makes sure that we don't overfit on the train data **it doesn't solve the problem of local variance, i.e. that the accuracy can be very volatile between epochs**. To overcome this, we also save the best model based on the val loss/accuracy for use on test dataset.\n",
        "\n",
        "![Overfitting](https://images.deepai.org/glossary-terms/early-stopping-machine-learning-5422207.jpg)"
      ]
    },
    {
      "cell_type": "markdown",
      "metadata": {
        "id": "C3vFW5Af78sf"
      },
      "source": [
        "**Quiz Question 3:** Do you think Early stopping can be harmful for the training of your network?"
      ]
    },
    {
      "cell_type": "code",
      "execution_count": 60,
      "metadata": {
        "cellView": "form",
        "id": "uNEqK7PJ76HN"
      },
      "outputs": [],
      "source": [
        "early_stopping = \"if early stopping is correctly used (i.e., stops training when the validation error is minimum), it should harm the training\"  # @param {type:\"string\"}\n"
      ]
    },
    {
      "cell_type": "markdown",
      "metadata": {
        "id": "FifeU3xZ2h0k"
      },
      "source": [
        "## Section 4: Dropout\n"
      ]
    },
    {
      "cell_type": "code",
      "execution_count": null,
      "metadata": {
        "cellView": "form",
        "id": "NCn6Gc9q38gv",
        "outputId": "edd4c69c-8447-430a-8dad-4aafbc8a208d"
      },
      "outputs": [
        {
          "name": "stdout",
          "output_type": "stream",
          "text": [
            "Video available at https://youtube.com/watch?v=a4nX4T-3xsc\n"
          ]
        },
        {
          "data": {
            "image/jpeg": "[encoded data removed]",
            "text/html": [
              "\n",
              "        <iframe\n",
              "            width=\"854\"\n",
              "            height=\"480\"\n",
              "            src=\"https://www.youtube.com/embed/a4nX4T-3xsc?fs=1\"\n",
              "            frameborder=\"0\"\n",
              "            allowfullscreen\n",
              "            \n",
              "        ></iframe>\n",
              "        "
            ],
            "text/plain": [
              "<IPython.lib.display.YouTubeVideo at 0x1488b9790>"
            ]
          },
          "execution_count": 18,
          "metadata": {},
          "output_type": "execute_result"
        }
      ],
      "source": [
        "#@title Video : Dropout\n",
        "try: t6;\n",
        "except NameError: t6=time.time()\n",
        "\n",
        "from IPython.display import YouTubeVideo\n",
        "video = YouTubeVideo(id=\"a4nX4T-3xsc\", width=854, height=480, fs=1)\n",
        "print(\"Video available at https://youtube.com/watch?v=\" + video.id)\n",
        "\n",
        "video"
      ]
    },
    {
      "cell_type": "markdown",
      "metadata": {
        "id": "zgsj1q_r-0Xp"
      },
      "source": [
        "\n",
        "Dropout involves injecting noise while computing each internal layer during forward propagation. The method is called dropout because we literally drop out some neurons during training. Throughout training, on each iteration, standard dropout consists of zeroing out some fraction of the nodes in each layer before calculating the subsequent layer.\n",
        "\n",
        "![Dropout](https://d2l.ai/_images/dropout2.svg)\n"
      ]
    },
    {
      "cell_type": "markdown",
      "metadata": {
        "id": "d9irrZLt16eM"
      },
      "source": [
        "Now lets revisit the toy dataset that we generated above to visualize how the dropout stabilizes training on a noisy dataset"
      ]
    },
    {
      "cell_type": "code",
      "execution_count": 61,
      "metadata": {
        "id": "0k9J-Wjs28wz"
      },
      "outputs": [],
      "source": [
        "##Network Class - 2D\n",
        "class Net(nn.Module):\n",
        "    def __init__(self):\n",
        "        super(Net, self).__init__()\n",
        "\n",
        "        self.fc1 = nn.Linear(1, 300)\n",
        "        self.fc2 = nn.Linear(300, 500)\n",
        "        self.fc3 = nn.Linear(500, 1)\n",
        "        self.dropout1 = nn.Dropout(0.4)\n",
        "        self.dropout2 = nn.Dropout(0.2)\n",
        "\n",
        "    def forward(self, x):\n",
        "        x = F.leaky_relu(self.dropout1(self.fc1(x)))\n",
        "        x = F.leaky_relu(self.dropout2(self.fc2(x)))\n",
        "        output = self.fc3(x)\n",
        "        return output"
      ]
    },
    {
      "cell_type": "code",
      "execution_count": 62,
      "metadata": {
        "id": "VFAHGr5s5I_R",
        "outputId": "033a0869-4872-4a61-96bb-2ced5b58146f",
        "colab": {
          "base_uri": "https://localhost:8080/"
        }
      },
      "outputs": [
        {
          "output_type": "stream",
          "name": "stderr",
          "text": [
            "100%|██████████| 10000/10000 [00:33<00:00, 295.32it/s]\n"
          ]
        }
      ],
      "source": [
        "#train the network on toy dataset\n",
        "model = Net()\n",
        "criterion = nn.MSELoss()\n",
        "optimizer = optim.Adam(model.parameters(),lr = 1e-4)\n",
        "max_epochs = 10000\n",
        "iters = 0\n",
        "\n",
        "running_predictions_dp = np.empty((40,(int)(max_epochs/500)))\n",
        "\n",
        "train_loss_dp = []\n",
        "test_loss_dp = []\n",
        "model_norm_dp = []\n",
        "\n",
        "for epoch in tqdm(range(max_epochs)):\n",
        "\n",
        "    #training\n",
        "    model_norm_dp.append(calculate_frobenius_norm(model))\n",
        "    model.train()\n",
        "    optimizer.zero_grad()\n",
        "    predictions = model(X)\n",
        "    loss = criterion(predictions,Y)\n",
        "    loss.backward()\n",
        "    optimizer.step()\n",
        "\n",
        "    train_loss_dp.append(loss.data)\n",
        "    model.eval()\n",
        "    Y_test = model(X_test)\n",
        "    loss = criterion(Y_test,2*X_test)\n",
        "    test_loss_dp.append(loss.data)\n",
        "\n",
        "    if(epoch % 500 == 0 or epoch == max_epochs):\n",
        "        running_predictions_dp[:,iters] = Y_test[:,0,0].detach().numpy()\n",
        "        iters += 1"
      ]
    },
    {
      "cell_type": "markdown",
      "metadata": {
        "id": "Dw-rmoOoUOnA"
      },
      "source": [
        "Now that we have finished training, let's see how the model has evolved over the training process."
      ]
    },
    {
      "cell_type": "code",
      "execution_count": 64,
      "metadata": {
        "id": "16zDPWsr5PoP",
        "outputId": "02c2d38c-fbf8-4d13-9a20-848839b6db72",
        "colab": {
          "base_uri": "https://localhost:8080/",
          "height": 312
        }
      },
      "outputs": [
        {
          "output_type": "execute_result",
          "data": {
            "text/plain": [
              "<matplotlib.animation.FuncAnimation at 0x7fbd38d619a0>"
            ]
          },
          "metadata": {},
          "execution_count": 64
        },
        {
          "output_type": "display_data",
          "data": {
            "text/plain": [
              "<Figure size 432x288 with 1 Axes>"
            ],
            "image/png": "[encoded data removed]"
          },
          "metadata": {
            "needs_background": "light"
          }
        }
      ],
      "source": [
        "fig = plt.figure()\n",
        "ax = plt.axes()\n",
        "def frame(i):\n",
        "    ax.clear()\n",
        "    ax.scatter(X[:,0,:].numpy(),Y[:,0,:].numpy())\n",
        "    plot = ax.plot(X_test[:,0,:].detach().numpy(),running_predictions_dp[:,i])\n",
        "    title = \"Epoch: \" + str(i * 500)\n",
        "    plt.title(title)\n",
        "    ax.set_xlabel(\"X axis\")\n",
        "    ax.set_ylabel(\"Y axis\")\n",
        "    return plot\n",
        "anim = animation.FuncAnimation(fig, frame, frames=range(20), blit=False, repeat=False, repeat_delay=10000)\n",
        "anim"
      ]
    },
    {
      "cell_type": "code",
      "execution_count": 66,
      "metadata": {
        "id": "F7IfS-MR5X5O",
        "outputId": "b96fc39c-3099-4707-e03b-27bea641bc73",
        "colab": {
          "base_uri": "https://localhost:8080/",
          "height": 295
        }
      },
      "outputs": [
        {
          "output_type": "display_data",
          "data": {
            "text/plain": [
              "<Figure size 432x288 with 1 Axes>"
            ],
            "image/png": "[encoded data removed]"
          },
          "metadata": {
            "needs_background": "light"
          }
        }
      ],
      "source": [
        "# @title Plot the train and test losses [You may have to run this twice]\n",
        "plt.plot(test_loss_dp, label=\"test_loss dropout\", c=\"blue\", ls=\"dashed\")\n",
        "plt.plot(test_loss, label=\"test_loss\", c=\"red\", ls=\"dashed\")\n",
        "plt.ylabel(\"loss\")\n",
        "plt.xlabel(\"epochs\")\n",
        "plt.title(\"loss vs epoch\")\n",
        "plt.legend()\n",
        "plt.show()\n"
      ]
    },
    {
      "cell_type": "code",
      "execution_count": 67,
      "metadata": {
        "cellView": "form",
        "id": "UsV9CU1z5Zjc",
        "outputId": "8e6cec69-13ed-4c0e-e522-16d34d94cac9",
        "colab": {
          "base_uri": "https://localhost:8080/",
          "height": 295
        }
      },
      "outputs": [
        {
          "output_type": "display_data",
          "data": {
            "text/plain": [
              "<Figure size 432x288 with 1 Axes>"
            ],
            "image/png": "[encoded data removed]"
          },
          "metadata": {
            "needs_background": "light"
          }
        }
      ],
      "source": [
        "#@title Plot model weights with epoch\n",
        "plt.plot(model_norm_dp,label = 'dropout')\n",
        "plt.plot(model_norm,label = 'no dropout')\n",
        "plt.ylabel('norm of the model')\n",
        "plt.xlabel('epochs')\n",
        "plt.legend()\n",
        "plt.title('Size of the model vs Epochs')\n",
        "plt.show()"
      ]
    },
    {
      "cell_type": "markdown",
      "metadata": {
        "id": "KBK9lE8P7WOd"
      },
      "source": [
        "### Dropout Implementation Caveats: "
      ]
    },
    {
      "cell_type": "markdown",
      "metadata": {
        "id": "BwVYGYd57lVm"
      },
      "source": [
        "\n",
        "*  Dropout is used only during training the model, during testing the complete model weights are used and hence it is important to use model.eval() before testing the model. \n",
        "\n",
        "* Dropout reduces the capacity of the model during training and hence as a general practice wider networks are used when using dropout. If you are using a dropout with a random probability of 0.5 then you might want to double the number of hidden neurons in that layer."
      ]
    },
    {
      "cell_type": "markdown",
      "metadata": {
        "id": "9BU0igCDpPwa"
      },
      "source": [
        "**Quiz Question 8:** Can you think of more ways of augmenting training data?"
      ]
    },
    {
      "cell_type": "code",
      "execution_count": null,
      "metadata": {
        "cellView": "form",
        "id": "UEtOQTCq1aPR"
      },
      "outputs": [],
      "source": [
        "data_augment = '' #@param {type:\"string\"}"
      ]
    },
    {
      "cell_type": "markdown",
      "metadata": {
        "id": "VtRxB698CTfG"
      },
      "source": [
        "---\n",
        "# Wrap up"
      ]
    },
    {
      "cell_type": "markdown",
      "metadata": {
        "id": "P5-HZSWcCbr3"
      },
      "source": [
        "## Submit responses"
      ]
    },
    {
      "cell_type": "code",
      "execution_count": 69,
      "metadata": {
        "cellView": "form",
        "colab": {
          "base_uri": "https://localhost:8080/",
          "height": 421
        },
        "id": "FCJJf7OFk8SU",
        "outputId": "ade25302-6752-4b82-80ea-57ab01d08da2"
      },
      "outputs": [
        {
          "output_type": "display_data",
          "data": {
            "text/plain": [
              "<IPython.lib.display.IFrame at 0x7fbd44d647f0>"
            ],
            "text/html": [
              "\n",
              "        <iframe\n",
              "            width=\"800\"\n",
              "            height=\"400\"\n",
              "            src=\"https://airtable.com/embed/shrXrrMFkvePCRHoJ?prefill_pennkey=miltondp&prefill_my_pod=Select&prefill_email=miltondp%40gmail.com&prefill_trend=the+train+loss+keeps+going+down%2C+but+the+test+loss+minimum+happens+very+early+%2C+in+the+first+epochs%2C+then+it+increases%3B+compared+wit+hthe+forbenious+norm+of+the+model%2C+it+says+that+a+%22smaller%22+model+achieves+a+better+performance&prefill_memorize_or_generalize=if+the+NN+memorized+the+training+data+perfectly%2C+it+is+likely+that+it+won%27t+generalize+on+test+data%2C+unless+the+training+data+perfectly+represents+the+global+patterns+in+the+dataset&prefill_early_stopping=if+early+stopping+is+correctly+used+%28i.e.%2C+stops+training+when+the+validation+error+is+minimum%29%2C+it+should+harm+the+training&prefill_variation=&prefill_lambda_1=&prefill_lambda_2=&prefill_elastic_net=&prefill_data_augment=&prefill_cumulative_times=%5B8.327728986740112%5D\"\n",
              "            frameborder=\"0\"\n",
              "            allowfullscreen\n",
              "        ></iframe>\n",
              "        "
            ]
          },
          "metadata": {}
        }
      ],
      "source": [
        "# @markdown #Run Cell to Show Airtable Form\n",
        "# @markdown ##**Confirm your answers and then click \"Submit\"**\n",
        "\n",
        "import time\n",
        "import numpy as np\n",
        "import urllib.parse\n",
        "from IPython.display import IFrame\n",
        "\n",
        "\n",
        "def prefill_form(src, fields: dict):\n",
        "    \"\"\"\n",
        "    src: the original src url to embed the form\n",
        "    fields: a dictionary of field:value pairs,\n",
        "    e.g. {\"pennkey\": my_pennkey, \"location\": my_location}\n",
        "    \"\"\"\n",
        "    # prefills = \"&\".join([\"prefill_%s=%s\"%(key, fields[key]) for key in fields])\n",
        "    # src = src + prefills\n",
        "    # src = \"+\".join(src.split(\" \"))\n",
        "    # return src\n",
        "\n",
        "    prefill_fields = {}\n",
        "    for key in fields:\n",
        "        new_key = \"prefill_\" + key\n",
        "        prefill_fields[new_key] = fields[key]\n",
        "    prefills = urllib.parse.urlencode(prefill_fields)\n",
        "    src = src + prefills\n",
        "    return src\n",
        "\n",
        "\n",
        "# autofill time if it is not present\n",
        "try:\n",
        "    t0\n",
        "except NameError:\n",
        "    t0 = time.time()\n",
        "try:\n",
        "    t1\n",
        "except NameError:\n",
        "    t1 = time.time()\n",
        "\n",
        "# autofill fields if they are not present\n",
        "# a missing pennkey and pod will result in an Airtable warning\n",
        "# which is easily fixed user-side.\n",
        "try:\n",
        "    my_pennkey\n",
        "except NameError:\n",
        "    my_pennkey = \"\"\n",
        "try:\n",
        "    my_pod\n",
        "except NameError:\n",
        "    my_pod = \"Select\"\n",
        "try:\n",
        "    my_email\n",
        "except NameError:\n",
        "    my_email = \"\"\n",
        "\n",
        "try:\n",
        "    trend\n",
        "except NameError:\n",
        "    trend = \"\"\n",
        "try:\n",
        "    memorize_or_generalize\n",
        "except NameError:\n",
        "    memorize_or_generalize = \"\"\n",
        "try:\n",
        "    early_stopping\n",
        "except NameError:\n",
        "    early_stopping = \"\"\n",
        "\n",
        "\n",
        "variation = \"\"\n",
        "lambda_1 = \"\"\n",
        "lambda_2 = \"\"\n",
        "elastic_net = \"\"\n",
        "try:\n",
        "    data_augment\n",
        "except NameError:\n",
        "    data_augment = \"\"\n",
        "\n",
        "times = [(t - t0) for t in [t1]]\n",
        "\n",
        "fields = {\n",
        "    \"pennkey\": my_pennkey,\n",
        "    \"my_pod\": my_pod,\n",
        "    \"email\": my_email,\n",
        "    \"trend\": trend,\n",
        "    \"memorize_or_generalize\": memorize_or_generalize,\n",
        "    \"early_stopping\": early_stopping,\n",
        "    \"variation\": variation,\n",
        "    \"lambda_1\": lambda_1,\n",
        "    \"lambda_2\": lambda_2,\n",
        "    \"elastic_net\": elastic_net,\n",
        "    \"data_augment\": data_augment,\n",
        "    \"cumulative_times\": times,\n",
        "}\n",
        "\n",
        "src = \"https://airtable.com/embed/shrXrrMFkvePCRHoJ?\"\n",
        "\n",
        "# now instead of the original source url, we do: src = prefill_form(src, fields)\n",
        "display(IFrame(src=prefill_form(src, fields), width=800, height=400))\n"
      ]
    }
  ],
  "metadata": {
    "kernelspec": {
      "display_name": "ml520",
      "language": "python",
      "name": "python3"
    },
    "language_info": {
      "codemirror_mode": {
        "name": "ipython",
        "version": 3
      },
      "file_extension": ".py",
      "mimetype": "text/x-python",
      "name": "python",
      "nbconvert_exporter": "python",
      "pygments_lexer": "ipython3",
      "version": "3.9.7 (default, Nov 16 2021, 13:05:42) \n[Clang 13.0.0 (clang-1300.0.29.3)]"
    },
    "orig_nbformat": 4,
    "vscode": {
      "interpreter": {
        "hash": "9b81b370e9c0dc1906fe4c8135ff0ada4d70e528519389c4f900e14566b83adf"
      }
    },
    "colab": {
      "provenance": [],
      "toc_visible": true,
      "include_colab_link": true
    },
    "accelerator": "GPU",
    "gpuClass": "standard"
  },
  "nbformat": 4,
  "nbformat_minor": 0
}