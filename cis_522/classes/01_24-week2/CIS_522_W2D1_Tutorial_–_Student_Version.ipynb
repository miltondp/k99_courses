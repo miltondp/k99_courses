{
  "cells": [
    {
      "cell_type": "markdown",
      "metadata": {
        "id": "view-in-github",
        "colab_type": "text"
      },
      "source": [
        "<a href=\"https://colab.research.google.com/github/miltondp/k99_courses/blob/main/cis_522/classes/01_24-week2/CIS_522_W2D1_Tutorial_%E2%80%93_Student_Version.ipynb\" target=\"_parent\"><img src=\"https://colab.research.google.com/assets/colab-badge.svg\" alt=\"Open In Colab\"/></a>"
      ]
    },
    {
      "cell_type": "markdown",
      "metadata": {
        "id": "ML2DwqwkVwfo"
      },
      "source": [
        "# CIS-522 Week 2 Part 1\n",
        "\n",
        "# PyTorch & Deep Linear Networks\n",
        "\n",
        "**Instructors:** Konrad Kording, Lyle Ungar\n",
        "\n",
        "**Content creators:** Ameet Rahane, Spiros Chavlis, Ann-Katrin Reuel\n"
      ]
    },
    {
      "cell_type": "markdown",
      "metadata": {
        "id": "exeRQO8LnRZB"
      },
      "source": [
        "---\n",
        "\n",
        "# Today's agenda\n",
        "\n",
        "In this tutorial of Week 2, we are going to dive a bit deeper into PyTorch. As a case study, we will use a simple linear regression model. Today we will:\n",
        "\n",
        "1. Learn about the concept of auto differentiation\n",
        "2. Implement a function for linear regression from scratch\n",
        "3. Check the results with an analytical solution.\n"
      ]
    },
    {
      "cell_type": "code",
      "execution_count": 32,
      "metadata": {
        "cellView": "form",
        "id": "uiN7yWdPSiCH"
      },
      "outputs": [],
      "source": [
        "# @markdown What is your Pennkey and pod? (text, not numbers, e.g. bfranklin)\n",
        "my_pennkey = \"miltondp\"  # @param {type:\"string\"}\n",
        "my_pod = \"Factorial Ferrets\"  # @param [\"Factorial Ferrets\", \"Causal Crows\", \"Recursive Roosters\", \"Bayesian Bighorns\", \"Probabilistic Pronghorns\", \"Hashing Hares\", \"Multiplicative Mustangs\", \"Curiosity Capybaras\", \"Subspace Salamanders\"]\n",
        "my_email = \"miltondp@gmail.com\"  # @param {type:\"string\"}\n",
        "tutorial = \"W2D1\"\n",
        "\n",
        "\n",
        "# start timing\n",
        "import time\n",
        "\n",
        "try:\n",
        "    t0\n",
        "except NameError:\n",
        "    t0 = time.time()\n"
      ]
    },
    {
      "cell_type": "markdown",
      "metadata": {
        "id": "5x61BA1qPubi"
      },
      "source": [
        "---\n",
        "\n",
        "# Setup\n"
      ]
    },
    {
      "cell_type": "code",
      "execution_count": 33,
      "metadata": {
        "id": "uw7q7Z_ZPt66"
      },
      "outputs": [],
      "source": [
        "# imports\n",
        "import numpy as np\n",
        "import random\n",
        "import matplotlib.pylab as plt\n",
        "import matplotlib as mpl\n",
        "import pandas as pd\n",
        "from tqdm.notebook import tqdm, trange\n",
        "\n",
        "import torch\n",
        "from torch.autograd import Variable\n",
        "import torch.nn as nn\n",
        "import torch.nn.functional as F\n",
        "import torch.optim as optim\n"
      ]
    },
    {
      "cell_type": "code",
      "execution_count": 34,
      "metadata": {
        "cellView": "form",
        "id": "LID483Ou-z53"
      },
      "outputs": [],
      "source": [
        "# @title Figure Settings\n",
        "%config InlineBackend.figure_format = 'retina'\n",
        "%matplotlib inline \n",
        "\n",
        "fig_w, fig_h = (8, 6)\n",
        "plt.rcParams.update({'figure.figsize': (fig_w, fig_h)})\n",
        "\n",
        "plt.style.use(\"https://raw.githubusercontent.com/NeuromatchAcademy/course-content/master/nma.mplstyle\")"
      ]
    },
    {
      "cell_type": "code",
      "execution_count": 35,
      "metadata": {
        "cellView": "form",
        "id": "A9dj2mri60tR"
      },
      "outputs": [],
      "source": [
        "# @title Helper functions\n",
        "\n",
        "\n",
        "def synthetic_dataset(w, b, num_examples=1000, sigma=0.01, seed=2021):\n",
        "    \"\"\"\n",
        "    Synthetic data generator in the form:\n",
        "        y = Xw + b + gaussian_noise(0, sigma).\n",
        "\n",
        "    Parameters\n",
        "    ----------\n",
        "    w : torch.tensor\n",
        "        weights. The length of `w` denotes the number of independent variables\n",
        "    b : torch.tensor\n",
        "        bias (offset or intercept).\n",
        "    num_examples : INT, optional\n",
        "        DESCRIPTION. The default is 1000.\n",
        "    sigma : FLOAT, optional\n",
        "        Standard deviation of the Gaussian noise. The default is 0.01.\n",
        "    seed : INT, optional\n",
        "        Seed the RNG for reproducibility. The default is 2021.\n",
        "\n",
        "    Returns\n",
        "    -------\n",
        "    X: torch.tensor\n",
        "        the independent variable(s).\n",
        "    y: torch.tensor\n",
        "        the dependent variable\n",
        "\n",
        "    \"\"\"\n",
        "\n",
        "    torch.manual_seed(seed)\n",
        "\n",
        "    X = torch.normal(0, 1, (w.shape[0], num_examples))\n",
        "    y = torch.matmul(w.T, X) + b\n",
        "    # Add gaussian noise\n",
        "    y += torch.normal(0, sigma, y.shape)\n",
        "\n",
        "    return X, y.reshape((-1, 1))\n"
      ]
    },
    {
      "cell_type": "markdown",
      "metadata": {
        "id": "GxW33SNOaimY"
      },
      "source": [
        "---\n",
        "\n",
        "# Section 1: Deep Learning and Gradients\n"
      ]
    },
    {
      "cell_type": "markdown",
      "metadata": {
        "id": "xZfBbussuvqR"
      },
      "source": [
        "We clearly can run code. But now we want to be good enough at this so that we can solve our own problems. And to do so, we need to understand this from the bottom up.\n"
      ]
    },
    {
      "cell_type": "code",
      "execution_count": null,
      "metadata": {
        "cellView": "form",
        "colab": {
          "base_uri": "https://localhost:8080/",
          "height": 518
        },
        "id": "AojN0T8iajXM",
        "outputId": "3087adf5-e6c1-4dc2-b3ca-108742032ac6"
      },
      "outputs": [
        {
          "name": "stdout",
          "output_type": "stream",
          "text": [
            "Video available at https://youtube.com/watch?v=uyK1v8VIX4E\n"
          ]
        },
        {
          "data": {
            "image/jpeg": "[encoded data removed]",
            "text/html": [
              "\n",
              "        <iframe\n",
              "            width=\"854\"\n",
              "            height=\"480\"\n",
              "            src=\"https://www.youtube.com/embed/uyK1v8VIX4E?fs=1\"\n",
              "            frameborder=\"0\"\n",
              "            allowfullscreen\n",
              "        ></iframe>\n",
              "        "
            ],
            "text/plain": [
              "<IPython.lib.display.YouTubeVideo at 0x7fe5a508e890>"
            ]
          },
          "execution_count": 28,
          "metadata": {},
          "output_type": "execute_result"
        }
      ],
      "source": [
        "# @title Video: What is Deep Learning\n",
        "from IPython.display import YouTubeVideo\n",
        "\n",
        "try:\n",
        "    t2\n",
        "except NameError:\n",
        "    t2 = time.time()\n",
        "\n",
        "video = YouTubeVideo(id=\"uyK1v8VIX4E\", width=854, height=480, fs=1)\n",
        "print(\"Video available at https://youtube.com/watch?v=\" + video.id)\n",
        "\n",
        "video\n"
      ]
    },
    {
      "cell_type": "markdown",
      "metadata": {
        "id": "5klLiRlTPkMD"
      },
      "source": [
        "## Why are Gradients important?\n",
        "\n",
        "The gradient vector can be interpreted as the \"direction and rate of fastest increase\". In deep learning, we will use the gradient to optimize all of the parameters in a model with respect to some loss function. The partial derivative defines the gradient:\n",
        "\n",
        "$$\\dfrac{\\partial loss}{\\partial x}$$ where $x$ is the parameter we're optimizing.\n",
        "\n",
        "So, what is a partial derivative? Looking back at single variable calculus, we know the ordinary derivative $\\dfrac{df}{dx}$. In this function, $df$ is interpreted as some small change in the output of $f$, and $dx$ is is interpreted a small change in $x$.\n",
        "\n",
        "However, if we have some multivariable function $f(x,y)$, $\\dfrac{df}{dx}$ doesn't show how the entire function changes, so we call it a partial derivative, and for the sake of clarity, we denote this as $\\dfrac{\\partial f}{\\partial x}$. When computing this partial derivative, we treat everything that's not what our partial derivative is with respect to as a constant. For example:\n",
        "\n",
        "Let's compute the partial derivative $\\dfrac{\\partial f}{\\partial x}$ of\n",
        "$$f(x,y) = x^2y^3$$. We treat $y$ as a constant while doing this, so this is as simple as invoking the exponent rule from single variable calculus:\n",
        "\n",
        "$$\\dfrac{\\partial f}{\\partial x} = 2xy^3$$\n"
      ]
    },
    {
      "cell_type": "markdown",
      "metadata": {
        "id": "VpFNj0_WwVfq"
      },
      "source": [
        "## Let's work out a few partial derivatives to get the hang of it:\n",
        "\n",
        "#### Given $f(x,y) = x^2 - xy$, find\n",
        "\n",
        "1.  $\\frac{\\partial f}{\\partial x} = 2x - y$\n",
        "\n",
        "2.  $\\frac{\\partial f}{\\partial y} = -x$\n"
      ]
    },
    {
      "cell_type": "markdown",
      "metadata": {
        "id": "wfAtZVV6waMs"
      },
      "source": [
        "#### Given $f(x, y, z) = x - xy + z^2$, find\n",
        "\n",
        "1.  $\\frac{\\partial f}{\\partial x} = 1 - y$\n",
        "\n",
        "2.  $\\frac{\\partial f}{\\partial y} = -x$\n",
        "\n",
        "3.  $\\frac{\\partial f}{\\partial z} = 2z$\n"
      ]
    },
    {
      "cell_type": "markdown",
      "metadata": {
        "id": "RNjp9QxcweeJ"
      },
      "source": [
        "#### Given $f(x, y) = x e^{-2y} + x^2y$, find the **second** derivative\n",
        "\n",
        "1.  $\\frac{\\partial ^2f}{\\partial x^2} = 2y$\n",
        "\n",
        "2.  $\\frac{\\partial ^2f}{\\partial y^2} = -2xe^{-2y} + x^2 = 4xe^{-2y}$\n",
        "\n",
        "3.  $\\frac{\\partial ^2f}{\\partial x \\partial y} = -2xe^{-2y} + x^2 = -2e^{-2y} + 2x$\n",
        "\n",
        "4.  $\\frac{\\partial ^2f}{\\partial y \\partial x} = COMPLETE STEP = -2e^{-2y} + 2x$\n"
      ]
    },
    {
      "cell_type": "markdown",
      "metadata": {
        "id": "TArJrT4fd9gq"
      },
      "source": [
        "---\n",
        "\n",
        "# Section 2: Gradients in Pytorch (Autograd)\n"
      ]
    },
    {
      "cell_type": "code",
      "execution_count": null,
      "metadata": {
        "cellView": "form",
        "colab": {
          "base_uri": "https://localhost:8080/",
          "height": 518
        },
        "id": "_d-S027hd-ZU",
        "outputId": "3c07f5db-3749-4e0c-ecc1-aaaf2ba070c9"
      },
      "outputs": [
        {
          "name": "stdout",
          "output_type": "stream",
          "text": [
            "Video available at https://youtube.com/watch?v=xBc95BB6Gwo\n"
          ]
        },
        {
          "data": {
            "image/jpeg": "[encoded data removed]",
            "text/html": [
              "\n",
              "        <iframe\n",
              "            width=\"854\"\n",
              "            height=\"480\"\n",
              "            src=\"https://www.youtube.com/embed/xBc95BB6Gwo?fs=1\"\n",
              "            frameborder=\"0\"\n",
              "            allowfullscreen\n",
              "        ></iframe>\n",
              "        "
            ],
            "text/plain": [
              "<IPython.lib.display.YouTubeVideo at 0x7fe5a508e910>"
            ]
          },
          "execution_count": 29,
          "metadata": {},
          "output_type": "execute_result"
        }
      ],
      "source": [
        "# @title Video: Automatic Differentiation\n",
        "\n",
        "try:\n",
        "    t3\n",
        "except NameError:\n",
        "    t3 = time.time()\n",
        "\n",
        "video = YouTubeVideo(id=\"xBc95BB6Gwo\", width=854, height=480, fs=1)\n",
        "print(\"Video available at https://youtube.com/watch?v=\" + video.id)\n",
        "\n",
        "video\n"
      ]
    },
    {
      "cell_type": "markdown",
      "metadata": {
        "id": "kZ6lNk_5b7sQ"
      },
      "source": [
        "## AutoGrad\n",
        "\n",
        "The `autograd` package provides automatic differentiation for all operations\n",
        "on Tensors. It is a _define-by-run_ framework, which means that your backpropagation algorithm is defined by how your code is run and that every single iteration can be different.\n",
        "\n",
        "Let us see this in more simple terms with some examples.\n"
      ]
    },
    {
      "cell_type": "markdown",
      "metadata": {
        "id": "KSHfk9iDPfJA"
      },
      "source": [
        "### Tensors\n",
        "\n",
        "`torch.Tensor` is the central class of the package. If you set its attribute\n",
        "`.requires_grad` as `True`, it starts to track all operations on it. When you finish your computation, you can call `.backward()` and have all the gradients computed automatically. The gradient for this tensor will be accumulated into `.grad` attribute.\n",
        "\n",
        "To stop a tensor from tracking history, you can call `.detach()` to detach it from the computation history and prevent future computation from being tracked.\n",
        "\n",
        "To prevent tracking history (and use of memory), you can also wrap the code block in `with torch.no_grad():`. This can be particularly helpful when evaluating a model because the model may have trainable parameters with `requires_grad=True`, for which we don't need the gradients.\n",
        "\n",
        "There’s one more class which is very important for autograd implementation - a `Function`.\n",
        "\n",
        "<img src=\"https://miro.medium.com/max/1536/1*wE1f2i7L8QRw8iuVx5mOpw.png\" alt=\"Function\" width=\"600\"/>\n",
        "\n",
        "`Tensor` and `Function` are interconnected and build up an acyclic graph, that encodes a complete history of computation. Each tensor has a `.grad_fn` attribute that references a `Function` that has created the `Tensor` (except for Tensors created by the user - their `grad_fn is None`).\n",
        "\n",
        "If you want to compute the derivatives, you can call `.backward()` on a `Tensor`. If `Tensor` is a scalar (i.e., it holds a one element (data), you don’t need to specify any arguments to `backward()`, however, if it has more elements, you need to specify a `gradient` argument that is a tensor of matching shape.\n",
        "\n",
        "On calling `.backward`, we get the gradients $\\dfrac{\\partial loss}{\\partial x}$ where $x$ is the tensor. PyTorch will store the variable results in $x$.\n",
        "\n",
        "---\n",
        "\n",
        "PS: In previous versions of PyTorch, this required a separate Variable parameter that acted as a wrapper around a Tensor. This is now depreciated and `pytorch.Tensor` has autograd built-in.\n"
      ]
    },
    {
      "cell_type": "markdown",
      "metadata": {
        "id": "-CHTVNE-o9xc"
      },
      "source": [
        "Let's start from some toy examples.\n"
      ]
    },
    {
      "cell_type": "code",
      "execution_count": null,
      "metadata": {
        "colab": {
          "base_uri": "https://localhost:8080/"
        },
        "id": "JmImJGHhPZUB",
        "outputId": "2378d557-cd78-4635-ce9f-e8775ae52b53"
      },
      "outputs": [
        {
          "output_type": "stream",
          "name": "stdout",
          "text": [
            "tensor([[1., 1.],\n",
            "        [1., 1.]], requires_grad=True)\n",
            "tensor([[5.1440e-34, 0.0000e+00, 3.7835e-44],\n",
            "        [0.0000e+00,        nan, 0.0000e+00],\n",
            "        [1.3733e-14, 6.4069e+02, 4.3066e+21]], requires_grad=True)\n"
          ]
        }
      ],
      "source": [
        "ones_tensor = torch.ones(2, 2, requires_grad=True)\n",
        "print(ones_tensor)\n",
        "\n",
        "float_tensor = torch.FloatTensor(\n",
        "    3, 3\n",
        ")  # No way to specify requires_grad while initiating\n",
        "float_tensor.requires_grad = True\n",
        "print(float_tensor)\n"
      ]
    },
    {
      "cell_type": "markdown",
      "metadata": {
        "id": "3Vk-wL5fmNLZ"
      },
      "source": [
        "**Important:** `requires_grad` option is _contagious_, i.e., when a Tensor is created by operating on other Tensors, the `requires_grad` of the resultant Tensor would be set `True` given that at least one of the tensors used for its creation has `requires_grad` set to `True`.\n"
      ]
    },
    {
      "cell_type": "markdown",
      "metadata": {
        "id": "XQBv6f8ilVPW"
      },
      "source": [
        "_So_, what we have just built is a tensor with the autograd option enabled. As a toy example, assume that we want to differentiate the function $y=4\\textbf{x}^{\\text{T}}\\textbf{x}$ with respect to the column vector $\\textbf{x}$.\n"
      ]
    },
    {
      "cell_type": "code",
      "execution_count": null,
      "metadata": {
        "colab": {
          "base_uri": "https://localhost:8080/"
        },
        "id": "_CS7nmYOnSm_",
        "outputId": "0370bfe7-0615-4b68-849c-42ddef49bb0a"
      },
      "outputs": [
        {
          "output_type": "stream",
          "name": "stdout",
          "text": [
            "tensor([0., 1., 2., 3.], requires_grad=True)\n",
            "None\n"
          ]
        }
      ],
      "source": [
        "x = torch.arange(4.0, requires_grad=True)\n",
        "print(x)\n",
        "print(x.grad)\n"
      ]
    },
    {
      "cell_type": "markdown",
      "metadata": {
        "id": "sIZXHxopo1-D"
      },
      "source": [
        "Now, we calculate the value of $y$\n"
      ]
    },
    {
      "cell_type": "code",
      "execution_count": null,
      "metadata": {
        "colab": {
          "base_uri": "https://localhost:8080/"
        },
        "id": "bbLnn_d_o5or",
        "outputId": "24603666-df69-450d-dfcd-51414842766e"
      },
      "outputs": [
        {
          "output_type": "stream",
          "name": "stdout",
          "text": [
            "tensor(56., grad_fn=<MulBackward0>)\n"
          ]
        }
      ],
      "source": [
        "y = 4 * torch.dot(x, x)\n",
        "print(y)\n"
      ]
    },
    {
      "cell_type": "markdown",
      "metadata": {
        "id": "uUMVTwfxpLoW"
      },
      "source": [
        "Since $\\textbf{x}$ is a vector of length 4, an inner product of $\\textbf{x}$ with itself is performed, yielding the scalar output that we assign to $y$. Next, we can automatically calculate the gradient of $y$ with respect to each component of $\\textbf{x}$ by calling the function for backpropagation and printing the gradient.\n"
      ]
    },
    {
      "cell_type": "code",
      "execution_count": null,
      "metadata": {
        "colab": {
          "base_uri": "https://localhost:8080/"
        },
        "id": "_7FGlaUupmL9",
        "outputId": "a249067a-dc52-4f82-ac38-c48ef07b2363"
      },
      "outputs": [
        {
          "output_type": "execute_result",
          "data": {
            "text/plain": [
              "tensor([ 0.,  8., 16., 24.])"
            ]
          },
          "metadata": {},
          "execution_count": 10
        }
      ],
      "source": [
        "y.backward()\n",
        "x.grad\n"
      ]
    },
    {
      "cell_type": "markdown",
      "metadata": {
        "id": "qY5XrkCNqUwn"
      },
      "source": [
        "The gradient of the function $y=4 \\textbf{x}^{\\text{T}} \\textbf{x}$ with respect to $\\textbf{x}$ should be $8\\textbf{x}$. Let us quickly verify that our desired gradient was calculated correctly.\n"
      ]
    },
    {
      "cell_type": "code",
      "execution_count": null,
      "metadata": {
        "colab": {
          "base_uri": "https://localhost:8080/"
        },
        "id": "VqX0j1gFqqh1",
        "outputId": "91ab321a-918b-4f14-dfc1-8f534d882b5e"
      },
      "outputs": [
        {
          "output_type": "execute_result",
          "data": {
            "text/plain": [
              "tensor([True, True, True, True])"
            ]
          },
          "metadata": {},
          "execution_count": 11
        }
      ],
      "source": [
        "x.grad == 8 * x\n"
      ]
    },
    {
      "cell_type": "code",
      "execution_count": null,
      "metadata": {
        "colab": {
          "base_uri": "https://localhost:8080/"
        },
        "id": "mEsFRu2iqTpR",
        "outputId": "42aac0ec-76ef-408e-aba0-1bd4ac90bd7f"
      },
      "outputs": [
        {
          "output_type": "execute_result",
          "data": {
            "text/plain": [
              "tensor([1., 1., 1., 1.])"
            ]
          },
          "metadata": {},
          "execution_count": 12
        }
      ],
      "source": [
        "# PyTorch accumulates the gradient in default, we need to clear the previous\n",
        "# values\n",
        "x.grad.zero_()\n",
        "y = x.sum()\n",
        "y.backward()\n",
        "x.grad\n"
      ]
    },
    {
      "cell_type": "markdown",
      "metadata": {
        "id": "kyDxRi20O5WO"
      },
      "source": [
        "## Autograd: the importance and history of autograd\n",
        "\n",
        "Autograd came to be simply because it is impractical and challenging to both visualize and compute gradients for very high dimensional spaces, such as those we'd see in large neural networks:\n",
        "\n",
        "> \"To deal with hyper-planes in a 14-dimensional space, visualize a 3-D space and say ‘fourteen’ to yourself very loudly. Everyone does it\" - Geoffrey Hinton.\n",
        "\n",
        "Autograd abstracts these concepts and \"automagically\" calculates gradients of high dimensional spaces. Gradients care calculated by tracing the computation graph from the root (the first tensor created) to the leaf (the last computation that occurred) and using the chain rule to compute every gradient along the way.\n",
        "\n",
        "Let's look at some of the relevant functions and attributes:\n",
        "\n",
        "-   `.detach()`: Detaches the tensor from the computation graph and prevents future computation from being tracked\n",
        "-   `.requires_grad`: Starts tracking all operations on the computation graph\n",
        "-   `.backward()`: When the computation is finished, call `tensor.backward()` to compute all gradients automatically\n",
        "-   `.grad`: All of the gradients for each tensor is accumulated in `.grad`\n",
        "-   `.grad_fn`: For tensors created by an operation, `grad_fn` will give you the operation that created them. For tensors created by users, it will return None.\n",
        "-   `.requires_grad_(bool)`: Changes an existing Tensor's `requires_grad` flag in place. This is False by default.\n",
        "\n",
        "See: https://pytorch.org/tutorials/beginner/blitz/autograd_tutorial.html\n"
      ]
    },
    {
      "cell_type": "markdown",
      "metadata": {
        "id": "a84ftaP5qIBO"
      },
      "source": [
        "## Example: A small Compute Graph\n"
      ]
    },
    {
      "cell_type": "markdown",
      "metadata": {
        "id": "buor3olzPGa9"
      },
      "source": [
        "### Forward pass\n",
        "\n",
        "PyTorch creates a so-called **Dynamic Computation Graph**, which means that the graph is generated on the fly.\n",
        "\n",
        "The big thing that differentiates PyTorch and Tensorflow is how the computation graph functions. In PyTorch, all variables and functions build a dynamic graph of computation. For every mathematical operation involving Tensors, a Function node is made on this computation graph. We can see what function creates a given Tensor by using the attribute `grad_fn`. So, let's examine the compute graph of a simple addition operation.\n",
        "\n",
        "<img src=\"https://miro.medium.com/max/1684/1*FDL9Se9otGzz83F3rofQuA.png\" alt=\"Computation Graph\" width=\"500\"/>\n",
        "\n",
        "Here, we give a toy example with an elementary graph to understand PyTorch's logic!\n",
        "\n",
        "The variable $\\alpha$ is the input and is initialized by the user. Variables $b$, $c$ and $d$ are created as a result of mathematical operations, variables $w_1$, $w_2$, $w_3$ and $w_4$ are initialised by the user. Since any mathematical operator does not create them, nodes corresponding to their creation are represented by their name itself. This is true for all the leaf nodes in the graph. Variable $L$ is the output of this computational graph.\n"
      ]
    },
    {
      "cell_type": "markdown",
      "metadata": {
        "id": "XUGrcRnlqafy"
      },
      "source": [
        "#### Exercise 2a: Get the parameters\n",
        "\n",
        "Lets start by defining our parameters ($w_1, w_2, w_3, w_4$) and inputs ($\\alpha$). Lets assume that all parameters and inputs are $3 \\times 3$ tensors sampled from a normal distribution with zero mean and standard deviation $\\sigma=1$ (i.e., `torch.randn`).\n",
        "\n",
        "_Hint:_ Do not forget to enable tracking of gradients.\n",
        "\n",
        "_Clarification:_ With respect to this graph, we further assume that all multiplications are pointwise and that L is the MSE loss between d and target.\n"
      ]
    },
    {
      "cell_type": "code",
      "execution_count": null,
      "metadata": {
        "id": "YnyXzTqGp8Fh",
        "colab": {
          "base_uri": "https://localhost:8080/"
        },
        "outputId": "eb006934-7849-4f69-f1b9-0f27eabf8955"
      },
      "outputs": [
        {
          "output_type": "stream",
          "name": "stdout",
          "text": [
            "The inputs are: \n",
            "tensor([[ 0.5092, -0.6053,  3.4162],\n",
            "        [ 0.2408, -0.4967, -0.7297],\n",
            "        [ 0.3462, -1.1302,  0.1315]], requires_grad=True)\n",
            "The weights are: \n",
            "w1:tensor([[-0.6045, -1.3465, -0.2687],\n",
            "        [ 1.2305, -0.2398,  0.8317],\n",
            "        [-0.9805,  0.4504, -0.3251]], requires_grad=True), \n",
            "w2:tensor([[ 1.5520,  0.0858,  0.4998],\n",
            "        [-0.1341,  1.5022, -0.3232],\n",
            "        [-0.5648, -0.5587,  0.9516]], requires_grad=True), \n",
            "w3:tensor([[-1.9877,  0.8138, -1.2934],\n",
            "        [ 1.1895,  0.0838, -0.6531],\n",
            "        [-1.2936,  2.1419,  0.3060]], requires_grad=True),  \n",
            "w4:tensor([[-0.4080,  2.1002,  0.3851],\n",
            "        [ 0.8912, -0.2741, -1.4714],\n",
            "        [-1.2259, -1.2563, -0.7624]], requires_grad=True)\n"
          ]
        }
      ],
      "source": [
        "def get_params():\n",
        "    \"\"\"\n",
        "    A simple function that generates our parameters and inputs\n",
        "\n",
        "    ---\n",
        "    args: nothing\n",
        "\n",
        "    returns:\n",
        "      a: torch.Tensor\n",
        "        inputs\n",
        "      w1: torch.Tensor\n",
        "        weights\n",
        "      w2: torch.Tensor\n",
        "        weights\n",
        "      w3: torch.Tensor\n",
        "        weights\n",
        "      w4: torch.Tensor\n",
        "        weights\n",
        "\n",
        "    \"\"\"\n",
        "    #####################################################################\n",
        "    # Fill in missing code (...) with randomly initialized tensors\n",
        "    # (standrad normal) which require gradient.\n",
        "    # then remove or comment the line below to test your function.\n",
        "    #raise NotImplementedError(\"Define the input and weight params!\")\n",
        "    #####################################################################\n",
        "    a = torch.randn(3, 3, requires_grad=True)\n",
        "    w1 = torch.randn(3, 3, requires_grad=True)\n",
        "    w2 = torch.randn(3, 3, requires_grad=True)\n",
        "    w3 = torch.randn(3, 3, requires_grad=True)\n",
        "    w4 = torch.randn(3, 3, requires_grad=True)\n",
        "\n",
        "    return (a, w1, w2, w3, w4)\n",
        "\n",
        "\n",
        "# uncomment the lines below to test your function\n",
        "params = get_params()\n",
        "print(f'The inputs are: \\n{params[0]}')\n",
        "print(f'The weights are: \\nw1:{params[1]}, \\nw2:{params[2]}, \\nw3:{params[3]}, '\n",
        "      f' \\nw4:{params[4]}')\n"
      ]
    },
    {
      "cell_type": "markdown",
      "metadata": {
        "id": "OyA1Tzq-taGN"
      },
      "source": [
        "#### Exercise 2b: Compute graph\n",
        "\n",
        "Now, let's define the mathematical operations of our toy graph. Weights are multiplied with the corresponding node value, and double arrows denote a summation (see node $d$).\n",
        "\n",
        "_Clarification:_ With respect to this graph, we further assume that all multiplications are pointwise and that L is the MSE loss between d and target.\n"
      ]
    },
    {
      "cell_type": "code",
      "execution_count": null,
      "metadata": {
        "id": "0-XDzn-FaJmg",
        "colab": {
          "base_uri": "https://localhost:8080/"
        },
        "outputId": "e4f9bd27-9193-4f31-a4cf-d48c3afd784b"
      },
      "outputs": [
        {
          "output_type": "stream",
          "name": "stdout",
          "text": [
            "tensor(392.1619, grad_fn=<MseLossBackward0>)\n",
            "Loss: 392.1618957519531\n"
          ]
        }
      ],
      "source": [
        "def compute_graph(params, target):\n",
        "    \"\"\"\n",
        "    Simple function with the forward pass\n",
        "\n",
        "    args:\n",
        "      params: list\n",
        "        contains the inputs and the weight tensors\n",
        "    returns:\n",
        "      L: float\n",
        "        loss given a target value\n",
        "    \"\"\"\n",
        "    a, w1, w2, w3, w4 = params[0], params[1], params[2], params[3], params[4]\n",
        "\n",
        "    #####################################################################\n",
        "    # Fill in missing code (...) to create the compute graph\n",
        "    # shown in Example A (above).\n",
        "    # then remove or comment the line below to test your function.\n",
        "    #raise NotImplementedError(\"Define the compute graph!\")\n",
        "    #####################################################################\n",
        "\n",
        "    b = a * w1\n",
        "    c = a * w2\n",
        "    d = (b * w3) + (c * w4)\n",
        "\n",
        "    # Compute the summed loss\n",
        "    L = ((target - d) ** 2).mean()\n",
        "\n",
        "    mse = nn.MSELoss()\n",
        "    L_true = mse(d, torch.tensor(target))\n",
        "    print(L_true)\n",
        "\n",
        "    # Store weights in a dictionary\n",
        "    weights = {}\n",
        "    weights[\"w1\"] = w1\n",
        "    weights[\"w2\"] = w2\n",
        "    weights[\"w3\"] = w3\n",
        "    weights[\"w4\"] = w4\n",
        "\n",
        "    # Store values of the nodes in a dictionary\n",
        "    values = {}\n",
        "    values[\"a\"] = a\n",
        "    values[\"b\"] = b\n",
        "    values[\"c\"] = c\n",
        "    values[\"d\"] = d\n",
        "\n",
        "    return (L, values, weights)\n",
        "\n",
        "\n",
        "# uncomment the following lines to test your function\n",
        "output = compute_graph(params, 20)\n",
        "print(f'Loss: {output[0]}')\n"
      ]
    },
    {
      "cell_type": "markdown",
      "metadata": {
        "id": "sVfbLHkMZYrv"
      },
      "source": [
        "Now, let's print the gradients.\n"
      ]
    },
    {
      "cell_type": "code",
      "execution_count": null,
      "metadata": {
        "colab": {
          "base_uri": "https://localhost:8080/"
        },
        "id": "ig-XstYcwG-s",
        "outputId": "9569f242-ce6c-44e5-eb9b-a7b5ea64a859"
      },
      "outputs": [
        {
          "output_type": "stream",
          "name": "stdout",
          "text": [
            "The grad fn for a is None\n",
            "The grad fn for d is <AddBackward0 object at 0x7f0099a1bd00>\n"
          ]
        }
      ],
      "source": [
        "a = output[1][\"a\"]\n",
        "d = output[1][\"d\"]\n",
        "\n",
        "print(\"The grad fn for a is\", a.grad_fn)\n",
        "print(\"The grad fn for d is\", d.grad_fn)\n"
      ]
    },
    {
      "cell_type": "markdown",
      "metadata": {
        "id": "ivJSEhydZkSx"
      },
      "source": [
        "What you see is that the gradient for the input `a` is `None` as we did not calculate it yet! Let's first see what PyTorch computes as gradients of any computational graph.\n"
      ]
    },
    {
      "cell_type": "markdown",
      "metadata": {
        "id": "CWC4l6-1waEW"
      },
      "source": [
        "### Backward pass: Computing the gradients\n",
        "\n",
        "Each node of the computation graph, with the exception of leaf nodes, can be considered as a function which takes some inputs and produces an output. Consider the node of the graph which produces variable $d$ from $w_3 \\cdot b$ and $w_4 \\cdot c$. Thus, we can write the output $d$ as a function of its inputs:\n",
        "\n",
        "\\begin{equation}\n",
        "d = f(w_3 \\cdot b, w_4 \\cdot c)\n",
        "\\end{equation}\n",
        "\n",
        "Thus, we can easily compute the gradient of the function $f$ with respect to its inputs ($\\frac{\\partial f}{\\partial w_3b}$ and $\\frac{\\partial f}{\\partial w_4c}$). Similarly, we do this for the entire graph and we have described the derivatives of this graph.\n",
        "\n",
        "<img src=\"https://miro.medium.com/max/1684/1*EWpoG5KayZSqkWmwM_wMFQ.png\" alt=\"Computation Graph with Gradients\" width=\"500\"/>\n",
        "\n",
        "In order to compute derivatives in our graph, we generally call `backward` on the Tensor representing our loss $L$, i.e., the output of the graph. Then, we backtrack through the graph starting from the node representing the `grad_fn` of our loss.\n",
        "\n",
        "As described above, the backward function is recursively called throughout the graph as we backtrack. Once, we reach a leaf node, since the `grad_fn` is `None`, but stop backtracking through that path.\n"
      ]
    },
    {
      "cell_type": "code",
      "execution_count": null,
      "metadata": {
        "id": "mamwLy6Bwzyv"
      },
      "outputs": [],
      "source": [
        "L = output[0]\n",
        "L.backward()\n"
      ]
    },
    {
      "cell_type": "markdown",
      "metadata": {
        "id": "lAfcmVcBwrL5"
      },
      "source": [
        "Once that's done, you can access the gradients by calling the Tensor's `grad` attribute.\n"
      ]
    },
    {
      "cell_type": "code",
      "execution_count": null,
      "metadata": {
        "id": "aBHVzjbC0l2I",
        "colab": {
          "base_uri": "https://localhost:8080/"
        },
        "outputId": "6faa66ab-e532-4cd8-f43c-cd41b4545abc"
      },
      "outputs": [
        {
          "output_type": "execute_result",
          "data": {
            "text/plain": [
              "tensor([[-2.4897,  3.9566, -2.1788],\n",
              "        [-5.8777,  1.8988,  0.3001],\n",
              "        [-8.4185, -8.1053,  3.6866]])"
            ]
          },
          "metadata": {},
          "execution_count": 25
        }
      ],
      "source": [
        "a.grad\n"
      ]
    },
    {
      "cell_type": "code",
      "execution_count": null,
      "metadata": {
        "id": "WgEmyp0jZ76j",
        "colab": {
          "base_uri": "https://localhost:8080/"
        },
        "outputId": "324be40d-f280-4403-af6c-61d4ad6b9ced"
      },
      "outputs": [
        {
          "output_type": "execute_result",
          "data": {
            "text/plain": [
              "tensor([[ 4.4330,  2.1287, 17.8256],\n",
              "        [-1.2526,  0.1830, -2.1129],\n",
              "        [ 1.9226, 11.7718, -0.1798]])"
            ]
          },
          "metadata": {},
          "execution_count": 30
        }
      ],
      "source": [
        "w1 = output[2][\"w1\"]\n",
        "w1.grad\n"
      ]
    },
    {
      "cell_type": "markdown",
      "metadata": {
        "id": "HaEK7H7-uFLC"
      },
      "source": [
        "Understanding how **Autograd** and **computation graphs** works can make your life easier. With our foundations rock-solid, we can proceed and see these components in action. Let's start with the simplest case; _Linear regression_.\n"
      ]
    },
    {
      "cell_type": "markdown",
      "metadata": {
        "id": "PlmjR_TZ2TBr"
      },
      "source": [
        "---\n",
        "\n",
        "# Section 3: Gradients as part of optimization; first order techniques\n"
      ]
    },
    {
      "cell_type": "code",
      "execution_count": null,
      "metadata": {
        "cellView": "form",
        "colab": {
          "base_uri": "https://localhost:8080/",
          "height": 518
        },
        "id": "3_nO54rceiCm",
        "outputId": "4cbd604e-7dfe-46eb-e47b-8cf465a61e1f"
      },
      "outputs": [
        {
          "name": "stdout",
          "output_type": "stream",
          "text": [
            "Video available at https://youtube.com/watch?v=oQcrIgtqlXU\n"
          ]
        },
        {
          "data": {
            "image/jpeg": "[encoded data removed]",
            "text/html": [
              "\n",
              "        <iframe\n",
              "            width=\"854\"\n",
              "            height=\"480\"\n",
              "            src=\"https://www.youtube.com/embed/oQcrIgtqlXU?fs=1\"\n",
              "            frameborder=\"0\"\n",
              "            allowfullscreen\n",
              "        ></iframe>\n",
              "        "
            ],
            "text/plain": [
              "<IPython.lib.display.YouTubeVideo at 0x7fe5a5081510>"
            ]
          },
          "execution_count": 39,
          "metadata": {},
          "output_type": "execute_result"
        }
      ],
      "source": [
        "# @title Video: Linear Regression and Neuroscience\n",
        "\n",
        "try:\n",
        "    t4\n",
        "except NameError:\n",
        "    t4 = time.time()\n",
        "\n",
        "video = YouTubeVideo(id=\"oQcrIgtqlXU\", width=854, height=480, fs=1)\n",
        "print(\"Video available at https://youtube.com/watch?v=\" + video.id)\n",
        "video\n"
      ]
    },
    {
      "cell_type": "markdown",
      "metadata": {
        "id": "cXCPZoaHgnyC"
      },
      "source": [
        "## Section 3.1: Linear Regression\n"
      ]
    },
    {
      "cell_type": "code",
      "execution_count": null,
      "metadata": {
        "cellView": "form",
        "colab": {
          "base_uri": "https://localhost:8080/",
          "height": 518
        },
        "id": "oXuBhXB7goaZ",
        "outputId": "142d8988-4fc9-481e-f931-9a3448a51281"
      },
      "outputs": [
        {
          "name": "stdout",
          "output_type": "stream",
          "text": [
            "Video available at https://youtube.com/watch?v=h5H8A3ZFuI4\n"
          ]
        },
        {
          "data": {
            "image/jpeg": "[encoded data removed]",
            "text/html": [
              "\n",
              "        <iframe\n",
              "            width=\"854\"\n",
              "            height=\"480\"\n",
              "            src=\"https://www.youtube.com/embed/h5H8A3ZFuI4?fs=1\"\n",
              "            frameborder=\"0\"\n",
              "            allowfullscreen\n",
              "        ></iframe>\n",
              "        "
            ],
            "text/plain": [
              "<IPython.lib.display.YouTubeVideo at 0x7fe5a5081690>"
            ]
          },
          "execution_count": 40,
          "metadata": {},
          "output_type": "execute_result"
        }
      ],
      "source": [
        "# @title Video: Linear Regression and Matrix Inversion\n",
        "video = YouTubeVideo(id=\"h5H8A3ZFuI4\", width=854, height=480, fs=1)\n",
        "print(\"Video available at https://youtube.com/watch?v=\" + video.id)\n",
        "\n",
        "video\n"
      ]
    },
    {
      "cell_type": "markdown",
      "metadata": {
        "id": "kStiWOy2_qbA"
      },
      "source": [
        "Generally, _regression_ refers to a set of methods for modeling the relationship between one (or more) independent variable(s) and one (or more) dependent variable(s). Regression is commonly applied when we want to find the relationship between the dependent and the independent variables. For example, if we want to examine the relative impacts of age, gender, and diet (the independent variables) on height (the dependent variable). On the other hand, a regression can be used for predictive analysis. Thus the independent variables are also called predictors. When the model contains more than one predictor, then the method is called _multiple regression_, and if it contains more than one dependent variable called _multivariate regression_.\n",
        "\n",
        "Regression problems pop up whenever we want to predict a numerical (usually continuous) value.\n",
        "\n",
        "The independent variables are collected in a vector $\\mathbf{x} \\in \\mathbb{R}^D$, where $D$ denotes the number of independent variables. Each variable influences differently the dependent variable by a weight factor, $w_{d}$. Thus, $\\mathbf{w} \\in \\mathbb{R}^D$.\n",
        "\n",
        "The multiple regression model can be written as:\n",
        "\n",
        "\\begin{equation}\n",
        "y = w*{1}x*{1} + w*{2}x*{2} + \\dots + w*{D}x*{D} + b = \\sum*{d=1}^D \\left(w*{d}x\\_{d} \\right) + b\n",
        "\\end{equation}\n",
        "\n",
        "Thus, the model can be written in matrix format as:\n",
        "\n",
        "\\begin{equation}\n",
        "y = \\begin{bmatrix} w*{1} & w*{2} & \\dots & w*{D} \\end{bmatrix} \\begin{bmatrix} x*{1} \\\\ x*{2} \\\\ \\vdots \\\\ x*{D} \\\\ \\end{bmatrix} + b\n",
        "\\end{equation}\n",
        "\n",
        "Which can be written in a compact form as:\n",
        "\\begin{equation}\n",
        "y = \\mathbf{w}^{\\text{T}}\\mathbf{x} + b\n",
        "\\end{equation}\n",
        "\n",
        "where $\\text{w}$ is the weight and $b$ is the bias (also known as intercept). Notice that $x$ is a matrix with the independent variables in rows and different examples stack in columns.\n",
        "\n",
        "First, lets plot our synthetic dataset, using $w=2.5$ and $b=1.2$. We will also add gaussian noise with standard deviation $\\sigma$ to make the synthetic data more realistic.\n",
        "\n",
        "\\begin{equation}\n",
        "y = \\mathbf{w}^{\\text{T}}\\mathbf{x} + b + \\epsilon\n",
        "\\end{equation}\n",
        "\n",
        "where\n",
        "\n",
        "\\begin{equation}\n",
        "\\epsilon \\sim \\mathcal{N}(\\mu=0, \\sigma)\n",
        "\\end{equation}\n",
        "\n",
        "### Gaussian distribution\n",
        "\n",
        "To refresh our memory, the probability density of a normal distribution with mean $\\mu$ and standard deviation $\\sigma$ is given by:\n",
        "\n",
        "\\begin{equation}\n",
        "p(x)=\\frac{1}{2\\pi\\sigma^{2}} \\exp \\left(-\\frac{(x-\\mu)^{2}}{2\\sigma^{2}}\\right)\n",
        "\\end{equation}\n",
        "\n",
        "Here, we will start from the simplest case, where we want to perform regression using one predictor (**x**) and one dependent variable (**y**). Thus, the model is given by the formula:\n",
        "\n",
        "\\begin{equation}\n",
        "y = w\\_{1}x + b + \\epsilon\n",
        "\\end{equation}\n"
      ]
    },
    {
      "cell_type": "code",
      "execution_count": 36,
      "metadata": {
        "colab": {
          "base_uri": "https://localhost:8080/",
          "height": 430
        },
        "id": "t9qzri932ivd",
        "outputId": "7480f36b-e684-4aa6-ef81-ba5fb00e72c1"
      },
      "outputs": [
        {
          "output_type": "display_data",
          "data": {
            "text/plain": [
              "<Figure size 576x432 with 1 Axes>"
            ],
            "image/png": "[encoded data removed]"
          },
          "metadata": {
            "image/png": {
              "width": 558,
              "height": 413
            },
            "needs_background": "light"
          }
        }
      ],
      "source": [
        "# This is the code block to generate random data for linear regression\n",
        "\n",
        "original_w = torch.tensor([2.5]).reshape(-1, 1)\n",
        "original_b = 1.2\n",
        "N = 1000  # number of examples\n",
        "X, y = synthetic_dataset(original_w, original_b, num_examples=N, sigma=0.5)\n",
        "\n",
        "plt.figure()\n",
        "plt.scatter(X, y)\n",
        "plt.xlabel(\"x (independent variable)\")\n",
        "plt.ylabel(\"y (dependent variable)\")\n",
        "plt.show()\n"
      ]
    },
    {
      "cell_type": "markdown",
      "metadata": {
        "id": "b0Efb21KcsOo"
      },
      "source": [
        "## Section 3.2: Vectorized regression\n",
        "\n",
        "Now, having a lot of data, we can collect them in a matrix $\\mathbf{X} \\in \\mathbb{R}^{D \\times N}$,. Thus, linear regression takes the following form:\n",
        "\n",
        "\\begin{equation}\n",
        "\\mathbf{Y} = \\mathbf{w}^{\\text{T}}\\mathbf{X} + b\n",
        "\\end{equation}\n",
        "\n",
        "where broadcasting is applied in the summation, i.e., $b$ broadcasts in a $D$-dimensional vector with the values $b$ in every position.\n",
        "\n",
        "Let's write the code for our model.\n"
      ]
    },
    {
      "cell_type": "markdown",
      "metadata": {
        "id": "bcu5SyDujZ7J"
      },
      "source": [
        "### Exercise 3a: Write the linear regression model\n"
      ]
    },
    {
      "cell_type": "code",
      "execution_count": 37,
      "metadata": {
        "id": "X7aaSvTocyQt",
        "outputId": "01b838b3-7342-4338-d4d4-8303d7b55a9a",
        "colab": {
          "base_uri": "https://localhost:8080/"
        }
      },
      "outputs": [
        {
          "output_type": "stream",
          "name": "stdout",
          "text": [
            "tensor([[0.8370]])\n"
          ]
        }
      ],
      "source": [
        "def linear_regression(X, w, b):\n",
        "    \"\"\"\n",
        "    Linear regression model.\n",
        "\n",
        "    Parameters\n",
        "    ----------\n",
        "    X : torch.tensor\n",
        "        design matrix.\n",
        "    w : torch.tensor\n",
        "        weights.\n",
        "    b : torch.tensor\n",
        "        bias.\n",
        "\n",
        "    Returns\n",
        "    -------\n",
        "    torch.tensor\n",
        "      predicted values.\n",
        "\n",
        "    \"\"\"\n",
        "    #####################################################################\n",
        "    # Fill in missing code (...),\n",
        "    # then remove or comment the line below to test your function.\n",
        "    #raise NotImplementedError(\"Complete the linear_regression function\")\n",
        "    #####################################################################\n",
        "    reg = w.T @ X + b\n",
        "    return reg\n",
        "\n",
        "\n",
        "# uncomment the lines below to test your function\n",
        "print(linear_regression(X[:,0].reshape(1,-1), original_w, original_b))\n"
      ]
    },
    {
      "cell_type": "markdown",
      "metadata": {
        "id": "p9SGzlHnLCp4"
      },
      "source": [
        "## Section 3.3: Loss function\n",
        "\n",
        "First, we need to determine a measure of fitness. In simple words, we want to quantify if our model performs good or bad given some parameters $w$ and $b$. The so-called _loss function_ quantifies the distance between the real and predicted values of the target. The loss will usually be a non-negative float number (as you will see later on, some applications can also contain negative losses). Small values are better and perfect predictions incur a loss of 0. The most popular loss function in regression problems is the **squared error**. When our prediction for an example $\\mathbf{x}^{[i]}$ is $\\hat{y}^{[i]}$ and its corresponding true value is $y^{[i]}$ , the squared error is given by:\n",
        "\n",
        "\\begin{equation}\n",
        "l^{[i]}=\\left(\\hat{y}^{[i]} - y^{[i]}\\right)^{2}\n",
        "\\end{equation}\n",
        "\n",
        "Usually, our datset consits of lots of data, thus we sum up all individual squred error. Generally, we take out the average of all these erros, thus, gien that we have $N$ data points the _mean squared error_ (MSE) is given by:\n",
        "\n",
        "\\begin{align}\n",
        "L(\\mathbf{w}, b) &{}= \\frac{1}{N} \\sum*{i=1}^{N} l^{[i]} \\\\\n",
        "&{}= \\frac{1}{N} \\sum*{i=1}^{N} \\left(\\hat{y}^{[i]} - y^{[i]}\\right)^{2} \\\\\n",
        "&{}= \\frac{1}{N} \\sum\\_{i=1}^{N} \\left(\\mathbf{w}^{\\text{T}}\\mathbf{x}^{[i]} + b - y^{[i]}\\right)^{2}\n",
        "\\end{align}\n",
        "\n",
        "Our aim here is to choose the parameters so that the error will be minimized. In mathematical terms, this is translated into a minimization problem with respect to parameters $\\mathbf{w}$ and $b$:\n",
        "\n",
        "\\begin{equation}\n",
        "\\mathbf{w^{_}}, b^{_} = \\underset{\\mathbf{w},b}{\\mathrm{argmin}} \\left( L(\\mathbf{w}, b) \\right)\n",
        "\\end{equation}\n",
        "\n",
        "Let's implement a function that calculates the mean squared error.\n"
      ]
    },
    {
      "cell_type": "markdown",
      "metadata": {
        "id": "XM3gUldHjkZn"
      },
      "source": [
        "### Exercise 3b: Squared Error calculation\n"
      ]
    },
    {
      "cell_type": "code",
      "execution_count": 45,
      "metadata": {
        "id": "_6dabFckS70T",
        "outputId": "aaf3253a-d235-4263-aedd-63b1dc465342",
        "colab": {
          "base_uri": "https://localhost:8080/"
        }
      },
      "outputs": [
        {
          "output_type": "stream",
          "name": "stdout",
          "text": [
            "tensor([1.0000, 4.0000, 0.2500])\n"
          ]
        }
      ],
      "source": [
        "def squared_error(y_hat, y):\n",
        "    \"\"\"\n",
        "    Squared error loss function.\n",
        "\n",
        "    Parameters\n",
        "    ----------\n",
        "    y_hat : torch.tensor\n",
        "        predicted values.\n",
        "    y : torch.tensor\n",
        "        true values.\n",
        "\n",
        "    Returns\n",
        "    -------\n",
        "    err: FLOAT\n",
        "         the squared error (loss)\n",
        "\n",
        "    \"\"\"\n",
        "    #####################################################################\n",
        "    # Fill in missing code (...),\n",
        "    # then remove or comment the line below to test your function.\n",
        "    # raise NotImplementedError(\"Complete the squared_error function\")\n",
        "    #####################################################################\n",
        "    err = ((y - y_hat) ** 2)\n",
        "    return err\n",
        "\n",
        "\n",
        "# uncomment the lines below to test your function\n",
        "print(squared_error(torch.tensor([2, 1, 7]), torch.tensor([1,-1, 7.5])))\n"
      ]
    },
    {
      "cell_type": "markdown",
      "metadata": {
        "id": "gqjY2LJOgkia"
      },
      "source": [
        "## Section 3.3.1 Analytic Solution by Matrix Inversion\n",
        "\n",
        "As you can see from the equation above, linear regression is a relatively simple optimization problem. Unlike most other models that we will see in this course, linear regression can be solved analytically by applying a simple formula.\n",
        "\n",
        "To further simplify things, we can subsume the bias $b$ into the parameter $\\textbf{w}$ by appending an extra fake dimension equal to one to our data points $\\textbf{x}$. Thus, the vectors $\\textbf{x} \\in \\mathbb{R}^{D+1}$.\n",
        "\n",
        "So, using matrix notation, the optimization problem is given by:\n",
        "\n",
        "\\begin{align}\n",
        "\\mathbf{w^{\\*}} &{}= \\underset{\\mathbf{w}}{\\mathrm{argmin}} \\left( ||\\textbf{Y} - \\textbf{X}\\textbf{w}||^2 \\right) \\\\\n",
        "&{}= \\underset{\\mathbf{w}}{\\mathrm{argmin}} \\left( \\left( \\textbf{Y} - \\textbf{X}\\textbf{w}\\right)^{\\text{T}} \\left( \\textbf{Y} - \\textbf{X}\\textbf{w}\\right) \\right)\n",
        "\\end{align}\n",
        "\n",
        "where $\\textbf{X} \\in \\mathbb{R}^{N \\times D}$, the so-called design matrix.\n",
        "\n",
        "Thus, the minimization problem is to set the derivative of the loss with respect to $\\textbf{w}$ to zero.\n",
        "\n",
        "\\begin{equation}\n",
        "\\frac{\\partial L(\\textbf{w})}{\\partial \\textbf{w}} = 0\n",
        "\\end{equation}\n",
        "\n",
        "Assuming that $\\textbf{X}^{\\text{T}}\\textbf{X}$ is full-rank and thus its inverse exists (implying that $N>D$ and the rows are not all linearly dependent:\n",
        "\n",
        "\\begin{equation}\n",
        "\\textbf{w}^{\\textbf{\\*}} = \\left( \\textbf{X}^{\\text{T}}\\textbf{X} \\right)^{-1}\\textbf{X}^{\\text{T}}\\textbf{Y}\n",
        "\\end{equation}\n",
        "\n",
        "**Note**: for the analytic proof, see the [Appendix](#proof).\n"
      ]
    },
    {
      "cell_type": "markdown",
      "metadata": {
        "id": "oaFWgefwrOu7"
      },
      "source": [
        "### Exercise 3c: Write the analytical solution of the linear regression\n",
        "\n",
        "So, let's write a function that calculates the analytic solution of the linear regression problem given that we have a dataset $X$ and the target variables $y$.\n",
        "\n",
        "_Hint_: What is the determinant (`np.linalg.det`) of a non-invertible matrix?\n"
      ]
    },
    {
      "cell_type": "code",
      "execution_count": 46,
      "metadata": {
        "id": "oXCHHxhhf9uQ",
        "outputId": "f4a8bc66-c206-4eee-c165-312f417c522d",
        "colab": {
          "base_uri": "https://localhost:8080/"
        }
      },
      "outputs": [
        {
          "output_type": "stream",
          "name": "stdout",
          "text": [
            "Original: alpha=-2.0 and beta=1.4\n",
            "Estimated: alpha=-1.9999999999999998 and beta=1.4000000000000001\n"
          ]
        }
      ],
      "source": [
        "def analytical_sol(X, y):\n",
        "    \"\"\"\n",
        "    Squared error loss function.\n",
        "\n",
        "    Parameters\n",
        "    ----------\n",
        "    X : numpy.ndarray (float)\n",
        "        design matrix with dimensions NxD, D: features, N: examples.\n",
        "    y : numpy.ndarray (float)\n",
        "        target values.\n",
        "\n",
        "    Returns\n",
        "    -------\n",
        "    params: numpy.ndarray\n",
        "            the parameters w, and bias (last element)\n",
        "\n",
        "            if `X.T @ X` is singular, returns nothing.\n",
        "    \"\"\"\n",
        "\n",
        "    # Check if the inverse exists, unless print error.\n",
        "\n",
        "    params = []\n",
        "    #####################################################################\n",
        "    # Fill in missing code (...),\n",
        "    # then remove or comment the line below to test your function.\n",
        "    # IMPORTANT: Write the condition to check if the matrix is invertible.\n",
        "    #raise NotImplementedError(\"Write the condition and the formula\")\n",
        "    #####################################################################\n",
        "    # X = np.c_[1, X]\n",
        "    Xt_X = X.T @ X\n",
        "\n",
        "    if np.linalg.det(Xt_X) != 0:\n",
        "        params = np.linalg.pinv(Xt_X) @ X.T @ y\n",
        "    else:\n",
        "        print(\"LinAlgError. Matrix is Singular. No analytical solution.\")\n",
        "\n",
        "    return params\n",
        "\n",
        "\n",
        "# tiny dataset\n",
        "alpha, beta = -2.0, 1.4\n",
        "xsynth = np.linspace(-1, 1, 10).reshape(-1, 1)  # 100 examples, in 10D space\n",
        "ysynth = alpha * xsynth + beta  # target values\n",
        "xsynth_append = np.hstack((xsynth, np.ones((10, 1))))  # Append a column with `1`\n",
        "\n",
        "# uncomment the lines below to test the analytical solution\n",
        "params = analytical_sol(xsynth_append, ysynth)\n",
        "print(f'Original: alpha={alpha} and beta={beta}')\n",
        "print(f'Estimated: alpha={params[0].item()} and beta={params[1].item()}')\n"
      ]
    },
    {
      "cell_type": "markdown",
      "metadata": {
        "id": "7WLh46IQXwFf"
      },
      "source": [
        "## Section 3.4: Gradient descent\n",
        "\n",
        "Linear regression has a closed-form solution; however, this is not the case in most machine learning applications. When we cannot solve the models analytically, it turns out that we can still train models effectively in practice.\n",
        "\n",
        "The key technique for optimizing nearly any deep learning model consists of iteratively reducing the error by updating the direction's parameters that incrementally lowers the loss function. This algorithm is called _gradient descent_.\n",
        "\n",
        "The most naive application of gradient descent consists of taking the derivative of the loss function, an average of the losses computed on every single example in the dataset.\n",
        "\n",
        "We define the gradient of a multi-variable function $f(\\theta)$ as $$\\nabla f(\\theta) = \\begin{bmatrix} \\dfrac{\\partial f(\\theta)}{\\partial \\theta_0} \\\\ \\dfrac{\\partial f(\\theta)}{\\partial \\theta_1} \\\\ \\vdots \\\\ \\dfrac{\\partial f(\\theta)}{\\partial \\theta_D} \\\\ \\end{bmatrix}$$\n",
        "\n",
        "Gradient Descent attempts to find the minima of a given function $f(\\theta)$ by descending to the gradient's opposite direction.\n",
        "\n",
        "It updates the parameters in an iterative fashion in the opposite direction of the gradient. First, we need an initial guess $x_0$ of the solution (often this is randomly initialized). Then, we calculate the gradient with the function evaluated at $x_0$. The update rule is as follows:\n",
        "\\begin{equation}\n",
        "\\theta^{\\text{new}} = \\theta^{\\text{old}} - \\eta \\nabla f(\\theta^{\\text{old}})\n",
        "\\end{equation}\n",
        "where $\\eta$ is the learning rate, how fast or slow the model learns.\n",
        "\n",
        "In our simple example, our model consists of two parameters, $w$ and $b$, thus, the gradient descent can be written:\n",
        "\n",
        "\\begin{equation}\n",
        "w \\leftarrow w - \\eta \\frac{\\partial }{\\partial w} L(w,b) \\\\\n",
        "b \\leftarrow b - \\eta \\frac{\\partial }{\\partial b} L(w,b)\n",
        "\\end{equation}\n",
        "\n",
        "We start with $w=0$ and $b=0$.\n"
      ]
    },
    {
      "cell_type": "code",
      "execution_count": 47,
      "metadata": {
        "id": "CXMMjzZjrnnB"
      },
      "outputs": [],
      "source": [
        "def gradient_descent(w, b, lr):\n",
        "    \"\"\"\n",
        "    gradient_descent algorithm.\n",
        "\n",
        "    Parameters\n",
        "    ----------\n",
        "    w : torch.tensor\n",
        "        weights.\n",
        "    b : torch.tensor\n",
        "        bias.\n",
        "    lr : FLOAT\n",
        "        learning rate.\n",
        "\n",
        "    Returns\n",
        "    -------\n",
        "    w, b.\n",
        "\n",
        "    \"\"\"\n",
        "    with torch.no_grad():\n",
        "        w -= w.grad * lr\n",
        "        b -= b.grad * lr\n",
        "        # Set gradient to zero to flush the cache\n",
        "        w.grad.zero_()\n",
        "        b.grad.zero_()\n",
        "\n",
        "    return (w, b)\n"
      ]
    },
    {
      "cell_type": "markdown",
      "metadata": {
        "id": "f99szh_7K8ST"
      },
      "source": [
        "## Section 3.5: Training\n",
        "\n",
        "Here, we will write from scratch the training loop. First, we choose the learning rate and the number of epochs, and we define the loss function. Then, we initialize the parameters. We use a list `losses` to record the mean-squared error after each **epoch** (with **epoch**, we denote a full pass of the data set through the network).\n"
      ]
    },
    {
      "cell_type": "code",
      "execution_count": 49,
      "metadata": {
        "colab": {
          "base_uri": "https://localhost:8080/",
          "height": 390,
          "referenced_widgets": [
            "543371eba0f443c0a23bbd3ab62b8d89",
            "8d1b5f1a939b46ffb493f1b3774d6a83",
            "3d75f623367b441d9e907429d3cba693",
            "b7a1fa0040dd4efd93d5df1c5be057d0",
            "225eb875b24d4afd9c2350eed12bb58c",
            "ed706057850146a9ad23068a59317823",
            "537db87002954f3aaab144592720a2f9",
            "f72771cc6d9841eda399c93cb8fe48f1",
            "d6fa6275f3394da495c27e7e1af4731c",
            "01d724f86c034803bb2035e62ff4acef",
            "d1beaf21401c41d1bd4157efbc24fb50"
          ]
        },
        "id": "Bg4woKDGVFlg",
        "outputId": "7db0d40f-2c2c-4a1b-a239-300dfe9ee159"
      },
      "outputs": [
        {
          "output_type": "display_data",
          "data": {
            "text/plain": [
              "loss:   0%|          | 0/1000 [00:00<?, ?it/s]"
            ],
            "application/vnd.jupyter.widget-view+json": {
              "version_major": 2,
              "version_minor": 0,
              "model_id": "543371eba0f443c0a23bbd3ab62b8d89"
            }
          },
          "metadata": {}
        },
        {
          "output_type": "display_data",
          "data": {
            "text/plain": [
              "<Figure size 1008x360 with 2 Axes>"
            ],
            "image/png": "[encoded data removed]"
          },
          "metadata": {
            "image/png": {
              "width": 989,
              "height": 341
            },
            "needs_background": "light"
          }
        }
      ],
      "source": [
        "lr = 1e-2  # learning rate\n",
        "num_epochs = 1000  # number of epochs (updates)\n",
        "net = linear_regression\n",
        "loss = squared_error\n",
        "\n",
        "y_train = y.squeeze()  # to avoid wrong broadcasting\n",
        "\n",
        "w = torch.zeros(1, requires_grad=True)\n",
        "b = torch.zeros(1, requires_grad=True)\n",
        "\n",
        "losses = []\n",
        "\n",
        "epoch_range = trange(num_epochs, desc=\"loss: \", leave=True)\n",
        "\n",
        "for epoch in epoch_range:\n",
        "    if losses:\n",
        "        epoch_range.set_description(\"loss: {:.6f}\".format(losses[-1]))\n",
        "        epoch_range.refresh()  # to show immediately the update\n",
        "\n",
        "    y_hat = net(X, w, b)\n",
        "    l = loss(y_hat, y_train).mean()  # Loss in `X` and `y`\n",
        "\n",
        "    # Compute gradient on `l` with respect to `w`, `b`\n",
        "    l.backward()\n",
        "    w, b = gradient_descent(w, b, lr)  # Update parameters using their gradient\n",
        "\n",
        "    losses.append(l.detach())\n",
        "\n",
        "    time.sleep(0.01)\n",
        "\n",
        "w_train = w\n",
        "b_train = b\n",
        "y_hat = net(X, w_train, b_train).reshape(-1, 1)\n",
        "\n",
        "plt.figure(figsize=(14, 5))\n",
        "plt.subplot(1, 2, 1)\n",
        "plt.plot(range(num_epochs), losses)\n",
        "plt.xlabel(\"epoch\")\n",
        "plt.ylabel(\"loss (a.u.)\")\n",
        "\n",
        "plt.subplot(1, 2, 2)\n",
        "plt.scatter(X, y_train, label=\"original data\")\n",
        "plt.plot(\n",
        "    X.reshape(-1, 1), y_hat.detach(), label=\"regression\", color=\"red\", linewidth=3.0\n",
        ")\n",
        "plt.xlabel(\"independent variable\")\n",
        "plt.ylabel(\"dependent variable\")\n",
        "plt.title(f\"Toy dataset with {N} samples\")\n",
        "plt.legend()\n",
        "plt.show()\n"
      ]
    },
    {
      "cell_type": "markdown",
      "metadata": {
        "id": "0Nbur9W70IY1"
      },
      "source": [
        "Let's go back to our initial question: Does it matter whether you use matrix inversion or gradient descent?\n"
      ]
    },
    {
      "cell_type": "markdown",
      "metadata": {
        "id": "ZIyDpsdHfLNz"
      },
      "source": [
        "---\n",
        "\n",
        "# Section 4: Linear regression using Pytorch's Sequential class\n"
      ]
    },
    {
      "cell_type": "markdown",
      "metadata": {
        "id": "dIdB6yaNqiI5"
      },
      "source": [
        "Now, let's implement the same model but here using a PyTorch model. When we implemented linear regression from scratch, we defined our model parameters explicitly and coded the calculations to produce output using basic linear algebra operations. You should know how to do this.\n",
        "\n",
        "But once your models get more complex, and once you have to do this nearly every day, you will be glad for the assistance. The situation is similar to coding up your own blog from scratch. Doing it once or twice is rewarding and instructive, but you would be a lousy web developer if every time you need a blog, you spent a month reinventing the wheel.\n",
        "\n",
        "We can use a framework’s predefined layers for standard operations, which allow us to focus especially on the layers used to construct the model rather than focusing on the implementation. We will first define a model variable net, which will refer to the Sequential class instance. The Sequential class defines a container for several layers that will be chained together. Given input data, a Sequential instance passes it through the first layer, passing the output as the second layer’s input and so forth. Our model consists of only one layer in the following example, so we do not really need Sequential. But since nearly all of our future models will involve multiple layers, we will use it anyway to familiarize you with the most standard workflow.\n",
        "\n",
        "Recall the architecture of a single-layer network. The layer is said to be fully-connected because each of its inputs is connected to each of its outputs through matrix-vector multiplication.\n",
        "\n",
        "The only difference is that here we use the design matrix in a transposed form; $ \\mathbf{X} \\in \\mathbb{R}^{N \\times D} $, thus the model is defined as:\n",
        "\n",
        "\\begin{equation}\n",
        "\\mathbf{Y} = \\mathbf{X} \\mathbf{w} + b\n",
        "\\end{equation}\n"
      ]
    },
    {
      "cell_type": "code",
      "execution_count": null,
      "metadata": {
        "id": "r5f4JH9gqgxf"
      },
      "outputs": [],
      "source": [
        "net = nn.Sequential(nn.Linear(1, 1))\n",
        "\n",
        "net[0].weight.data.fill_(0)\n",
        "net[0].bias.data.fill_(0)\n",
        "\n",
        "loss = nn.MSELoss()\n",
        "\n",
        "optimizer = torch.optim.SGD(net.parameters(), lr=1e-2)\n",
        "\n",
        "losses = []\n",
        "\n",
        "epoch_range = trange(num_epochs, desc=\"loss: \", leave=True)\n",
        "\n",
        "for epoch in epoch_range:\n",
        "    if losses:\n",
        "        epoch_range.set_description(\"loss: {:.6f}\".format(losses[-1]))\n",
        "        epoch_range.refresh()  # to show immediately the update\n",
        "\n",
        "    l = loss(net(X.T), y)\n",
        "    l.backward()\n",
        "    optimizer.step()\n",
        "    optimizer.zero_grad()\n",
        "    l = loss(net(X.T), y)\n",
        "    losses.append(l)\n",
        "\n",
        "y_hat = net(X.T).reshape(-1, 1)\n",
        "\n",
        "plt.figure(figsize=(14, 5))\n",
        "plt.subplot(1, 2, 1)\n",
        "plt.plot(range(num_epochs), losses)\n",
        "plt.xlabel(\"epoch\")\n",
        "plt.ylabel(\"loss (a.u.)\")\n",
        "\n",
        "plt.subplot(1, 2, 2)\n",
        "plt.scatter(X, y, label=\"original data\")\n",
        "plt.plot(\n",
        "    X.reshape(-1, 1), y_hat.detach(), label=\"regression\", color=\"red\", linewidth=3.0\n",
        ")\n",
        "plt.xlabel(\"independent variable\")\n",
        "plt.ylabel(\"dependent variable\")\n",
        "plt.title(f\"Toy dataset with {N} samples\")\n",
        "plt.legend()\n",
        "plt.show()\n"
      ]
    },
    {
      "cell_type": "markdown",
      "metadata": {
        "id": "YKVWwe_avAkQ"
      },
      "source": [
        "## Section 4.1: Model evaluation\n",
        "\n",
        "We compare the model parameters learned by training the given data-set and the actual parameters generated by our dataset. To access parameters, we first access the layer that we need from the model (i.e., `net`) and then access that layer’s weights and bias. As in our from-scratch implementation, note that our estimated parameters are close to their ground-truth counterparts.\n"
      ]
    },
    {
      "cell_type": "code",
      "execution_count": null,
      "metadata": {
        "id": "pyYgP2gfvLGX"
      },
      "outputs": [],
      "source": [
        "w_pytorch = net[0].weight.data\n",
        "print(\"error in estimating w:\", original_w - w_pytorch.reshape(original_w.shape))\n",
        "b_pytorch = net[0].bias.data\n",
        "print(\"error in estimating b:\", original_b - b_pytorch)\n",
        "\n",
        "print(\n",
        "    f\"Original w: {original_w}, from-scratch: {w_train.detach()}, pytorch: {w_pytorch}\"\n",
        ")\n",
        "print(\n",
        "    f\"Original b: {original_b}, from-scratch: {b_train.detach()}, pytorch: {b_pytorch}\"\n",
        ")\n",
        "\n",
        "\n",
        "X = X.cpu().detach().numpy()\n",
        "y = y.cpu().detach().numpy()\n",
        "\n",
        "# We append a row with ones\n",
        "X_append = np.vstack((X, np.ones((1, 1000))))\n",
        "\n",
        "# Check if the inverse matrix exists!!\n",
        "params = analytical_sol(X_append.T, y)\n",
        "if len(params) != 0:\n",
        "    print(f\"Original w: {original_w}, analytical: {params[0]}\")\n",
        "    print(f\"Original b: {original_b}, analytical: {params[1]}\")\n"
      ]
    },
    {
      "cell_type": "markdown",
      "metadata": {
        "id": "tPZzpQesh-DS"
      },
      "source": [
        "## Section 4.2: More features than the number of examples\n"
      ]
    },
    {
      "cell_type": "code",
      "execution_count": null,
      "metadata": {
        "cellView": "form",
        "id": "LW8wJnbMh_nf"
      },
      "outputs": [],
      "source": [
        "# @title Video: Linear Regression with More Dimensions than Data\n",
        "\n",
        "video = YouTubeVideo(id=\"_uhMofhfYno\", width=854, height=480, fs=1)\n",
        "print(\"Video available at https://youtube.com/watch?v=\" + video.id)\n",
        "video\n"
      ]
    },
    {
      "cell_type": "markdown",
      "metadata": {
        "id": "8mqQp7GpfUKv"
      },
      "source": [
        "But, what if we do not have enough data? And what about if the dataset is linearly dependent?\n"
      ]
    },
    {
      "cell_type": "code",
      "execution_count": null,
      "metadata": {
        "id": "DzLkVTXmf4jZ"
      },
      "outputs": [],
      "source": [
        "# Generate a second dataset with D>>N\n",
        "\n",
        "original_w = torch.randn(200, 1).reshape(-1, 1)\n",
        "original_b = 1.2\n",
        "N = 10  # number of examples\n",
        "X, y = synthetic_dataset(original_w, original_b, num_examples=N, sigma=0.5)\n",
        "\n",
        "print(f\"The dataset has N={X.shape[1]} examples in the {X.shape[0]}D space!\")\n"
      ]
    },
    {
      "cell_type": "code",
      "execution_count": null,
      "metadata": {
        "id": "YR3XkdH7gQLH"
      },
      "outputs": [],
      "source": [
        "# Model construction\n",
        "net = nn.Sequential(nn.Linear(X.shape[0], 1))\n",
        "\n",
        "# Parameter initialization to zero\n",
        "net[0].weight.data.fill_(0)\n",
        "net[0].bias.data.fill_(0)\n",
        "print(net[0].weight.shape)\n",
        "\n",
        "loss = nn.MSELoss()\n",
        "\n",
        "optimizer = torch.optim.SGD(net.parameters(), lr=1e-2)\n",
        "\n",
        "losses = []\n",
        "\n",
        "epoch_range = trange(num_epochs, desc=\"loss: \", leave=True)\n",
        "\n",
        "for epoch in epoch_range:\n",
        "    if losses:\n",
        "        epoch_range.set_description(\"loss: {:.6f}\".format(losses[-1]))\n",
        "        epoch_range.refresh()  # to show immediately the update\n",
        "\n",
        "    l = loss(net(X.T), y)\n",
        "    l.backward()\n",
        "    optimizer.step()\n",
        "    optimizer.zero_grad()\n",
        "    l = loss(net(X.T), y)\n",
        "    losses.append(l)\n",
        "\n",
        "y_hat = net(X.T).reshape(-1, 1)\n",
        "\n",
        "plt.figure()\n",
        "plt.plot(range(num_epochs), losses)\n",
        "plt.xlabel(\"epoch\")\n",
        "plt.ylabel(\"loss (a.u.)\")\n",
        "plt.show()\n"
      ]
    },
    {
      "cell_type": "markdown",
      "metadata": {
        "id": "I5L1Au2NgTdv"
      },
      "source": [
        "Let's compute the analytic solution.\n"
      ]
    },
    {
      "cell_type": "code",
      "execution_count": null,
      "metadata": {
        "id": "zgfCNBL8gWk0"
      },
      "outputs": [],
      "source": [
        "# Append a row with ones and take the transpose\n",
        "X_append = np.vstack((X.detach(), np.ones((1, X.shape[1])))).T\n",
        "\n",
        "# Analytical solution\n",
        "params = analytical_sol(X_append, y.cpu().detach().numpy())\n",
        "if len(params) != 0:\n",
        "    print(f\"Original w: {original_w}, analytical: {params[0]}\")\n",
        "    print(f\"Original b: {original_b}, analytical: {params[1]}\")\n"
      ]
    },
    {
      "cell_type": "code",
      "execution_count": null,
      "metadata": {
        "cellView": "form",
        "id": "xoMBB0mxi-dF"
      },
      "outputs": [],
      "source": [
        "# @title Video: Condition Numbers\n",
        "\n",
        "video = YouTubeVideo(id=\"FpcSTi9YITc\", width=854, height=480, fs=1)\n",
        "print(\"Video available at https://youtube.com/watch?v=\" + video.id)\n",
        "\n",
        "video\n"
      ]
    },
    {
      "cell_type": "markdown",
      "metadata": {
        "id": "ekITyMqB7NZL"
      },
      "source": [
        "---\n",
        "\n",
        "# Quiz\n"
      ]
    },
    {
      "cell_type": "markdown",
      "metadata": {
        "id": "d0B4PgNP9Kw4"
      },
      "source": [
        "A. Is 1, 2 or 3 the correct partial derivative $\\frac{\\partial f}{\\partial x}$ of\n",
        "\n",
        "$f(x, y)=(2 x-y)^{2}+\\ln (x y)$?\n",
        "\n",
        "1. $-2(2 x-y)+\\frac{1}{y}$\n",
        "2. $4(2 x-y)+\\frac{1}{x}$\n",
        "3. $2(2x-y)+\\frac{1}{y}$\n"
      ]
    },
    {
      "cell_type": "code",
      "execution_count": null,
      "metadata": {
        "cellView": "form",
        "id": "I7Sbkpc59FCG"
      },
      "outputs": [],
      "source": [
        "partial_derivative_1 = \"\"  # @param {type:\"string\"}\n"
      ]
    },
    {
      "cell_type": "markdown",
      "metadata": {
        "id": "oMmO5yvm9x3S"
      },
      "source": [
        "B. Is 1, 2 or 3 the correct partial derivative $\\frac{\\partial f}{\\partial y}$ of\n",
        "\n",
        "$f(x, y)=4 \\frac{x}{y^{5}}$?\n",
        "\n",
        "1. $\\frac{4}{y^{5}}$\n",
        "2. $-20 \\frac{x}{y^{6}}$\n",
        "3. $4 \\frac{x}{y^4}$\n"
      ]
    },
    {
      "cell_type": "code",
      "execution_count": null,
      "metadata": {
        "cellView": "form",
        "id": "tF2UhfSE95YZ"
      },
      "outputs": [],
      "source": [
        "partial_derivative_2 = \"\"  # @param {type:\"string\"}\n"
      ]
    },
    {
      "cell_type": "markdown",
      "metadata": {
        "id": "dnmRSYP_9p2E"
      },
      "source": [
        "C. Please write down three specific problems/scenarios for which you find autograd is useful.\n"
      ]
    },
    {
      "cell_type": "code",
      "execution_count": null,
      "metadata": {
        "cellView": "form",
        "id": "fTrSicHRr07P"
      },
      "outputs": [],
      "source": [
        "autograd_uses = \"\"  # @param {type:\"string\"}\n"
      ]
    },
    {
      "cell_type": "markdown",
      "metadata": {
        "id": "caSUSM1H98qZ"
      },
      "source": [
        "D. Now, go back to Section 3 and change the learning rate to a bigger number and see what happens. Change the learning rate to a smaller number and see what happens. What happens if you change the number of epochs to a higher or lower value? Why do you think this is happening?\n"
      ]
    },
    {
      "cell_type": "code",
      "execution_count": null,
      "metadata": {
        "cellView": "form",
        "id": "Vhl4i-ew-SIE"
      },
      "outputs": [],
      "source": [
        "lr_epochs_vs_convergence = \"\"  # @param {type:\"string\"}\n"
      ]
    },
    {
      "cell_type": "markdown",
      "metadata": {
        "id": "i__qwUVO-Uu-"
      },
      "source": [
        "E. In Section 3, did it matter whether you use matrix inversion or gradient descent?\n"
      ]
    },
    {
      "cell_type": "code",
      "execution_count": null,
      "metadata": {
        "cellView": "form",
        "id": "AprVXX3V-eTd"
      },
      "outputs": [],
      "source": [
        "matrix_gradient_same = \"\"  # @param {type:\"string\"}\n"
      ]
    },
    {
      "cell_type": "markdown",
      "metadata": {
        "id": "0Dh8hmpOKHrW"
      },
      "source": [
        "F. Which of the following statements about Gradient Descent is NOT true:\n",
        "\n",
        "1. It is an iterative method\n",
        "2. Follows negative gradients to minimize a continuous function\n",
        "3. Makes small steps at each point towards a minimum\n",
        "4. Does NOT perform well for large scale models (many variables)\n"
      ]
    },
    {
      "cell_type": "code",
      "execution_count": null,
      "metadata": {
        "cellView": "form",
        "id": "fzfEXajbKPZo"
      },
      "outputs": [],
      "source": [
        "gd_false_statement = \"\"  # @param {type:\"string\"}\n"
      ]
    },
    {
      "cell_type": "markdown",
      "metadata": {
        "id": "oAHKYamaKQFE"
      },
      "source": [
        "G. Which of the following is the correct order for the Gradient Descent training loop in PyTorch, 1, 2, 3, or 4?\n",
        "\n",
        "> π: optimizer.zero_grad()\n",
        "\n",
        "> ø: loss.backward()\n",
        "\n",
        "> ß: loss = loss_fun(predictions, targets)\n",
        "\n",
        "> Ω: predictions = model(features)\n",
        "\n",
        "> ∆: optimizer.step()\n",
        "\n",
        "1. π, ø, ß, Ω, ∆\n",
        "2. Ω, ß, ø, π, ∆\n",
        "3. π, Ω, ß, ∆, ø\n",
        "4. π, Ω, ß, ø, ∆\n"
      ]
    },
    {
      "cell_type": "code",
      "execution_count": null,
      "metadata": {
        "cellView": "form",
        "id": "STh85zY3KzlE"
      },
      "outputs": [],
      "source": [
        "gd_training_loop = \"\"  # @param {type:\"string\"}\n"
      ]
    },
    {
      "cell_type": "markdown",
      "metadata": {
        "id": "JgeiVxnAK8kd"
      },
      "source": [
        "H. Imagine we are training a deep neural net. Should we try 1, 2, 3 or 4 if\n",
        "\n",
        "> Ω: training loss is not improving\n",
        "\n",
        "> ∆: training loss is not converging and is showing strange chaotic behaviour\n",
        "\n",
        "1. Ω: smaller learning rate, ∆: smaller learning rate\n",
        "2. Ω: larger learning rate, ∆: larger learning rate\n",
        "3. Ω: smaller learning rate, ∆: larger learning rate\n",
        "4. Ω: larger learning rate, ∆: smaller learning rate\n"
      ]
    },
    {
      "cell_type": "code",
      "execution_count": null,
      "metadata": {
        "cellView": "form",
        "id": "QT6Bqvg3LRN6"
      },
      "outputs": [],
      "source": [
        "nn_improvement = \"\"  # @param {type:\"string\"}\n"
      ]
    },
    {
      "cell_type": "markdown",
      "metadata": {
        "id": "VtRxB698CTfG"
      },
      "source": [
        "---\n",
        "\n",
        "# Wrap up\n"
      ]
    },
    {
      "cell_type": "markdown",
      "metadata": {
        "id": "P5-HZSWcCbr3"
      },
      "source": [
        "## Submit responses\n"
      ]
    },
    {
      "cell_type": "code",
      "execution_count": null,
      "metadata": {
        "cellView": "form",
        "id": "FCJJf7OFk8SU"
      },
      "outputs": [],
      "source": [
        "# @markdown #Run Cell to Show Airtable Form\n",
        "# @markdown ##**Confirm your answers and then click \"Submit\"**\n",
        "\n",
        "import time\n",
        "import numpy as np\n",
        "from IPython.display import IFrame\n",
        "\n",
        "\n",
        "def prefill_form(src, fields: dict):\n",
        "    \"\"\"\n",
        "    src: the original src url to embed the form\n",
        "    fields: a dictionary of field:value pairs,\n",
        "    e.g. {\"pennkey\": my_pennkey, \"location\": my_location}\n",
        "    \"\"\"\n",
        "    prefills = \"&\".join([\"prefill_%s=%s\" % (key, fields[key]) for key in fields])\n",
        "    src = src + prefills\n",
        "    src = \"+\".join(src.split(\" \"))\n",
        "    return src\n",
        "\n",
        "\n",
        "# autofill time if it is not present\n",
        "try:\n",
        "    t0\n",
        "except NameError:\n",
        "    t0 = time.time()\n",
        "try:\n",
        "    t1\n",
        "except NameError:\n",
        "    t1 = time.time()\n",
        "\n",
        "# autofill fields if they are not present\n",
        "# a missing pennkey and pod will result in an Airtable warning\n",
        "# which is easily fixed user-side.\n",
        "try:\n",
        "    my_pennkey\n",
        "except NameError:\n",
        "    my_pennkey = \"\"\n",
        "try:\n",
        "    my_pod\n",
        "except NameError:\n",
        "    my_pod = \"\"\n",
        "try:\n",
        "    my_email\n",
        "except NameError:\n",
        "    my_email = \"\"\n",
        "try:\n",
        "    partial_derivative_1\n",
        "except NameError:\n",
        "    partial_derivative_1 = \"Select\"\n",
        "try:\n",
        "    partial_derivative_2\n",
        "except NameError:\n",
        "    partial_derivative_2 = \"Select\"\n",
        "try:\n",
        "    autograd_uses\n",
        "except NameError:\n",
        "    autograd_uses = \"\"\n",
        "try:\n",
        "    lr_epochs_vs_convergence\n",
        "except NameError:\n",
        "    lr_epochs_vs_convergence = \"\"\n",
        "try:\n",
        "    matrix_gradient_same\n",
        "except NameError:\n",
        "    matrix_gradient_same = \"\"\n",
        "\n",
        "times = [(t - t0) for t in [t1]]\n",
        "\n",
        "fields = {\n",
        "    \"pennkey\": my_pennkey,\n",
        "    \"pod\": my_pod,\n",
        "    \"email\": my_email,\n",
        "    \"partial_derivative_1\": partial_derivative_1,\n",
        "    \"partial_derivative_2\": partial_derivative_2,\n",
        "    \"autograd_uses\": autograd_uses,\n",
        "    \"lr_epochs_vs_convergence\": lr_epochs_vs_convergence,\n",
        "    \"matrix_gradient_same\": matrix_gradient_same,\n",
        "    \"gd_false_statement\": gd_false_statement,\n",
        "    \"gd_training_loop\": gd_training_loop,\n",
        "    \"nn_improvement\": nn_improvement,\n",
        "    \"cumulative_times\": times,\n",
        "}\n",
        "\n",
        "src = \"https://airtable.com/embed/shrQOklRg7XufYTGf?\"\n",
        "\n",
        "# now instead of the original source url, we do: src = prefill_form(src, fields)\n",
        "display(IFrame(src=prefill_form(src, fields), width=800, height=400))\n"
      ]
    },
    {
      "cell_type": "markdown",
      "metadata": {
        "id": "HKn5d3CCC05w"
      },
      "source": [
        "## Feedback\n",
        "\n",
        "How could this session have been better? How do you feel right now?\n",
        "\n",
        "Feel free to use the embeded form below:\n"
      ]
    },
    {
      "cell_type": "code",
      "execution_count": null,
      "metadata": {
        "cellView": "form",
        "id": "HIvhG6VZ8zez"
      },
      "outputs": [],
      "source": [
        "# @markdown ##Run cell to show feedback form\n",
        "# @markdown ####Confirm your answers and then click \"Submit\"\n",
        "\n",
        "display(\n",
        "    IFrame(\n",
        "        src=\"https://airtable.com/embed/shr1TzujOOOY21kFQ?backgroundColor=red\",\n",
        "        width=800,\n",
        "        height=400,\n",
        "    )\n",
        ")\n"
      ]
    },
    {
      "cell_type": "markdown",
      "metadata": {
        "id": "IERM800txGdR"
      },
      "source": [
        "---\n",
        "\n",
        "<a name=\"proof\"></a>\n",
        "\n",
        "# Appendix: Linear Regression analytic solution - Proof\n",
        "\n",
        "\\begin{align}\n",
        "\\frac{\\partial L(\\textbf{w})}{\\partial \\textbf{w}} &{}= 0 \\\\\n",
        "\\frac{\\partial }{\\partial \\textbf{w}}\\left( \\left( \\textbf{Y} - \\textbf{X}\\textbf{w}\\right)^{\\text{T}} \\left( \\textbf{Y} - \\textbf{X}\\textbf{w}\\right) \\right) &{} = 0 \\\\\n",
        "\\frac{\\partial }{\\partial \\textbf{w}}\\left( \\left( \\textbf{Y}^{\\text{T}} - \\left( \\textbf{X}\\textbf{w} \\right)^{\\text{T}}\\right) \\left( \\textbf{Y} - \\textbf{X}\\textbf{w}\\right) \\right) &{} = 0 \\\\\n",
        "\\frac{\\partial }{\\partial \\textbf{w}} \\left( \\textbf{Y}^{\\text{T}}\\textbf{Y} -\n",
        "\\left( \\textbf{X}\\textbf{w} \\right)^{\\text{T}}\\textbf{Y} - \\textbf{Y}^{\\text{T}}\\left( \\textbf{X}\\textbf{w}\\right)+ \\textbf{w}\\textbf{X}^{\\text{T}}\\textbf{X}\\textbf{w} \\right)&{}= 0\n",
        "\\end{align}\n",
        "\n",
        "Here, we need to make some simplifications on the second term in the left-hand side. We know that $\\textbf{X} \\in \\mathbb{R}^{N \\times D+1}, \\textbf{w} \\in \\mathbb{R}^{D+1 \\times 1}$, therefore their product $\\in \\mathbb{R}^{N \\times 1}$. Thus, the dimensions of the second order is $1$, i.e., $ \\left( \\textbf{X}\\textbf{w} \\right)^{\\text{T}} \\in \\mathbb{R}$. This means that the second order is a scalar.\n",
        "\n",
        "Thus, we can substitute with its transpose, i.e., $\\left( \\left( \\textbf{X}\\textbf{w} \\right)^{\\text{T}} \\textbf{Y} \\right)^{\\text{T}} = \\textbf{Y}^{\\text{T}} \\left( \\textbf{X}\\textbf{w} \\right)$. So the derivative is simplified in:\n",
        "\n",
        "\\begin{align}\n",
        "\\frac{\\partial }{\\partial \\textbf{w}} \\left( \\textbf{Y}^{\\text{T}}\\textbf{Y} -\\textbf{Y}^{\\text{T}} \\left( \\textbf{X}\\textbf{w} \\right) - \\textbf{Y}^{\\text{T}} \\left( \\textbf{X}\\textbf{w} \\right) + \\textbf{w}^{\\text{T}}\\textbf{X}^{\\text{T}}\\textbf{X}\\textbf{w} \\right)&{}= 0 \\\\\n",
        "\\frac{\\partial }{\\partial \\textbf{w}} \\left( \\textbf{Y}^{\\text{T}}\\textbf{Y} -2\\textbf{Y}^{\\text{T}} \\left( \\textbf{X}\\textbf{w} \\right) + \\textbf{w}^{\\text{T}}\\textbf{X}^{\\text{T}}\\textbf{X}\\textbf{w} \\right)&{}= 0 \\\\\n",
        "\\frac{\\partial }{\\partial \\textbf{w}} \\left( \\textbf{Y}^{\\text{T}}\\textbf{Y} -2\\left( \\textbf{X}^{\\text{T}}\\textbf{Y} \\right)^{\\text{T}} \\textbf{w} + \\textbf{w}^{\\text{T}}\\textbf{X}^{\\text{T}}\\textbf{X}\\textbf{w} \\right)&{}= 0 \\\\\n",
        "-2\\textbf{X}^{\\text{T}}\\textbf{Y} + 2\\textbf{X}^{\\text{T}}\\textbf{X}\\textbf{w} &{}= 0\n",
        "\\end{align}\n",
        "\n",
        "Assuming that $\\textbf{X}^{\\text{T}}\\textbf{X}$ is full-rank and thus its inverse exists (implying that $N>D$ and the rows are not all linearly dependent:\n",
        "\n",
        "\\begin{equation}\n",
        "\\textbf{w}^{\\textbf{\\*}} = \\left( \\textbf{X}^{\\text{T}}\\textbf{X} \\right)^{-1}\\textbf{X}^{\\text{T}}\\textbf{Y}\n",
        "\\end{equation}\n",
        "\n",
        "For the solution, we have used the following identities:\n",
        "\n",
        "_Derivative of a linear function_\n",
        "\n",
        "\\begin{equation}\n",
        "\\frac{\\partial }{\\partial \\vec{x}} \\vec{\\alpha}\\vec{x} = \\frac{\\partial }{\\partial \\vec{x}} \\vec{\\alpha}^{\\text{T}}\\vec{x} = \\frac{\\partial }{\\partial \\vec{x}} \\vec{x}^{\\text{T}} \\vec{\\alpha} = \\vec{\\alpha}\n",
        "\\end{equation}\n",
        "\n",
        "_(Think of calculus: $\\frac{d}{dx}(\\alpha x)=\\alpha$)_\n",
        "\n",
        "_Derivative of a quadratic function_\n",
        "\n",
        "\\begin{equation}\n",
        "\\frac{\\partial }{\\partial \\vec{x}} \\vec{x}^{\\text{T}}A \\vec{x} = (A + A^{\\text{T}}) \\vec{x}\n",
        "\\end{equation}\n",
        "\n",
        "where if $A=A^{\\text{T}}$, i.e., $A$ is symmetric, then\n",
        "\n",
        "\\begin{equation}\n",
        "\\frac{\\partial }{\\partial \\vec{x}} \\vec{x}^{\\text{T}}A \\vec{x} = 2A \\vec{x}\n",
        "\\end{equation}\n",
        "\n",
        "_(Think of calculus: $\\frac{d}{dx}(\\alpha x^2)=2 \\alpha x$)_\n"
      ]
    }
  ],
  "metadata": {
    "accelerator": "GPU",
    "colab": {
      "name": "CIS_522_W2D1_Tutorial_–_Student_Version.ipynb",
      "provenance": [],
      "toc_visible": true,
      "include_colab_link": true
    },
    "kernel": {
      "display_name": "Python 3",
      "language": "python",
      "name": "python3"
    },
    "kernelspec": {
      "display_name": "Python 3.10.0 64-bit ('3.10.0')",
      "language": "python",
      "name": "python3"
    },
    "language_info": {
      "codemirror_mode": {
        "name": "ipython",
        "version": 3
      },
      "file_extension": ".py",
      "mimetype": "text/x-python",
      "name": "python",
      "nbconvert_exporter": "python",
      "pygments_lexer": "ipython3",
      "version": "3.10.0"
    },
    "vscode": {
      "interpreter": {
        "hash": "c87ee834c2458a7cf5e34743e4a2d302f1d67af2ede21ef77017c6c0552f8c80"
      }
    },
    "widgets": {
      "application/vnd.jupyter.widget-state+json": {
        "543371eba0f443c0a23bbd3ab62b8d89": {
          "model_module": "@jupyter-widgets/controls",
          "model_name": "HBoxModel",
          "model_module_version": "1.5.0",
          "state": {
            "_dom_classes": [],
            "_model_module": "@jupyter-widgets/controls",
            "_model_module_version": "1.5.0",
            "_model_name": "HBoxModel",
            "_view_count": null,
            "_view_module": "@jupyter-widgets/controls",
            "_view_module_version": "1.5.0",
            "_view_name": "HBoxView",
            "box_style": "",
            "children": [
              "IPY_MODEL_8d1b5f1a939b46ffb493f1b3774d6a83",
              "IPY_MODEL_3d75f623367b441d9e907429d3cba693",
              "IPY_MODEL_b7a1fa0040dd4efd93d5df1c5be057d0"
            ],
            "layout": "IPY_MODEL_225eb875b24d4afd9c2350eed12bb58c"
          }
        },
        "8d1b5f1a939b46ffb493f1b3774d6a83": {
          "model_module": "@jupyter-widgets/controls",
          "model_name": "HTMLModel",
          "model_module_version": "1.5.0",
          "state": {
            "_dom_classes": [],
            "_model_module": "@jupyter-widgets/controls",
            "_model_module_version": "1.5.0",
            "_model_name": "HTMLModel",
            "_view_count": null,
            "_view_module": "@jupyter-widgets/controls",
            "_view_module_version": "1.5.0",
            "_view_name": "HTMLView",
            "description": "",
            "description_tooltip": null,
            "layout": "IPY_MODEL_ed706057850146a9ad23068a59317823",
            "placeholder": "​",
            "style": "IPY_MODEL_537db87002954f3aaab144592720a2f9",
            "value": "loss: 0.243471: 100%"
          }
        },
        "3d75f623367b441d9e907429d3cba693": {
          "model_module": "@jupyter-widgets/controls",
          "model_name": "FloatProgressModel",
          "model_module_version": "1.5.0",
          "state": {
            "_dom_classes": [],
            "_model_module": "@jupyter-widgets/controls",
            "_model_module_version": "1.5.0",
            "_model_name": "FloatProgressModel",
            "_view_count": null,
            "_view_module": "@jupyter-widgets/controls",
            "_view_module_version": "1.5.0",
            "_view_name": "ProgressView",
            "bar_style": "success",
            "description": "",
            "description_tooltip": null,
            "layout": "IPY_MODEL_f72771cc6d9841eda399c93cb8fe48f1",
            "max": 1000,
            "min": 0,
            "orientation": "horizontal",
            "style": "IPY_MODEL_d6fa6275f3394da495c27e7e1af4731c",
            "value": 1000
          }
        },
        "b7a1fa0040dd4efd93d5df1c5be057d0": {
          "model_module": "@jupyter-widgets/controls",
          "model_name": "HTMLModel",
          "model_module_version": "1.5.0",
          "state": {
            "_dom_classes": [],
            "_model_module": "@jupyter-widgets/controls",
            "_model_module_version": "1.5.0",
            "_model_name": "HTMLModel",
            "_view_count": null,
            "_view_module": "@jupyter-widgets/controls",
            "_view_module_version": "1.5.0",
            "_view_name": "HTMLView",
            "description": "",
            "description_tooltip": null,
            "layout": "IPY_MODEL_01d724f86c034803bb2035e62ff4acef",
            "placeholder": "​",
            "style": "IPY_MODEL_d1beaf21401c41d1bd4157efbc24fb50",
            "value": " 1000/1000 [00:11&lt;00:00, 91.58it/s]"
          }
        },
        "225eb875b24d4afd9c2350eed12bb58c": {
          "model_module": "@jupyter-widgets/base",
          "model_name": "LayoutModel",
          "model_module_version": "1.2.0",
          "state": {
            "_model_module": "@jupyter-widgets/base",
            "_model_module_version": "1.2.0",
            "_model_name": "LayoutModel",
            "_view_count": null,
            "_view_module": "@jupyter-widgets/base",
            "_view_module_version": "1.2.0",
            "_view_name": "LayoutView",
            "align_content": null,
            "align_items": null,
            "align_self": null,
            "border": null,
            "bottom": null,
            "display": null,
            "flex": null,
            "flex_flow": null,
            "grid_area": null,
            "grid_auto_columns": null,
            "grid_auto_flow": null,
            "grid_auto_rows": null,
            "grid_column": null,
            "grid_gap": null,
            "grid_row": null,
            "grid_template_areas": null,
            "grid_template_columns": null,
            "grid_template_rows": null,
            "height": null,
            "justify_content": null,
            "justify_items": null,
            "left": null,
            "margin": null,
            "max_height": null,
            "max_width": null,
            "min_height": null,
            "min_width": null,
            "object_fit": null,
            "object_position": null,
            "order": null,
            "overflow": null,
            "overflow_x": null,
            "overflow_y": null,
            "padding": null,
            "right": null,
            "top": null,
            "visibility": null,
            "width": null
          }
        },
        "ed706057850146a9ad23068a59317823": {
          "model_module": "@jupyter-widgets/base",
          "model_name": "LayoutModel",
          "model_module_version": "1.2.0",
          "state": {
            "_model_module": "@jupyter-widgets/base",
            "_model_module_version": "1.2.0",
            "_model_name": "LayoutModel",
            "_view_count": null,
            "_view_module": "@jupyter-widgets/base",
            "_view_module_version": "1.2.0",
            "_view_name": "LayoutView",
            "align_content": null,
            "align_items": null,
            "align_self": null,
            "border": null,
            "bottom": null,
            "display": null,
            "flex": null,
            "flex_flow": null,
            "grid_area": null,
            "grid_auto_columns": null,
            "grid_auto_flow": null,
            "grid_auto_rows": null,
            "grid_column": null,
            "grid_gap": null,
            "grid_row": null,
            "grid_template_areas": null,
            "grid_template_columns": null,
            "grid_template_rows": null,
            "height": null,
            "justify_content": null,
            "justify_items": null,
            "left": null,
            "margin": null,
            "max_height": null,
            "max_width": null,
            "min_height": null,
            "min_width": null,
            "object_fit": null,
            "object_position": null,
            "order": null,
            "overflow": null,
            "overflow_x": null,
            "overflow_y": null,
            "padding": null,
            "right": null,
            "top": null,
            "visibility": null,
            "width": null
          }
        },
        "537db87002954f3aaab144592720a2f9": {
          "model_module": "@jupyter-widgets/controls",
          "model_name": "DescriptionStyleModel",
          "model_module_version": "1.5.0",
          "state": {
            "_model_module": "@jupyter-widgets/controls",
            "_model_module_version": "1.5.0",
            "_model_name": "DescriptionStyleModel",
            "_view_count": null,
            "_view_module": "@jupyter-widgets/base",
            "_view_module_version": "1.2.0",
            "_view_name": "StyleView",
            "description_width": ""
          }
        },
        "f72771cc6d9841eda399c93cb8fe48f1": {
          "model_module": "@jupyter-widgets/base",
          "model_name": "LayoutModel",
          "model_module_version": "1.2.0",
          "state": {
            "_model_module": "@jupyter-widgets/base",
            "_model_module_version": "1.2.0",
            "_model_name": "LayoutModel",
            "_view_count": null,
            "_view_module": "@jupyter-widgets/base",
            "_view_module_version": "1.2.0",
            "_view_name": "LayoutView",
            "align_content": null,
            "align_items": null,
            "align_self": null,
            "border": null,
            "bottom": null,
            "display": null,
            "flex": null,
            "flex_flow": null,
            "grid_area": null,
            "grid_auto_columns": null,
            "grid_auto_flow": null,
            "grid_auto_rows": null,
            "grid_column": null,
            "grid_gap": null,
            "grid_row": null,
            "grid_template_areas": null,
            "grid_template_columns": null,
            "grid_template_rows": null,
            "height": null,
            "justify_content": null,
            "justify_items": null,
            "left": null,
            "margin": null,
            "max_height": null,
            "max_width": null,
            "min_height": null,
            "min_width": null,
            "object_fit": null,
            "object_position": null,
            "order": null,
            "overflow": null,
            "overflow_x": null,
            "overflow_y": null,
            "padding": null,
            "right": null,
            "top": null,
            "visibility": null,
            "width": null
          }
        },
        "d6fa6275f3394da495c27e7e1af4731c": {
          "model_module": "@jupyter-widgets/controls",
          "model_name": "ProgressStyleModel",
          "model_module_version": "1.5.0",
          "state": {
            "_model_module": "@jupyter-widgets/controls",
            "_model_module_version": "1.5.0",
            "_model_name": "ProgressStyleModel",
            "_view_count": null,
            "_view_module": "@jupyter-widgets/base",
            "_view_module_version": "1.2.0",
            "_view_name": "StyleView",
            "bar_color": null,
            "description_width": ""
          }
        },
        "01d724f86c034803bb2035e62ff4acef": {
          "model_module": "@jupyter-widgets/base",
          "model_name": "LayoutModel",
          "model_module_version": "1.2.0",
          "state": {
            "_model_module": "@jupyter-widgets/base",
            "_model_module_version": "1.2.0",
            "_model_name": "LayoutModel",
            "_view_count": null,
            "_view_module": "@jupyter-widgets/base",
            "_view_module_version": "1.2.0",
            "_view_name": "LayoutView",
            "align_content": null,
            "align_items": null,
            "align_self": null,
            "border": null,
            "bottom": null,
            "display": null,
            "flex": null,
            "flex_flow": null,
            "grid_area": null,
            "grid_auto_columns": null,
            "grid_auto_flow": null,
            "grid_auto_rows": null,
            "grid_column": null,
            "grid_gap": null,
            "grid_row": null,
            "grid_template_areas": null,
            "grid_template_columns": null,
            "grid_template_rows": null,
            "height": null,
            "justify_content": null,
            "justify_items": null,
            "left": null,
            "margin": null,
            "max_height": null,
            "max_width": null,
            "min_height": null,
            "min_width": null,
            "object_fit": null,
            "object_position": null,
            "order": null,
            "overflow": null,
            "overflow_x": null,
            "overflow_y": null,
            "padding": null,
            "right": null,
            "top": null,
            "visibility": null,
            "width": null
          }
        },
        "d1beaf21401c41d1bd4157efbc24fb50": {
          "model_module": "@jupyter-widgets/controls",
          "model_name": "DescriptionStyleModel",
          "model_module_version": "1.5.0",
          "state": {
            "_model_module": "@jupyter-widgets/controls",
            "_model_module_version": "1.5.0",
            "_model_name": "DescriptionStyleModel",
            "_view_count": null,
            "_view_module": "@jupyter-widgets/base",
            "_view_module_version": "1.2.0",
            "_view_name": "StyleView",
            "description_width": ""
          }
        }
      }
    }
  },
  "nbformat": 4,
  "nbformat_minor": 0
}